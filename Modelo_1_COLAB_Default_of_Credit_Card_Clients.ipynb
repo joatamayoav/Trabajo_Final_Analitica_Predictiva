{
  "nbformat": 4,
  "nbformat_minor": 0,
  "metadata": {
    "colab": {
      "name": "Modelo 1 - COLAB: Default of Credit Card Clients.ipynb",
      "provenance": [],
      "collapsed_sections": [],
      "toc_visible": true
    },
    "kernelspec": {
      "display_name": "Python 3",
      "language": "python",
      "name": "python3"
    },
    "language_info": {
      "codemirror_mode": {
        "name": "ipython",
        "version": 3
      },
      "file_extension": ".py",
      "mimetype": "text/x-python",
      "name": "python",
      "nbconvert_exporter": "python",
      "pygments_lexer": "ipython3",
      "version": "3.7.4"
    }
  },
  "cells": [
    {
      "cell_type": "markdown",
      "metadata": {
        "id": "5mpQZ0DXuiGq"
      },
      "source": [
        "## Default of Credit Card Clients"
      ]
    },
    {
      "cell_type": "markdown",
      "metadata": {
        "id": "dFkIaYRguiG6"
      },
      "source": [
        "Dataset\n",
        "\n",
        "This dataset contains information on default payments, demographic factors, credit data, history of payment, and bill statements of credit card clients in Taiwan from April 2005 to September 2005.\n",
        "\n",
        "Content\n",
        "There are 25 variables:\n",
        "\n",
        "ID: ID of each client\n",
        "\n",
        "LIMIT_BAL: Amount of given credit in NT dollars (includes individual and family/supplementary credit\n",
        "\n",
        "SEX: Gender (1=male, 2=female)\n",
        "\n",
        "EDUCATION: (1=graduate school, 2=university, 3=high school, 4=others)\n",
        "\n",
        "MARRIAGE: Marital status (1=married, 2=single, 3=others)\n",
        "\n",
        "AGE: Age in years\n",
        "\n",
        "PAY_0: Repayment status in September, 2005 (-1=pay duly, 1=payment delay for one month, 2=payment delay for two months, ... 8=payment delay for eight months, 9=payment delay for nine months and above)\n",
        "\n",
        "PAY_2: Repayment status in August, 2005 (scale same as above)\n",
        "\n",
        "PAY_3: Repayment status in July, 2005 (scale same as above)\n",
        "\n",
        "PAY_4: Repayment status in June, 2005 (scale same as above)\n",
        "\n",
        "PAY_5: Repayment status in May, 2005 (scale same as above)\n",
        "\n",
        "PAY_6: Repayment status in April, 2005 (scale same as above)\n",
        "\n",
        "BILL_AMT1: Amount of bill statement in September, 2005 (NT dollar)\n",
        "\n",
        "BILL_AMT2: Amount of bill statement in August, 2005 (NT dollar)\n",
        "\n",
        "BILL_AMT3: Amount of bill statement in July, 2005 (NT dollar)\n",
        "\n",
        "BILL_AMT4: Amount of bill statement in June, 2005 (NT dollar)\n",
        "\n",
        "BILL_AMT5: Amount of bill statement in May, 2005 (NT dollar)\n",
        "\n",
        "BILL_AMT6: Amount of bill statement in April, 2005 (NT dollar)\n",
        "\n",
        "PAY_AMT1: Amount of previous payment in September, 2005 (NT dollar)\n",
        "\n",
        "PAY_AMT2: Amount of previous payment in August, 2005 (NT dollar)\n",
        "\n",
        "PAY_AMT3: Amount of previous payment in July, 2005 (NT dollar)\n",
        "\n",
        "PAY_AMT4: Amount of previous payment in June, 2005 (NT dollar)\n",
        "\n",
        "PAY_AMT5: Amount of previous payment in May, 2005 (NT dollar)\n",
        "\n",
        "PAY_AMT6: Amount of previous payment in April, 2005 (NT dollar)\n",
        "\n",
        "default.payment.next.month: Default payment (1=yes, 0=no)"
      ]
    },
    {
      "cell_type": "markdown",
      "metadata": {
        "id": "Xqz35JALuiG9"
      },
      "source": [
        "## Importación de Librerias "
      ]
    },
    {
      "cell_type": "code",
      "metadata": {
        "colab": {
          "base_uri": "https://localhost:8080/"
        },
        "id": "KjuyoMq_uiG-",
        "outputId": "c4e380ad-9c1b-4654-e023-29c6eae4a0d6"
      },
      "source": [
        "!pip install imbalanced-learn\n",
        "!pip install joblib\n",
        "!pip install pydotplus\n",
        "!pip install pydot\n",
        "!pip install graphviz\n",
        "!pip install Pillow\n",
        "!pip install Image\n",
        "\n",
        "import numpy as np\n",
        "import matplotlib.pyplot as plt\n",
        "import seaborn as sns\n",
        "import pandas as pd\n",
        "import itertools\n",
        "from datetime import datetime \n",
        "import time\n",
        "import sys\n",
        "import warnings\n",
        "warnings.filterwarnings(\"ignore\")\n",
        "%matplotlib inline\n",
        "from sklearn.model_selection import train_test_split\n",
        "from sklearn.metrics import accuracy_score, precision_score, recall_score, roc_auc_score, confusion_matrix, precision_recall_curve, f1_score, r2_score, mean_absolute_error, mean_squared_error\n",
        "from sklearn.preprocessing import RobustScaler\n",
        "from sklearn.metrics import classification_report\n",
        "from sklearn.linear_model import SGDClassifier\n",
        "from sklearn.model_selection import GridSearchCV"
      ],
      "execution_count": 1,
      "outputs": [
        {
          "output_type": "stream",
          "text": [
            "Requirement already satisfied: imbalanced-learn in /usr/local/lib/python3.7/dist-packages (0.4.3)\n",
            "Requirement already satisfied: scipy>=0.13.3 in /usr/local/lib/python3.7/dist-packages (from imbalanced-learn) (1.4.1)\n",
            "Requirement already satisfied: numpy>=1.8.2 in /usr/local/lib/python3.7/dist-packages (from imbalanced-learn) (1.19.5)\n",
            "Requirement already satisfied: scikit-learn>=0.20 in /usr/local/lib/python3.7/dist-packages (from imbalanced-learn) (0.22.2.post1)\n",
            "Requirement already satisfied: joblib>=0.11 in /usr/local/lib/python3.7/dist-packages (from scikit-learn>=0.20->imbalanced-learn) (1.0.1)\n",
            "Requirement already satisfied: joblib in /usr/local/lib/python3.7/dist-packages (1.0.1)\n",
            "Requirement already satisfied: pydotplus in /usr/local/lib/python3.7/dist-packages (2.0.2)\n",
            "Requirement already satisfied: pyparsing>=2.0.1 in /usr/local/lib/python3.7/dist-packages (from pydotplus) (2.4.7)\n",
            "Requirement already satisfied: pydot in /usr/local/lib/python3.7/dist-packages (1.3.0)\n",
            "Requirement already satisfied: pyparsing>=2.1.4 in /usr/local/lib/python3.7/dist-packages (from pydot) (2.4.7)\n",
            "Requirement already satisfied: graphviz in /usr/local/lib/python3.7/dist-packages (0.10.1)\n",
            "Requirement already satisfied: Pillow in /usr/local/lib/python3.7/dist-packages (7.1.2)\n",
            "Collecting Image\n",
            "  Downloading https://files.pythonhosted.org/packages/84/be/961693ed384aa91bcc07525c90e3a34bc06c75f131655dfe21310234c933/image-1.5.33.tar.gz\n",
            "Requirement already satisfied: pillow in /usr/local/lib/python3.7/dist-packages (from Image) (7.1.2)\n",
            "Collecting django\n",
            "\u001b[?25l  Downloading https://files.pythonhosted.org/packages/89/69/c556b5b3e7a6701724485fc07c8349791e585b784dc70c9c0683d98ef0db/Django-3.2.3-py3-none-any.whl (7.9MB)\n",
            "\u001b[K     |████████████████████████████████| 7.9MB 18.6MB/s \n",
            "\u001b[?25hRequirement already satisfied: six in /usr/local/lib/python3.7/dist-packages (from Image) (1.15.0)\n",
            "Collecting asgiref<4,>=3.3.2\n",
            "  Downloading https://files.pythonhosted.org/packages/17/8b/05e225d11154b8f5358e6a6d277679c9741ec0339d1e451c9cef687a9170/asgiref-3.3.4-py3-none-any.whl\n",
            "Requirement already satisfied: pytz in /usr/local/lib/python3.7/dist-packages (from django->Image) (2018.9)\n",
            "Requirement already satisfied: sqlparse>=0.2.2 in /usr/local/lib/python3.7/dist-packages (from django->Image) (0.4.1)\n",
            "Requirement already satisfied: typing-extensions; python_version < \"3.8\" in /usr/local/lib/python3.7/dist-packages (from asgiref<4,>=3.3.2->django->Image) (3.7.4.3)\n",
            "Building wheels for collected packages: Image\n",
            "  Building wheel for Image (setup.py) ... \u001b[?25l\u001b[?25hdone\n",
            "  Created wheel for Image: filename=image-1.5.33-py2.py3-none-any.whl size=19482 sha256=ecd7334dcb885f04b3ad7c7a993a8ddf206b581c8322cb3756500e1495c17b1f\n",
            "  Stored in directory: /root/.cache/pip/wheels/87/4c/60/d5904e69c837fcdea7e03ffa0c657f35ced7e398c6f3ca17cc\n",
            "Successfully built Image\n",
            "Installing collected packages: asgiref, django, Image\n",
            "Successfully installed Image-1.5.33 asgiref-3.3.4 django-3.2.3\n"
          ],
          "name": "stdout"
        }
      ]
    },
    {
      "cell_type": "markdown",
      "metadata": {
        "id": "TMBvlNPKuiHB"
      },
      "source": [
        "## Carga Datos "
      ]
    },
    {
      "cell_type": "code",
      "metadata": {
        "colab": {
          "base_uri": "https://localhost:8080/",
          "height": 297
        },
        "id": "Dqo_2b_6uiHC",
        "outputId": "1a59364f-1703-4cae-83de-48eedfb00039"
      },
      "source": [
        "#Lectura del archivo en Github\n",
        "#Header: Identificación del primer registro como la cabecera de la base de datos\n",
        "#Index: Identificador unico de la base de datos\n",
        "#Visualización de 5 registros    \n",
        "df0 = pd.read_excel(r'https://github.com/joatamayoav/Trabajo_Final_Analitica_Predictiva/blob/1bd46e511fd7ae24cecde177b8a9424cef556717/Modelo%201%20-%20BD%20-%20Clientes%20en%20Default.xls?raw=true',\n",
        "     header=1,\n",
        "     index_col='ID'\n",
        "    )\n",
        "df0.head()"
      ],
      "execution_count": 2,
      "outputs": [
        {
          "output_type": "execute_result",
          "data": {
            "text/html": [
              "<div>\n",
              "<style scoped>\n",
              "    .dataframe tbody tr th:only-of-type {\n",
              "        vertical-align: middle;\n",
              "    }\n",
              "\n",
              "    .dataframe tbody tr th {\n",
              "        vertical-align: top;\n",
              "    }\n",
              "\n",
              "    .dataframe thead th {\n",
              "        text-align: right;\n",
              "    }\n",
              "</style>\n",
              "<table border=\"1\" class=\"dataframe\">\n",
              "  <thead>\n",
              "    <tr style=\"text-align: right;\">\n",
              "      <th></th>\n",
              "      <th>LIMIT_BAL</th>\n",
              "      <th>SEX</th>\n",
              "      <th>EDUCATION</th>\n",
              "      <th>MARRIAGE</th>\n",
              "      <th>AGE</th>\n",
              "      <th>PAY_0</th>\n",
              "      <th>PAY_2</th>\n",
              "      <th>PAY_3</th>\n",
              "      <th>PAY_4</th>\n",
              "      <th>PAY_5</th>\n",
              "      <th>PAY_6</th>\n",
              "      <th>BILL_AMT1</th>\n",
              "      <th>BILL_AMT2</th>\n",
              "      <th>BILL_AMT3</th>\n",
              "      <th>BILL_AMT4</th>\n",
              "      <th>BILL_AMT5</th>\n",
              "      <th>BILL_AMT6</th>\n",
              "      <th>PAY_AMT1</th>\n",
              "      <th>PAY_AMT2</th>\n",
              "      <th>PAY_AMT3</th>\n",
              "      <th>PAY_AMT4</th>\n",
              "      <th>PAY_AMT5</th>\n",
              "      <th>PAY_AMT6</th>\n",
              "      <th>default payment next month</th>\n",
              "    </tr>\n",
              "    <tr>\n",
              "      <th>ID</th>\n",
              "      <th></th>\n",
              "      <th></th>\n",
              "      <th></th>\n",
              "      <th></th>\n",
              "      <th></th>\n",
              "      <th></th>\n",
              "      <th></th>\n",
              "      <th></th>\n",
              "      <th></th>\n",
              "      <th></th>\n",
              "      <th></th>\n",
              "      <th></th>\n",
              "      <th></th>\n",
              "      <th></th>\n",
              "      <th></th>\n",
              "      <th></th>\n",
              "      <th></th>\n",
              "      <th></th>\n",
              "      <th></th>\n",
              "      <th></th>\n",
              "      <th></th>\n",
              "      <th></th>\n",
              "      <th></th>\n",
              "      <th></th>\n",
              "    </tr>\n",
              "  </thead>\n",
              "  <tbody>\n",
              "    <tr>\n",
              "      <th>1</th>\n",
              "      <td>20000</td>\n",
              "      <td>2</td>\n",
              "      <td>2</td>\n",
              "      <td>1</td>\n",
              "      <td>24</td>\n",
              "      <td>2</td>\n",
              "      <td>2</td>\n",
              "      <td>-1</td>\n",
              "      <td>-1</td>\n",
              "      <td>-2</td>\n",
              "      <td>-2</td>\n",
              "      <td>3913</td>\n",
              "      <td>3102</td>\n",
              "      <td>689</td>\n",
              "      <td>0</td>\n",
              "      <td>0</td>\n",
              "      <td>0</td>\n",
              "      <td>0</td>\n",
              "      <td>689</td>\n",
              "      <td>0</td>\n",
              "      <td>0</td>\n",
              "      <td>0</td>\n",
              "      <td>0</td>\n",
              "      <td>1</td>\n",
              "    </tr>\n",
              "    <tr>\n",
              "      <th>2</th>\n",
              "      <td>120000</td>\n",
              "      <td>2</td>\n",
              "      <td>2</td>\n",
              "      <td>2</td>\n",
              "      <td>26</td>\n",
              "      <td>-1</td>\n",
              "      <td>2</td>\n",
              "      <td>0</td>\n",
              "      <td>0</td>\n",
              "      <td>0</td>\n",
              "      <td>2</td>\n",
              "      <td>2682</td>\n",
              "      <td>1725</td>\n",
              "      <td>2682</td>\n",
              "      <td>3272</td>\n",
              "      <td>3455</td>\n",
              "      <td>3261</td>\n",
              "      <td>0</td>\n",
              "      <td>1000</td>\n",
              "      <td>1000</td>\n",
              "      <td>1000</td>\n",
              "      <td>0</td>\n",
              "      <td>2000</td>\n",
              "      <td>1</td>\n",
              "    </tr>\n",
              "    <tr>\n",
              "      <th>3</th>\n",
              "      <td>90000</td>\n",
              "      <td>2</td>\n",
              "      <td>2</td>\n",
              "      <td>2</td>\n",
              "      <td>34</td>\n",
              "      <td>0</td>\n",
              "      <td>0</td>\n",
              "      <td>0</td>\n",
              "      <td>0</td>\n",
              "      <td>0</td>\n",
              "      <td>0</td>\n",
              "      <td>29239</td>\n",
              "      <td>14027</td>\n",
              "      <td>13559</td>\n",
              "      <td>14331</td>\n",
              "      <td>14948</td>\n",
              "      <td>15549</td>\n",
              "      <td>1518</td>\n",
              "      <td>1500</td>\n",
              "      <td>1000</td>\n",
              "      <td>1000</td>\n",
              "      <td>1000</td>\n",
              "      <td>5000</td>\n",
              "      <td>0</td>\n",
              "    </tr>\n",
              "    <tr>\n",
              "      <th>4</th>\n",
              "      <td>50000</td>\n",
              "      <td>2</td>\n",
              "      <td>2</td>\n",
              "      <td>1</td>\n",
              "      <td>37</td>\n",
              "      <td>0</td>\n",
              "      <td>0</td>\n",
              "      <td>0</td>\n",
              "      <td>0</td>\n",
              "      <td>0</td>\n",
              "      <td>0</td>\n",
              "      <td>46990</td>\n",
              "      <td>48233</td>\n",
              "      <td>49291</td>\n",
              "      <td>28314</td>\n",
              "      <td>28959</td>\n",
              "      <td>29547</td>\n",
              "      <td>2000</td>\n",
              "      <td>2019</td>\n",
              "      <td>1200</td>\n",
              "      <td>1100</td>\n",
              "      <td>1069</td>\n",
              "      <td>1000</td>\n",
              "      <td>0</td>\n",
              "    </tr>\n",
              "    <tr>\n",
              "      <th>5</th>\n",
              "      <td>50000</td>\n",
              "      <td>1</td>\n",
              "      <td>2</td>\n",
              "      <td>1</td>\n",
              "      <td>57</td>\n",
              "      <td>-1</td>\n",
              "      <td>0</td>\n",
              "      <td>-1</td>\n",
              "      <td>0</td>\n",
              "      <td>0</td>\n",
              "      <td>0</td>\n",
              "      <td>8617</td>\n",
              "      <td>5670</td>\n",
              "      <td>35835</td>\n",
              "      <td>20940</td>\n",
              "      <td>19146</td>\n",
              "      <td>19131</td>\n",
              "      <td>2000</td>\n",
              "      <td>36681</td>\n",
              "      <td>10000</td>\n",
              "      <td>9000</td>\n",
              "      <td>689</td>\n",
              "      <td>679</td>\n",
              "      <td>0</td>\n",
              "    </tr>\n",
              "  </tbody>\n",
              "</table>\n",
              "</div>"
            ],
            "text/plain": [
              "    LIMIT_BAL  SEX  EDUCATION  ...  PAY_AMT5  PAY_AMT6  default payment next month\n",
              "ID                             ...                                                \n",
              "1       20000    2          2  ...         0         0                           1\n",
              "2      120000    2          2  ...         0      2000                           1\n",
              "3       90000    2          2  ...      1000      5000                           0\n",
              "4       50000    2          2  ...      1069      1000                           0\n",
              "5       50000    1          2  ...       689       679                           0\n",
              "\n",
              "[5 rows x 24 columns]"
            ]
          },
          "metadata": {
            "tags": []
          },
          "execution_count": 2
        }
      ]
    },
    {
      "cell_type": "code",
      "metadata": {
        "colab": {
          "base_uri": "https://localhost:8080/",
          "height": 264
        },
        "id": "EIlY7zGWuiHD",
        "outputId": "130a8aae-2c5e-421b-c5db-7343aacfee96"
      },
      "source": [
        "#Renombra variables en de mayúsculas a minúsculas\n",
        "#Cambiar variable y de \"default payment next month\" a \"Variable dependiente\"\n",
        "df0.rename(columns=lambda x: x.lower(), inplace=True)\n",
        "df0.rename(columns={\"default payment next month\":\"Variable dependiente\"}, inplace=True) \n",
        "df0.head()"
      ],
      "execution_count": 3,
      "outputs": [
        {
          "output_type": "execute_result",
          "data": {
            "text/html": [
              "<div>\n",
              "<style scoped>\n",
              "    .dataframe tbody tr th:only-of-type {\n",
              "        vertical-align: middle;\n",
              "    }\n",
              "\n",
              "    .dataframe tbody tr th {\n",
              "        vertical-align: top;\n",
              "    }\n",
              "\n",
              "    .dataframe thead th {\n",
              "        text-align: right;\n",
              "    }\n",
              "</style>\n",
              "<table border=\"1\" class=\"dataframe\">\n",
              "  <thead>\n",
              "    <tr style=\"text-align: right;\">\n",
              "      <th></th>\n",
              "      <th>limit_bal</th>\n",
              "      <th>sex</th>\n",
              "      <th>education</th>\n",
              "      <th>marriage</th>\n",
              "      <th>age</th>\n",
              "      <th>pay_0</th>\n",
              "      <th>pay_2</th>\n",
              "      <th>pay_3</th>\n",
              "      <th>pay_4</th>\n",
              "      <th>pay_5</th>\n",
              "      <th>pay_6</th>\n",
              "      <th>bill_amt1</th>\n",
              "      <th>bill_amt2</th>\n",
              "      <th>bill_amt3</th>\n",
              "      <th>bill_amt4</th>\n",
              "      <th>bill_amt5</th>\n",
              "      <th>bill_amt6</th>\n",
              "      <th>pay_amt1</th>\n",
              "      <th>pay_amt2</th>\n",
              "      <th>pay_amt3</th>\n",
              "      <th>pay_amt4</th>\n",
              "      <th>pay_amt5</th>\n",
              "      <th>pay_amt6</th>\n",
              "      <th>Variable dependiente</th>\n",
              "    </tr>\n",
              "    <tr>\n",
              "      <th>ID</th>\n",
              "      <th></th>\n",
              "      <th></th>\n",
              "      <th></th>\n",
              "      <th></th>\n",
              "      <th></th>\n",
              "      <th></th>\n",
              "      <th></th>\n",
              "      <th></th>\n",
              "      <th></th>\n",
              "      <th></th>\n",
              "      <th></th>\n",
              "      <th></th>\n",
              "      <th></th>\n",
              "      <th></th>\n",
              "      <th></th>\n",
              "      <th></th>\n",
              "      <th></th>\n",
              "      <th></th>\n",
              "      <th></th>\n",
              "      <th></th>\n",
              "      <th></th>\n",
              "      <th></th>\n",
              "      <th></th>\n",
              "      <th></th>\n",
              "    </tr>\n",
              "  </thead>\n",
              "  <tbody>\n",
              "    <tr>\n",
              "      <th>1</th>\n",
              "      <td>20000</td>\n",
              "      <td>2</td>\n",
              "      <td>2</td>\n",
              "      <td>1</td>\n",
              "      <td>24</td>\n",
              "      <td>2</td>\n",
              "      <td>2</td>\n",
              "      <td>-1</td>\n",
              "      <td>-1</td>\n",
              "      <td>-2</td>\n",
              "      <td>-2</td>\n",
              "      <td>3913</td>\n",
              "      <td>3102</td>\n",
              "      <td>689</td>\n",
              "      <td>0</td>\n",
              "      <td>0</td>\n",
              "      <td>0</td>\n",
              "      <td>0</td>\n",
              "      <td>689</td>\n",
              "      <td>0</td>\n",
              "      <td>0</td>\n",
              "      <td>0</td>\n",
              "      <td>0</td>\n",
              "      <td>1</td>\n",
              "    </tr>\n",
              "    <tr>\n",
              "      <th>2</th>\n",
              "      <td>120000</td>\n",
              "      <td>2</td>\n",
              "      <td>2</td>\n",
              "      <td>2</td>\n",
              "      <td>26</td>\n",
              "      <td>-1</td>\n",
              "      <td>2</td>\n",
              "      <td>0</td>\n",
              "      <td>0</td>\n",
              "      <td>0</td>\n",
              "      <td>2</td>\n",
              "      <td>2682</td>\n",
              "      <td>1725</td>\n",
              "      <td>2682</td>\n",
              "      <td>3272</td>\n",
              "      <td>3455</td>\n",
              "      <td>3261</td>\n",
              "      <td>0</td>\n",
              "      <td>1000</td>\n",
              "      <td>1000</td>\n",
              "      <td>1000</td>\n",
              "      <td>0</td>\n",
              "      <td>2000</td>\n",
              "      <td>1</td>\n",
              "    </tr>\n",
              "    <tr>\n",
              "      <th>3</th>\n",
              "      <td>90000</td>\n",
              "      <td>2</td>\n",
              "      <td>2</td>\n",
              "      <td>2</td>\n",
              "      <td>34</td>\n",
              "      <td>0</td>\n",
              "      <td>0</td>\n",
              "      <td>0</td>\n",
              "      <td>0</td>\n",
              "      <td>0</td>\n",
              "      <td>0</td>\n",
              "      <td>29239</td>\n",
              "      <td>14027</td>\n",
              "      <td>13559</td>\n",
              "      <td>14331</td>\n",
              "      <td>14948</td>\n",
              "      <td>15549</td>\n",
              "      <td>1518</td>\n",
              "      <td>1500</td>\n",
              "      <td>1000</td>\n",
              "      <td>1000</td>\n",
              "      <td>1000</td>\n",
              "      <td>5000</td>\n",
              "      <td>0</td>\n",
              "    </tr>\n",
              "    <tr>\n",
              "      <th>4</th>\n",
              "      <td>50000</td>\n",
              "      <td>2</td>\n",
              "      <td>2</td>\n",
              "      <td>1</td>\n",
              "      <td>37</td>\n",
              "      <td>0</td>\n",
              "      <td>0</td>\n",
              "      <td>0</td>\n",
              "      <td>0</td>\n",
              "      <td>0</td>\n",
              "      <td>0</td>\n",
              "      <td>46990</td>\n",
              "      <td>48233</td>\n",
              "      <td>49291</td>\n",
              "      <td>28314</td>\n",
              "      <td>28959</td>\n",
              "      <td>29547</td>\n",
              "      <td>2000</td>\n",
              "      <td>2019</td>\n",
              "      <td>1200</td>\n",
              "      <td>1100</td>\n",
              "      <td>1069</td>\n",
              "      <td>1000</td>\n",
              "      <td>0</td>\n",
              "    </tr>\n",
              "    <tr>\n",
              "      <th>5</th>\n",
              "      <td>50000</td>\n",
              "      <td>1</td>\n",
              "      <td>2</td>\n",
              "      <td>1</td>\n",
              "      <td>57</td>\n",
              "      <td>-1</td>\n",
              "      <td>0</td>\n",
              "      <td>-1</td>\n",
              "      <td>0</td>\n",
              "      <td>0</td>\n",
              "      <td>0</td>\n",
              "      <td>8617</td>\n",
              "      <td>5670</td>\n",
              "      <td>35835</td>\n",
              "      <td>20940</td>\n",
              "      <td>19146</td>\n",
              "      <td>19131</td>\n",
              "      <td>2000</td>\n",
              "      <td>36681</td>\n",
              "      <td>10000</td>\n",
              "      <td>9000</td>\n",
              "      <td>689</td>\n",
              "      <td>679</td>\n",
              "      <td>0</td>\n",
              "    </tr>\n",
              "  </tbody>\n",
              "</table>\n",
              "</div>"
            ],
            "text/plain": [
              "    limit_bal  sex  education  ...  pay_amt5  pay_amt6  Variable dependiente\n",
              "ID                             ...                                          \n",
              "1       20000    2          2  ...         0         0                     1\n",
              "2      120000    2          2  ...         0      2000                     1\n",
              "3       90000    2          2  ...      1000      5000                     0\n",
              "4       50000    2          2  ...      1069      1000                     0\n",
              "5       50000    1          2  ...       689       679                     0\n",
              "\n",
              "[5 rows x 24 columns]"
            ]
          },
          "metadata": {
            "tags": []
          },
          "execution_count": 3
        }
      ]
    },
    {
      "cell_type": "code",
      "metadata": {
        "colab": {
          "base_uri": "https://localhost:8080/",
          "height": 264
        },
        "id": "eXiV_aAxuiHE",
        "outputId": "e7e6e706-03df-45d6-ebe6-d2fad360fdd6"
      },
      "source": [
        "# Se crea copia del Dataframe original para no dañarlo\n",
        "df = df0.copy()\n",
        "df.head()"
      ],
      "execution_count": 4,
      "outputs": [
        {
          "output_type": "execute_result",
          "data": {
            "text/html": [
              "<div>\n",
              "<style scoped>\n",
              "    .dataframe tbody tr th:only-of-type {\n",
              "        vertical-align: middle;\n",
              "    }\n",
              "\n",
              "    .dataframe tbody tr th {\n",
              "        vertical-align: top;\n",
              "    }\n",
              "\n",
              "    .dataframe thead th {\n",
              "        text-align: right;\n",
              "    }\n",
              "</style>\n",
              "<table border=\"1\" class=\"dataframe\">\n",
              "  <thead>\n",
              "    <tr style=\"text-align: right;\">\n",
              "      <th></th>\n",
              "      <th>limit_bal</th>\n",
              "      <th>sex</th>\n",
              "      <th>education</th>\n",
              "      <th>marriage</th>\n",
              "      <th>age</th>\n",
              "      <th>pay_0</th>\n",
              "      <th>pay_2</th>\n",
              "      <th>pay_3</th>\n",
              "      <th>pay_4</th>\n",
              "      <th>pay_5</th>\n",
              "      <th>pay_6</th>\n",
              "      <th>bill_amt1</th>\n",
              "      <th>bill_amt2</th>\n",
              "      <th>bill_amt3</th>\n",
              "      <th>bill_amt4</th>\n",
              "      <th>bill_amt5</th>\n",
              "      <th>bill_amt6</th>\n",
              "      <th>pay_amt1</th>\n",
              "      <th>pay_amt2</th>\n",
              "      <th>pay_amt3</th>\n",
              "      <th>pay_amt4</th>\n",
              "      <th>pay_amt5</th>\n",
              "      <th>pay_amt6</th>\n",
              "      <th>Variable dependiente</th>\n",
              "    </tr>\n",
              "    <tr>\n",
              "      <th>ID</th>\n",
              "      <th></th>\n",
              "      <th></th>\n",
              "      <th></th>\n",
              "      <th></th>\n",
              "      <th></th>\n",
              "      <th></th>\n",
              "      <th></th>\n",
              "      <th></th>\n",
              "      <th></th>\n",
              "      <th></th>\n",
              "      <th></th>\n",
              "      <th></th>\n",
              "      <th></th>\n",
              "      <th></th>\n",
              "      <th></th>\n",
              "      <th></th>\n",
              "      <th></th>\n",
              "      <th></th>\n",
              "      <th></th>\n",
              "      <th></th>\n",
              "      <th></th>\n",
              "      <th></th>\n",
              "      <th></th>\n",
              "      <th></th>\n",
              "    </tr>\n",
              "  </thead>\n",
              "  <tbody>\n",
              "    <tr>\n",
              "      <th>1</th>\n",
              "      <td>20000</td>\n",
              "      <td>2</td>\n",
              "      <td>2</td>\n",
              "      <td>1</td>\n",
              "      <td>24</td>\n",
              "      <td>2</td>\n",
              "      <td>2</td>\n",
              "      <td>-1</td>\n",
              "      <td>-1</td>\n",
              "      <td>-2</td>\n",
              "      <td>-2</td>\n",
              "      <td>3913</td>\n",
              "      <td>3102</td>\n",
              "      <td>689</td>\n",
              "      <td>0</td>\n",
              "      <td>0</td>\n",
              "      <td>0</td>\n",
              "      <td>0</td>\n",
              "      <td>689</td>\n",
              "      <td>0</td>\n",
              "      <td>0</td>\n",
              "      <td>0</td>\n",
              "      <td>0</td>\n",
              "      <td>1</td>\n",
              "    </tr>\n",
              "    <tr>\n",
              "      <th>2</th>\n",
              "      <td>120000</td>\n",
              "      <td>2</td>\n",
              "      <td>2</td>\n",
              "      <td>2</td>\n",
              "      <td>26</td>\n",
              "      <td>-1</td>\n",
              "      <td>2</td>\n",
              "      <td>0</td>\n",
              "      <td>0</td>\n",
              "      <td>0</td>\n",
              "      <td>2</td>\n",
              "      <td>2682</td>\n",
              "      <td>1725</td>\n",
              "      <td>2682</td>\n",
              "      <td>3272</td>\n",
              "      <td>3455</td>\n",
              "      <td>3261</td>\n",
              "      <td>0</td>\n",
              "      <td>1000</td>\n",
              "      <td>1000</td>\n",
              "      <td>1000</td>\n",
              "      <td>0</td>\n",
              "      <td>2000</td>\n",
              "      <td>1</td>\n",
              "    </tr>\n",
              "    <tr>\n",
              "      <th>3</th>\n",
              "      <td>90000</td>\n",
              "      <td>2</td>\n",
              "      <td>2</td>\n",
              "      <td>2</td>\n",
              "      <td>34</td>\n",
              "      <td>0</td>\n",
              "      <td>0</td>\n",
              "      <td>0</td>\n",
              "      <td>0</td>\n",
              "      <td>0</td>\n",
              "      <td>0</td>\n",
              "      <td>29239</td>\n",
              "      <td>14027</td>\n",
              "      <td>13559</td>\n",
              "      <td>14331</td>\n",
              "      <td>14948</td>\n",
              "      <td>15549</td>\n",
              "      <td>1518</td>\n",
              "      <td>1500</td>\n",
              "      <td>1000</td>\n",
              "      <td>1000</td>\n",
              "      <td>1000</td>\n",
              "      <td>5000</td>\n",
              "      <td>0</td>\n",
              "    </tr>\n",
              "    <tr>\n",
              "      <th>4</th>\n",
              "      <td>50000</td>\n",
              "      <td>2</td>\n",
              "      <td>2</td>\n",
              "      <td>1</td>\n",
              "      <td>37</td>\n",
              "      <td>0</td>\n",
              "      <td>0</td>\n",
              "      <td>0</td>\n",
              "      <td>0</td>\n",
              "      <td>0</td>\n",
              "      <td>0</td>\n",
              "      <td>46990</td>\n",
              "      <td>48233</td>\n",
              "      <td>49291</td>\n",
              "      <td>28314</td>\n",
              "      <td>28959</td>\n",
              "      <td>29547</td>\n",
              "      <td>2000</td>\n",
              "      <td>2019</td>\n",
              "      <td>1200</td>\n",
              "      <td>1100</td>\n",
              "      <td>1069</td>\n",
              "      <td>1000</td>\n",
              "      <td>0</td>\n",
              "    </tr>\n",
              "    <tr>\n",
              "      <th>5</th>\n",
              "      <td>50000</td>\n",
              "      <td>1</td>\n",
              "      <td>2</td>\n",
              "      <td>1</td>\n",
              "      <td>57</td>\n",
              "      <td>-1</td>\n",
              "      <td>0</td>\n",
              "      <td>-1</td>\n",
              "      <td>0</td>\n",
              "      <td>0</td>\n",
              "      <td>0</td>\n",
              "      <td>8617</td>\n",
              "      <td>5670</td>\n",
              "      <td>35835</td>\n",
              "      <td>20940</td>\n",
              "      <td>19146</td>\n",
              "      <td>19131</td>\n",
              "      <td>2000</td>\n",
              "      <td>36681</td>\n",
              "      <td>10000</td>\n",
              "      <td>9000</td>\n",
              "      <td>689</td>\n",
              "      <td>679</td>\n",
              "      <td>0</td>\n",
              "    </tr>\n",
              "  </tbody>\n",
              "</table>\n",
              "</div>"
            ],
            "text/plain": [
              "    limit_bal  sex  education  ...  pay_amt5  pay_amt6  Variable dependiente\n",
              "ID                             ...                                          \n",
              "1       20000    2          2  ...         0         0                     1\n",
              "2      120000    2          2  ...         0      2000                     1\n",
              "3       90000    2          2  ...      1000      5000                     0\n",
              "4       50000    2          2  ...      1069      1000                     0\n",
              "5       50000    1          2  ...       689       679                     0\n",
              "\n",
              "[5 rows x 24 columns]"
            ]
          },
          "metadata": {
            "tags": []
          },
          "execution_count": 4
        }
      ]
    },
    {
      "cell_type": "markdown",
      "metadata": {
        "id": "giHj2qh4uiHM"
      },
      "source": [
        "## Análisis Descriptivo"
      ]
    },
    {
      "cell_type": "code",
      "metadata": {
        "colab": {
          "base_uri": "https://localhost:8080/",
          "height": 786
        },
        "id": "UO6iIss2uiHN",
        "outputId": "0c063e6f-b01b-4367-b13f-e59fc076a952"
      },
      "source": [
        "#dtypes: Visualizar variables y tipo de variables de la data\n",
        "#df.shape: Cuantas variables y registros hay en la data\n",
        "#Estatidisticas básicas de la data\n",
        "print(df.dtypes)\n",
        "print(df.shape)\n",
        "df.describe()"
      ],
      "execution_count": 5,
      "outputs": [
        {
          "output_type": "stream",
          "text": [
            "limit_bal               int64\n",
            "sex                     int64\n",
            "education               int64\n",
            "marriage                int64\n",
            "age                     int64\n",
            "pay_0                   int64\n",
            "pay_2                   int64\n",
            "pay_3                   int64\n",
            "pay_4                   int64\n",
            "pay_5                   int64\n",
            "pay_6                   int64\n",
            "bill_amt1               int64\n",
            "bill_amt2               int64\n",
            "bill_amt3               int64\n",
            "bill_amt4               int64\n",
            "bill_amt5               int64\n",
            "bill_amt6               int64\n",
            "pay_amt1                int64\n",
            "pay_amt2                int64\n",
            "pay_amt3                int64\n",
            "pay_amt4                int64\n",
            "pay_amt5                int64\n",
            "pay_amt6                int64\n",
            "Variable dependiente    int64\n",
            "dtype: object\n",
            "(29601, 24)\n"
          ],
          "name": "stdout"
        },
        {
          "output_type": "execute_result",
          "data": {
            "text/html": [
              "<div>\n",
              "<style scoped>\n",
              "    .dataframe tbody tr th:only-of-type {\n",
              "        vertical-align: middle;\n",
              "    }\n",
              "\n",
              "    .dataframe tbody tr th {\n",
              "        vertical-align: top;\n",
              "    }\n",
              "\n",
              "    .dataframe thead th {\n",
              "        text-align: right;\n",
              "    }\n",
              "</style>\n",
              "<table border=\"1\" class=\"dataframe\">\n",
              "  <thead>\n",
              "    <tr style=\"text-align: right;\">\n",
              "      <th></th>\n",
              "      <th>limit_bal</th>\n",
              "      <th>sex</th>\n",
              "      <th>education</th>\n",
              "      <th>marriage</th>\n",
              "      <th>age</th>\n",
              "      <th>pay_0</th>\n",
              "      <th>pay_2</th>\n",
              "      <th>pay_3</th>\n",
              "      <th>pay_4</th>\n",
              "      <th>pay_5</th>\n",
              "      <th>pay_6</th>\n",
              "      <th>bill_amt1</th>\n",
              "      <th>bill_amt2</th>\n",
              "      <th>bill_amt3</th>\n",
              "      <th>bill_amt4</th>\n",
              "      <th>bill_amt5</th>\n",
              "      <th>bill_amt6</th>\n",
              "      <th>pay_amt1</th>\n",
              "      <th>pay_amt2</th>\n",
              "      <th>pay_amt3</th>\n",
              "      <th>pay_amt4</th>\n",
              "      <th>pay_amt5</th>\n",
              "      <th>pay_amt6</th>\n",
              "      <th>Variable dependiente</th>\n",
              "    </tr>\n",
              "  </thead>\n",
              "  <tbody>\n",
              "    <tr>\n",
              "      <th>count</th>\n",
              "      <td>29601.000000</td>\n",
              "      <td>29601.000000</td>\n",
              "      <td>29601.000000</td>\n",
              "      <td>29601.000000</td>\n",
              "      <td>29601.000000</td>\n",
              "      <td>29601.000000</td>\n",
              "      <td>29601.000000</td>\n",
              "      <td>29601.000000</td>\n",
              "      <td>29601.000000</td>\n",
              "      <td>29601.000000</td>\n",
              "      <td>29601.000000</td>\n",
              "      <td>29601.000000</td>\n",
              "      <td>29601.000000</td>\n",
              "      <td>2.960100e+04</td>\n",
              "      <td>29601.000000</td>\n",
              "      <td>29601.000000</td>\n",
              "      <td>29601.000000</td>\n",
              "      <td>29601.000000</td>\n",
              "      <td>2.960100e+04</td>\n",
              "      <td>29601.000000</td>\n",
              "      <td>29601.000000</td>\n",
              "      <td>29601.000000</td>\n",
              "      <td>29601.000000</td>\n",
              "      <td>29601.000000</td>\n",
              "    </tr>\n",
              "    <tr>\n",
              "      <th>mean</th>\n",
              "      <td>167550.544914</td>\n",
              "      <td>1.603189</td>\n",
              "      <td>1.815479</td>\n",
              "      <td>1.555454</td>\n",
              "      <td>35.464072</td>\n",
              "      <td>-0.014932</td>\n",
              "      <td>-0.131313</td>\n",
              "      <td>-0.163440</td>\n",
              "      <td>-0.218303</td>\n",
              "      <td>-0.263978</td>\n",
              "      <td>-0.287558</td>\n",
              "      <td>50957.432012</td>\n",
              "      <td>48942.189554</td>\n",
              "      <td>4.680320e+04</td>\n",
              "      <td>43122.554204</td>\n",
              "      <td>40235.545184</td>\n",
              "      <td>38858.449816</td>\n",
              "      <td>5649.560319</td>\n",
              "      <td>5.894788e+03</td>\n",
              "      <td>5198.415898</td>\n",
              "      <td>4828.659268</td>\n",
              "      <td>4795.032735</td>\n",
              "      <td>5181.326374</td>\n",
              "      <td>0.223134</td>\n",
              "    </tr>\n",
              "    <tr>\n",
              "      <th>std</th>\n",
              "      <td>129944.020953</td>\n",
              "      <td>0.489244</td>\n",
              "      <td>0.710399</td>\n",
              "      <td>0.518092</td>\n",
              "      <td>9.213243</td>\n",
              "      <td>1.124503</td>\n",
              "      <td>1.199642</td>\n",
              "      <td>1.199793</td>\n",
              "      <td>1.172220</td>\n",
              "      <td>1.136217</td>\n",
              "      <td>1.152206</td>\n",
              "      <td>73370.242404</td>\n",
              "      <td>70923.985151</td>\n",
              "      <td>6.912389e+04</td>\n",
              "      <td>64196.383913</td>\n",
              "      <td>60699.344884</td>\n",
              "      <td>59519.893043</td>\n",
              "      <td>16568.264941</td>\n",
              "      <td>2.308919e+04</td>\n",
              "      <td>17580.914806</td>\n",
              "      <td>15711.057992</td>\n",
              "      <td>15244.217154</td>\n",
              "      <td>17657.260739</td>\n",
              "      <td>0.416355</td>\n",
              "    </tr>\n",
              "    <tr>\n",
              "      <th>min</th>\n",
              "      <td>10000.000000</td>\n",
              "      <td>1.000000</td>\n",
              "      <td>1.000000</td>\n",
              "      <td>1.000000</td>\n",
              "      <td>21.000000</td>\n",
              "      <td>-2.000000</td>\n",
              "      <td>-2.000000</td>\n",
              "      <td>-2.000000</td>\n",
              "      <td>-2.000000</td>\n",
              "      <td>-2.000000</td>\n",
              "      <td>-2.000000</td>\n",
              "      <td>-165580.000000</td>\n",
              "      <td>-69777.000000</td>\n",
              "      <td>-1.572640e+05</td>\n",
              "      <td>-170000.000000</td>\n",
              "      <td>-81334.000000</td>\n",
              "      <td>-339603.000000</td>\n",
              "      <td>0.000000</td>\n",
              "      <td>0.000000e+00</td>\n",
              "      <td>0.000000</td>\n",
              "      <td>0.000000</td>\n",
              "      <td>0.000000</td>\n",
              "      <td>0.000000</td>\n",
              "      <td>0.000000</td>\n",
              "    </tr>\n",
              "    <tr>\n",
              "      <th>25%</th>\n",
              "      <td>50000.000000</td>\n",
              "      <td>1.000000</td>\n",
              "      <td>1.000000</td>\n",
              "      <td>1.000000</td>\n",
              "      <td>28.000000</td>\n",
              "      <td>-1.000000</td>\n",
              "      <td>-1.000000</td>\n",
              "      <td>-1.000000</td>\n",
              "      <td>-1.000000</td>\n",
              "      <td>-1.000000</td>\n",
              "      <td>-1.000000</td>\n",
              "      <td>3528.000000</td>\n",
              "      <td>2970.000000</td>\n",
              "      <td>2.652000e+03</td>\n",
              "      <td>2329.000000</td>\n",
              "      <td>1780.000000</td>\n",
              "      <td>1278.000000</td>\n",
              "      <td>1000.000000</td>\n",
              "      <td>8.250000e+02</td>\n",
              "      <td>390.000000</td>\n",
              "      <td>298.000000</td>\n",
              "      <td>259.000000</td>\n",
              "      <td>138.000000</td>\n",
              "      <td>0.000000</td>\n",
              "    </tr>\n",
              "    <tr>\n",
              "      <th>50%</th>\n",
              "      <td>140000.000000</td>\n",
              "      <td>2.000000</td>\n",
              "      <td>2.000000</td>\n",
              "      <td>2.000000</td>\n",
              "      <td>34.000000</td>\n",
              "      <td>0.000000</td>\n",
              "      <td>0.000000</td>\n",
              "      <td>0.000000</td>\n",
              "      <td>0.000000</td>\n",
              "      <td>0.000000</td>\n",
              "      <td>0.000000</td>\n",
              "      <td>22259.000000</td>\n",
              "      <td>21050.000000</td>\n",
              "      <td>2.003500e+04</td>\n",
              "      <td>19005.000000</td>\n",
              "      <td>18091.000000</td>\n",
              "      <td>17118.000000</td>\n",
              "      <td>2100.000000</td>\n",
              "      <td>2.007000e+03</td>\n",
              "      <td>1800.000000</td>\n",
              "      <td>1500.000000</td>\n",
              "      <td>1500.000000</td>\n",
              "      <td>1500.000000</td>\n",
              "      <td>0.000000</td>\n",
              "    </tr>\n",
              "    <tr>\n",
              "      <th>75%</th>\n",
              "      <td>240000.000000</td>\n",
              "      <td>2.000000</td>\n",
              "      <td>2.000000</td>\n",
              "      <td>2.000000</td>\n",
              "      <td>41.000000</td>\n",
              "      <td>0.000000</td>\n",
              "      <td>0.000000</td>\n",
              "      <td>0.000000</td>\n",
              "      <td>0.000000</td>\n",
              "      <td>0.000000</td>\n",
              "      <td>0.000000</td>\n",
              "      <td>66623.000000</td>\n",
              "      <td>63497.000000</td>\n",
              "      <td>5.983000e+04</td>\n",
              "      <td>54271.000000</td>\n",
              "      <td>50072.000000</td>\n",
              "      <td>49121.000000</td>\n",
              "      <td>5005.000000</td>\n",
              "      <td>5.000000e+03</td>\n",
              "      <td>4500.000000</td>\n",
              "      <td>4014.000000</td>\n",
              "      <td>4042.000000</td>\n",
              "      <td>4000.000000</td>\n",
              "      <td>0.000000</td>\n",
              "    </tr>\n",
              "    <tr>\n",
              "      <th>max</th>\n",
              "      <td>1000000.000000</td>\n",
              "      <td>2.000000</td>\n",
              "      <td>4.000000</td>\n",
              "      <td>3.000000</td>\n",
              "      <td>79.000000</td>\n",
              "      <td>8.000000</td>\n",
              "      <td>8.000000</td>\n",
              "      <td>8.000000</td>\n",
              "      <td>8.000000</td>\n",
              "      <td>8.000000</td>\n",
              "      <td>8.000000</td>\n",
              "      <td>964511.000000</td>\n",
              "      <td>983931.000000</td>\n",
              "      <td>1.664089e+06</td>\n",
              "      <td>891586.000000</td>\n",
              "      <td>927171.000000</td>\n",
              "      <td>961664.000000</td>\n",
              "      <td>873552.000000</td>\n",
              "      <td>1.684259e+06</td>\n",
              "      <td>896040.000000</td>\n",
              "      <td>621000.000000</td>\n",
              "      <td>426529.000000</td>\n",
              "      <td>528666.000000</td>\n",
              "      <td>1.000000</td>\n",
              "    </tr>\n",
              "  </tbody>\n",
              "</table>\n",
              "</div>"
            ],
            "text/plain": [
              "            limit_bal           sex  ...       pay_amt6  Variable dependiente\n",
              "count    29601.000000  29601.000000  ...   29601.000000          29601.000000\n",
              "mean    167550.544914      1.603189  ...    5181.326374              0.223134\n",
              "std     129944.020953      0.489244  ...   17657.260739              0.416355\n",
              "min      10000.000000      1.000000  ...       0.000000              0.000000\n",
              "25%      50000.000000      1.000000  ...     138.000000              0.000000\n",
              "50%     140000.000000      2.000000  ...    1500.000000              0.000000\n",
              "75%     240000.000000      2.000000  ...    4000.000000              0.000000\n",
              "max    1000000.000000      2.000000  ...  528666.000000              1.000000\n",
              "\n",
              "[8 rows x 24 columns]"
            ]
          },
          "metadata": {
            "tags": []
          },
          "execution_count": 5
        }
      ]
    },
    {
      "cell_type": "markdown",
      "metadata": {
        "id": "khs9qEYyuiHP"
      },
      "source": [
        "## Análisis Exploratorio"
      ]
    },
    {
      "cell_type": "code",
      "metadata": {
        "colab": {
          "base_uri": "https://localhost:8080/",
          "height": 144
        },
        "id": "B9p_xT4fuiHQ",
        "outputId": "2c1bbaae-558a-464d-9245-39b3ee763282"
      },
      "source": [
        "# Identificación de nulos por variable\n",
        "total = df.isnull().sum().sort_values(ascending = False)\n",
        "percent = (df.isnull().sum()/df.isnull().count()*100).sort_values(ascending = False)\n",
        "pd.concat([total, percent], axis=1, keys=['Total', 'Percent']).transpose()"
      ],
      "execution_count": 6,
      "outputs": [
        {
          "output_type": "execute_result",
          "data": {
            "text/html": [
              "<div>\n",
              "<style scoped>\n",
              "    .dataframe tbody tr th:only-of-type {\n",
              "        vertical-align: middle;\n",
              "    }\n",
              "\n",
              "    .dataframe tbody tr th {\n",
              "        vertical-align: top;\n",
              "    }\n",
              "\n",
              "    .dataframe thead th {\n",
              "        text-align: right;\n",
              "    }\n",
              "</style>\n",
              "<table border=\"1\" class=\"dataframe\">\n",
              "  <thead>\n",
              "    <tr style=\"text-align: right;\">\n",
              "      <th></th>\n",
              "      <th>Variable dependiente</th>\n",
              "      <th>pay_amt6</th>\n",
              "      <th>sex</th>\n",
              "      <th>education</th>\n",
              "      <th>marriage</th>\n",
              "      <th>age</th>\n",
              "      <th>pay_0</th>\n",
              "      <th>pay_2</th>\n",
              "      <th>pay_3</th>\n",
              "      <th>pay_4</th>\n",
              "      <th>pay_5</th>\n",
              "      <th>pay_6</th>\n",
              "      <th>bill_amt1</th>\n",
              "      <th>bill_amt2</th>\n",
              "      <th>bill_amt3</th>\n",
              "      <th>bill_amt4</th>\n",
              "      <th>bill_amt5</th>\n",
              "      <th>bill_amt6</th>\n",
              "      <th>pay_amt1</th>\n",
              "      <th>pay_amt2</th>\n",
              "      <th>pay_amt3</th>\n",
              "      <th>pay_amt4</th>\n",
              "      <th>pay_amt5</th>\n",
              "      <th>limit_bal</th>\n",
              "    </tr>\n",
              "  </thead>\n",
              "  <tbody>\n",
              "    <tr>\n",
              "      <th>Total</th>\n",
              "      <td>0.0</td>\n",
              "      <td>0.0</td>\n",
              "      <td>0.0</td>\n",
              "      <td>0.0</td>\n",
              "      <td>0.0</td>\n",
              "      <td>0.0</td>\n",
              "      <td>0.0</td>\n",
              "      <td>0.0</td>\n",
              "      <td>0.0</td>\n",
              "      <td>0.0</td>\n",
              "      <td>0.0</td>\n",
              "      <td>0.0</td>\n",
              "      <td>0.0</td>\n",
              "      <td>0.0</td>\n",
              "      <td>0.0</td>\n",
              "      <td>0.0</td>\n",
              "      <td>0.0</td>\n",
              "      <td>0.0</td>\n",
              "      <td>0.0</td>\n",
              "      <td>0.0</td>\n",
              "      <td>0.0</td>\n",
              "      <td>0.0</td>\n",
              "      <td>0.0</td>\n",
              "      <td>0.0</td>\n",
              "    </tr>\n",
              "    <tr>\n",
              "      <th>Percent</th>\n",
              "      <td>0.0</td>\n",
              "      <td>0.0</td>\n",
              "      <td>0.0</td>\n",
              "      <td>0.0</td>\n",
              "      <td>0.0</td>\n",
              "      <td>0.0</td>\n",
              "      <td>0.0</td>\n",
              "      <td>0.0</td>\n",
              "      <td>0.0</td>\n",
              "      <td>0.0</td>\n",
              "      <td>0.0</td>\n",
              "      <td>0.0</td>\n",
              "      <td>0.0</td>\n",
              "      <td>0.0</td>\n",
              "      <td>0.0</td>\n",
              "      <td>0.0</td>\n",
              "      <td>0.0</td>\n",
              "      <td>0.0</td>\n",
              "      <td>0.0</td>\n",
              "      <td>0.0</td>\n",
              "      <td>0.0</td>\n",
              "      <td>0.0</td>\n",
              "      <td>0.0</td>\n",
              "      <td>0.0</td>\n",
              "    </tr>\n",
              "  </tbody>\n",
              "</table>\n",
              "</div>"
            ],
            "text/plain": [
              "         Variable dependiente  pay_amt6  sex  ...  pay_amt4  pay_amt5  limit_bal\n",
              "Total                     0.0       0.0  0.0  ...       0.0       0.0        0.0\n",
              "Percent                   0.0       0.0  0.0  ...       0.0       0.0        0.0\n",
              "\n",
              "[2 rows x 24 columns]"
            ]
          },
          "metadata": {
            "tags": []
          },
          "execution_count": 6
        }
      ]
    },
    {
      "cell_type": "code",
      "metadata": {
        "colab": {
          "base_uri": "https://localhost:8080/",
          "height": 294
        },
        "id": "b0y84SQCuiHR",
        "outputId": "1d75a751-f14f-42d5-d2d1-d2769210027c"
      },
      "source": [
        "# Creamos dataframe Variable dependiente se le asigna a df1\n",
        "# Dimensiones del plot (6,4)\n",
        "# Asignamos titulo\n",
        "# Definición de colores}\n",
        "# Se asigna la variables del gráfico x = Variable dependiente y y = conteo \n",
        "#\n",
        "temp = df[\"Variable dependiente\"].value_counts()\n",
        "df1 = pd.DataFrame({'Variable dependiente': temp.index,'values': temp.values})\n",
        "plt.figure(figsize = (6,4))\n",
        "plt.title('Balanceo de Variable dependiente')\n",
        "sns.set_color_codes(\"pastel\")\n",
        "graph = sns.barplot(x = 'Variable dependiente', y=\"values\", data=df1)\n",
        "for p in graph.patches:\n",
        "        graph.annotate('{:.0f}'.format(p.get_height()), (p.get_x()+0.4, p.get_height()),\n",
        "                    ha='center', va='bottom',\n",
        "                    color= 'black',\n",
        "                    xytext = (0, 0), \n",
        "                    textcoords = 'offset points'\n",
        "                    )\n",
        "locs, labels = plt.xticks()\n",
        "plt.show()"
      ],
      "execution_count": 7,
      "outputs": [
        {
          "output_type": "display_data",
          "data": {
            "image/png": "[encoded data removed]",
            "text/plain": [
              "<Figure size 432x288 with 1 Axes>"
            ]
          },
          "metadata": {
            "tags": [],
            "needs_background": "light"
          }
        }
      ]
    },
    {
      "cell_type": "markdown",
      "metadata": {
        "id": "YgFxeU0JuiHU"
      },
      "source": [
        "## Modelación"
      ]
    },
    {
      "cell_type": "markdown",
      "metadata": {
        "id": "hZBIF0RK5OqS"
      },
      "source": [
        "###  Definición Metricas del Modelo"
      ]
    },
    {
      "cell_type": "code",
      "metadata": {
        "colab": {
          "base_uri": "https://localhost:8080/",
          "height": 244
        },
        "id": "yNE23QkIuiHX",
        "outputId": "e66ab8b7-1048-4e30-b59e-eb42fa6f6d5c"
      },
      "source": [
        "# Definición del dataFrame de metricas\n",
        "metrics = pd.DataFrame(index=['accuracy', 'f1_score', 'precision', 'recall', 'roc_auc_score', 'Tiempo de ejecución'],\n",
        "                       columns=['BernoulliNB', 'GaussianNB', 'LogisticRegresion', 'kNN', 'DecisionTree', 'AdaBoost', 'RandomForest', 'GradientBoosting', 'RedesNeuronales' , 'SVMs'])\n",
        "metrics"
      ],
      "execution_count": 8,
      "outputs": [
        {
          "output_type": "execute_result",
          "data": {
            "text/html": [
              "<div>\n",
              "<style scoped>\n",
              "    .dataframe tbody tr th:only-of-type {\n",
              "        vertical-align: middle;\n",
              "    }\n",
              "\n",
              "    .dataframe tbody tr th {\n",
              "        vertical-align: top;\n",
              "    }\n",
              "\n",
              "    .dataframe thead th {\n",
              "        text-align: right;\n",
              "    }\n",
              "</style>\n",
              "<table border=\"1\" class=\"dataframe\">\n",
              "  <thead>\n",
              "    <tr style=\"text-align: right;\">\n",
              "      <th></th>\n",
              "      <th>BernoulliNB</th>\n",
              "      <th>GaussianNB</th>\n",
              "      <th>LogisticRegresion</th>\n",
              "      <th>kNN</th>\n",
              "      <th>DecisionTree</th>\n",
              "      <th>AdaBoost</th>\n",
              "      <th>RandomForest</th>\n",
              "      <th>GradientBoosting</th>\n",
              "      <th>RedesNeuronales</th>\n",
              "      <th>SVMs</th>\n",
              "    </tr>\n",
              "  </thead>\n",
              "  <tbody>\n",
              "    <tr>\n",
              "      <th>accuracy</th>\n",
              "      <td>NaN</td>\n",
              "      <td>NaN</td>\n",
              "      <td>NaN</td>\n",
              "      <td>NaN</td>\n",
              "      <td>NaN</td>\n",
              "      <td>NaN</td>\n",
              "      <td>NaN</td>\n",
              "      <td>NaN</td>\n",
              "      <td>NaN</td>\n",
              "      <td>NaN</td>\n",
              "    </tr>\n",
              "    <tr>\n",
              "      <th>f1_score</th>\n",
              "      <td>NaN</td>\n",
              "      <td>NaN</td>\n",
              "      <td>NaN</td>\n",
              "      <td>NaN</td>\n",
              "      <td>NaN</td>\n",
              "      <td>NaN</td>\n",
              "      <td>NaN</td>\n",
              "      <td>NaN</td>\n",
              "      <td>NaN</td>\n",
              "      <td>NaN</td>\n",
              "    </tr>\n",
              "    <tr>\n",
              "      <th>precision</th>\n",
              "      <td>NaN</td>\n",
              "      <td>NaN</td>\n",
              "      <td>NaN</td>\n",
              "      <td>NaN</td>\n",
              "      <td>NaN</td>\n",
              "      <td>NaN</td>\n",
              "      <td>NaN</td>\n",
              "      <td>NaN</td>\n",
              "      <td>NaN</td>\n",
              "      <td>NaN</td>\n",
              "    </tr>\n",
              "    <tr>\n",
              "      <th>recall</th>\n",
              "      <td>NaN</td>\n",
              "      <td>NaN</td>\n",
              "      <td>NaN</td>\n",
              "      <td>NaN</td>\n",
              "      <td>NaN</td>\n",
              "      <td>NaN</td>\n",
              "      <td>NaN</td>\n",
              "      <td>NaN</td>\n",
              "      <td>NaN</td>\n",
              "      <td>NaN</td>\n",
              "    </tr>\n",
              "    <tr>\n",
              "      <th>roc_auc_score</th>\n",
              "      <td>NaN</td>\n",
              "      <td>NaN</td>\n",
              "      <td>NaN</td>\n",
              "      <td>NaN</td>\n",
              "      <td>NaN</td>\n",
              "      <td>NaN</td>\n",
              "      <td>NaN</td>\n",
              "      <td>NaN</td>\n",
              "      <td>NaN</td>\n",
              "      <td>NaN</td>\n",
              "    </tr>\n",
              "    <tr>\n",
              "      <th>Tiempo de ejecución</th>\n",
              "      <td>NaN</td>\n",
              "      <td>NaN</td>\n",
              "      <td>NaN</td>\n",
              "      <td>NaN</td>\n",
              "      <td>NaN</td>\n",
              "      <td>NaN</td>\n",
              "      <td>NaN</td>\n",
              "      <td>NaN</td>\n",
              "      <td>NaN</td>\n",
              "      <td>NaN</td>\n",
              "    </tr>\n",
              "  </tbody>\n",
              "</table>\n",
              "</div>"
            ],
            "text/plain": [
              "                    BernoulliNB GaussianNB  ... RedesNeuronales SVMs\n",
              "accuracy                    NaN        NaN  ...             NaN  NaN\n",
              "f1_score                    NaN        NaN  ...             NaN  NaN\n",
              "precision                   NaN        NaN  ...             NaN  NaN\n",
              "recall                      NaN        NaN  ...             NaN  NaN\n",
              "roc_auc_score               NaN        NaN  ...             NaN  NaN\n",
              "Tiempo de ejecución         NaN        NaN  ...             NaN  NaN\n",
              "\n",
              "[6 rows x 10 columns]"
            ]
          },
          "metadata": {
            "tags": []
          },
          "execution_count": 8
        }
      ]
    },
    {
      "cell_type": "markdown",
      "metadata": {
        "id": "zkAdSeYF42SL"
      },
      "source": [
        "###  Definición Gráfica del Modelo"
      ]
    },
    {
      "cell_type": "code",
      "metadata": {
        "id": "_U4HRcBiuiHW"
      },
      "source": [
        "# Creación de la matriz de confusión\n",
        "# Se define la función \"plot_confusion_matrix\" se le asignan variables y parametros a imprimir\n",
        "# La primera parte del codigo que se identifica con las siglas plt es para configuración de variables y aspecto de grafico \n",
        "# Por ejemplo: plt.imshow: define el grado de difuminasión del grafico de confusión\n",
        "# En el for se hace la identificación de positivos, de negativos, falsos positivos y falsos negativos y se asigna colores para dichas variables\n",
        "# Se condigura el gráfico conforme a x y y label\n",
        "\n",
        "def plot_confusion_matrix(cm, title='Confusion matrix', cmap=plt.cm.Greys):\n",
        "    plt.imshow(cm, interpolation='nearest', cmap=cmap)\n",
        "    plt.title(title)\n",
        "    plt.colorbar()\n",
        "    tick_marks = np.arange(cm.shape[1])\n",
        "    plt.xticks(tick_marks, rotation=0)\n",
        "    ax = plt.gca()\n",
        "    ax.set_xticklabels((ax.get_xticks()+0).astype(str))\n",
        "    plt.yticks(tick_marks)\n",
        "\n",
        "    thresh = cm.max() / 2.\n",
        "    for i, j in itertools.product(range(cm.shape[0]), range(cm.shape[1])):\n",
        "        plt.text(j, i, format(cm[i, j], '.0f'),\n",
        "                 horizontalalignment=\"center\",\n",
        "                 color=\"white\" if cm[i, j] > thresh else \"black\")\n",
        "\n",
        "    plt.tight_layout()\n",
        "    plt.ylabel('True label')\n",
        "    plt.xlabel('Predicted label')   "
      ],
      "execution_count": 9,
      "outputs": []
    },
    {
      "cell_type": "markdown",
      "metadata": {
        "id": "2An0bYZZuiHY"
      },
      "source": [
        "### Conjuntos de Entrenamiento y Prueba "
      ]
    },
    {
      "cell_type": "code",
      "metadata": {
        "id": "ea6nOx10uiHZ"
      },
      "source": [
        "# Se define la variable Dependientes\n",
        "# Elimina variable dependiente para entrenar\n",
        "# Se aplica el RobustScaler para transformar las variables del modelo y hacer el fit\n",
        "# Se define el proporción de el tamaño del datatest y numero minimo de iteraciones y la variable dependiente del Modelo \n",
        "target = 'Variable dependiente'\n",
        "X = df.drop('Variable dependiente', axis = 1)\n",
        "robust_scaler = RobustScaler()\n",
        "X = robust_scaler.fit_transform(X)\n",
        "Y = df[target]\n",
        "X_train, X_test, y_train, y_test = train_test_split(X,Y,test_size=0.2, random_state=100, stratify=Y)\n"
      ],
      "execution_count": 10,
      "outputs": []
    },
    {
      "cell_type": "markdown",
      "metadata": {
        "id": "TPC-G-4QuiHa"
      },
      "source": [
        "### BernoulliNB "
      ]
    },
    {
      "cell_type": "code",
      "metadata": {
        "id": "eSEd2ffluiHa"
      },
      "source": [
        "# Se importa la libreria de modelo correspondiente\n",
        "from sklearn.naive_bayes import BernoulliNB\n",
        "\n",
        "\n",
        "#\n",
        "# Se crean los parametros correspondientes al modelo, esto con el objetivo de optimizarlos por medio de la librería GridSearchCV\n",
        "parameters = [{'alpha':np.linspace(0.0,1,5),'binarize':np.linspace(0.0,1,5),'fit_prior': [\"True\",\"False\"]}]\n",
        "# Se ejecuta la librería GridSearchCV\n",
        "gnb = GridSearchCV(\n",
        "    BernoulliNB(),\n",
        "    parameters,\n",
        "    cv=4\n",
        ")\n",
        "# Entrenamiento del modelo y selección de la combinación óptima de parámetros\n",
        "gnb.fit(X_train, y_train)\n",
        "y_pred_test = gnb.predict(X_test)\n",
        "# Evaluación para matriz de confusión\n",
        "y_test = np.asarray(y_test)\n",
        "y_pred_test = np.asarray(y_pred_test)\n",
        "# Calculo del tiempo en ejecución y definición de metricas\n",
        "start_time = time.time()\n",
        "metrics.loc['accuracy','BernoulliNB'] = accuracy_score(y_pred=y_pred_test, y_true=y_test)\n",
        "metrics.loc['f1_score','BernoulliNB'] = f1_score(y_pred=y_pred_test, y_true=y_test)\n",
        "metrics.loc['precision','BernoulliNB'] = precision_score(y_pred=y_pred_test, y_true=y_test)\n",
        "metrics.loc['recall','BernoulliNB'] = recall_score(y_pred=y_pred_test, y_true=y_test)\n",
        "metrics.loc['roc_auc_score','BernoulliNB'] = roc_auc_score(y_pred_test, y_test)\n",
        "metrics.loc['Tiempo de ejecución','BernoulliNB'] = (time.time() - start_time)\n"
      ],
      "execution_count": 11,
      "outputs": []
    },
    {
      "cell_type": "code",
      "metadata": {
        "colab": {
          "base_uri": "https://localhost:8080/",
          "height": 311
        },
        "id": "SfPFX4TtPas8",
        "outputId": "958b4198-323a-4142-f75e-d99b5205720f"
      },
      "source": [
        "#Reporte de Matriz de Confusión Modelo BernoulliNB\n",
        "CM_BernoulliNB = confusion_matrix(y_pred=y_pred_test, y_true=y_test)\n",
        "plot = (plot_confusion_matrix(CM_BernoulliNB))"
      ],
      "execution_count": 12,
      "outputs": [
        {
          "output_type": "display_data",
          "data": {
            "image/png": "[encoded data removed]",
            "text/plain": [
              "<Figure size 432x288 with 2 Axes>"
            ]
          },
          "metadata": {
            "tags": [],
            "needs_background": "light"
          }
        }
      ]
    },
    {
      "cell_type": "code",
      "metadata": {
        "colab": {
          "base_uri": "https://localhost:8080/"
        },
        "id": "L14x8x82ZCR9",
        "outputId": "66e68616-5f3a-4589-91ce-16d97610a7ee"
      },
      "source": [
        "from sklearn.model_selection import cross_val_score\n",
        "scores = cross_val_score(gnb, X, Y, cv=5)\n",
        "scores\n",
        "\n",
        "print(\"%0.2f accuracy with a standard deviation of %0.2f\" % (scores.mean(), scores.std()))\n"
      ],
      "execution_count": 17,
      "outputs": [
        {
          "output_type": "stream",
          "text": [
            "0.80 accuracy with a standard deviation of 0.01\n"
          ],
          "name": "stdout"
        }
      ]
    },
    {
      "cell_type": "code",
      "metadata": {
        "id": "vaGQmVB0QJFf"
      },
      "source": [
        "# Se importa la libreria de modelo correspondiente\n",
        "from sklearn.naive_bayes import GaussianNB\n",
        "\n",
        "# Se crean los parametros correspondientes al modelo, esto con el objetivo de optimizarlos por medio de la librería GridSearchCV\n",
        "parameters = [{'var_smoothing':np.logspace(0,-9, num=100)}]\n",
        "\n",
        "# Se ejecuta la librería GridSearchCV, cv hace referencia al metodo de validación cruzada en este caso K-Folds=4 divide los datos \n",
        "# en 4 de secciones de prueba los cuales no se mezclan de forma predeterminada\n",
        "gaussian = GridSearchCV(\n",
        "    GaussianNB(),\n",
        "    parameters,\n",
        "    cv=4\n",
        ")\n",
        "# Entrenamiento del modelo y selección de la combinación óptima de parámetros\n",
        "gaussian.fit(X_train, y_train)\n",
        "y_pred_test = gnb.predict(X_test)\n",
        "# Evaluación para matriz de confusión\n",
        "y_test = np.asarray(y_test)\n",
        "y_pred_test = np.asarray(y_pred_test)\n",
        "# Calculo del tiempo en ejecución y definición de metricas\n",
        "start_time = time.time()\n",
        "metrics.loc['accuracy','GaussianNB'] = accuracy_score(y_pred=y_pred_test, y_true=y_test)\n",
        "metrics.loc['f1_score','GaussianNB'] = f1_score(y_pred=y_pred_test, y_true=y_test)\n",
        "metrics.loc['precision','GaussianNB'] = precision_score(y_pred=y_pred_test, y_true=y_test)\n",
        "metrics.loc['recall','GaussianNB'] = recall_score(y_pred=y_pred_test, y_true=y_test)\n",
        "metrics.loc['roc_auc_score','GaussianNB'] = roc_auc_score(y_pred_test, y_test)\n",
        "metrics.loc['Tiempo de ejecución','GaussianNB'] = (time.time() - start_time)\n"
      ],
      "execution_count": null,
      "outputs": []
    },
    {
      "cell_type": "code",
      "metadata": {
        "colab": {
          "base_uri": "https://localhost:8080/",
          "height": 311
        },
        "id": "QqlGhcE4phk0",
        "outputId": "06b9e1be-724d-4151-c4ab-91528c22e26d"
      },
      "source": [
        "#Reporte de Matriz de Confusión Modelo GaussianNB\n",
        "CM_GaussianNB = confusion_matrix(y_pred=y_pred_test, y_true=y_test)\n",
        "plot = (plot_confusion_matrix(CM_GaussianNB))"
      ],
      "execution_count": null,
      "outputs": [
        {
          "output_type": "display_data",
          "data": {
            "image/png": "[encoded data removed]",
            "text/plain": [
              "<Figure size 432x288 with 2 Axes>"
            ]
          },
          "metadata": {
            "tags": [],
            "needs_background": "light"
          }
        }
      ]
    },
    {
      "cell_type": "markdown",
      "metadata": {
        "id": "f5345_WcVP4C"
      },
      "source": [
        "### Regresión Logística"
      ]
    },
    {
      "cell_type": "code",
      "metadata": {
        "id": "9pI0-2p4V-ca"
      },
      "source": [
        "# Se importa la libreria de modelo correspondiente\n",
        "from sklearn.linear_model import LogisticRegression\n",
        "\n",
        "# Se crean los parametros correspondientes al modelo, esto con el objetivo de optimizarlos por medio de la librería GridSearchCV\n",
        "parameters = [{'penalty': [\"none\",\"l1\", \"l2\", \"elasticnet\"],\n",
        "               'C': [0.0], \n",
        "               'solver': [ \"lbfgs\", \"sag\", \"saga\"],\n",
        "               'class_weight': ['None', 'dict', 'balanced'],\n",
        "               'random_state': [123],\n",
        "               'warm_start': [\"True\"],\n",
        "               'n_jobs': [-1]}]\n",
        "\n",
        "# Se ejecuta la librería GridSearchCV\n",
        "logisticRegression = GridSearchCV(\n",
        "    LogisticRegression(),\n",
        "    parameters,\n",
        "    cv = 4\n",
        ")\n",
        "\n",
        "# Entrenamiento del modelo y selección de la combinación óptima de parámetros\n",
        "logisticRegression.fit(X_train, y_train)\n",
        "y_pred_test = logisticRegression.predict(X_test)\n",
        "#\n",
        "# Evaluación\n",
        "#\n",
        "y_test = np.asarray(y_test)\n",
        "y_pred_test = np.asarray(y_pred_test)\n",
        "\n",
        "# Calculo del tiempo en ejecución y definición de metricas\n",
        "start_time = time.time()\n",
        "metrics.loc['accuracy','LogisticRegresion'] = accuracy_score(y_pred=y_pred_test, y_true=y_test)\n",
        "metrics.loc['f1_score','LogisticRegresion'] = f1_score(y_pred=y_pred_test, y_true=y_test)\n",
        "metrics.loc['precision','LogisticRegresion'] = precision_score(y_pred=y_pred_test, y_true=y_test)\n",
        "metrics.loc['recall','LogisticRegresion'] = recall_score(y_pred=y_pred_test, y_true=y_test)\n",
        "metrics.loc['roc_auc_score','LogisticRegresion'] = roc_auc_score(y_pred_test, y_test)\n",
        "metrics.loc['Tiempo de ejecución','LogisticRegresion'] = (time.time() - start_time)\n"
      ],
      "execution_count": null,
      "outputs": []
    },
    {
      "cell_type": "code",
      "metadata": {
        "colab": {
          "base_uri": "https://localhost:8080/",
          "height": 311
        },
        "id": "5LrWrOM42z7L",
        "outputId": "de7c4260-3090-46da-efa5-4a0db6f499b4"
      },
      "source": [
        "#Reporte de Matriz de Confusión Modelo LogisticRegresion\n",
        "CM_LogisticRegresion = confusion_matrix(y_pred=y_pred_test, y_true=y_test)\n",
        "plot = (plot_confusion_matrix(CM_LogisticRegresion))"
      ],
      "execution_count": null,
      "outputs": [
        {
          "output_type": "display_data",
          "data": {
            "image/png": "[encoded data removed]",
            "text/plain": [
              "<Figure size 432x288 with 2 Axes>"
            ]
          },
          "metadata": {
            "tags": [],
            "needs_background": "light"
          }
        }
      ]
    },
    {
      "cell_type": "markdown",
      "metadata": {
        "id": "karAsXx8jAC5"
      },
      "source": [
        "### kNN"
      ]
    },
    {
      "cell_type": "code",
      "metadata": {
        "id": "NabQzS9migL4"
      },
      "source": [
        "# from sklearn.cluster import KMeans\n",
        "# #Nc = range(1, 30)\n",
        "# kmeans = [KMeans(n_clusters=i, random_state=2,max_iter=10) for i in Nc]\n",
        "# kmeans\n",
        "# score = [kmeans[i].fit(X_train).score(X_train) for i in range(len(kmeans))]\n",
        "# score\n",
        "# plt.plot(Nc,score)\n",
        "# plt.xlabel('Number of Clusters')\n",
        "# plt.ylabel('Score')\n",
        "# plt.title('Elbow Curve')\n",
        "# plt.show()"
      ],
      "execution_count": null,
      "outputs": []
    },
    {
      "cell_type": "code",
      "metadata": {
        "id": "Trb3NiCW3isH"
      },
      "source": [
        "# import numpy as np\n",
        "# import sklearn\n",
        "# from sklearn import datasets\n",
        "# import matplotlib.pyplot as plt\n",
        "\n",
        "# def generate_data(data_type, noise=0.2):\n",
        "    \n",
        "#     np.random.seed(0)\n",
        "#     if data_type == 'moons':\n",
        "#         X, Y = datasets.make_moons(500, noise=noise)\n",
        "#     elif data_type == 'circles':\n",
        "#         X, Y = sklearn.datasets.make_circles(500, noise=noise, factor=0.6)\n",
        "#     elif data_type == 'blobs':\n",
        "#         X, Y = sklearn.datasets.make_blobs(centers=2, cluster_std=noise)\n",
        "#     return X, Y\n",
        "\n"
      ],
      "execution_count": null,
      "outputs": []
    },
    {
      "cell_type": "code",
      "metadata": {
        "id": "D8uNJZg-3s3X"
      },
      "source": [
        "# X, Y = generate_data('moons', noise=0.01)\n",
        "\n",
        "# color = ['blue' if y == 0 else 'red' for y in np.squeeze(Y)] # una lista para darle color a las clases\n",
        "\n",
        "# plt.figure(figsize=(7,5))\n",
        "# plt.scatter(X[:,0], X[:,1], color=color)\n",
        "# plt.xlabel(\"Feature 1\")\n",
        "# plt.ylabel(\"Feature 2\")\n",
        "# plt.grid()\n",
        "# plt.show()"
      ],
      "execution_count": null,
      "outputs": []
    },
    {
      "cell_type": "code",
      "metadata": {
        "id": "Tv96K4AgkSgY"
      },
      "source": [
        "# Se importa la libreria de modelo correspondiente\n",
        "from sklearn.neighbors import KNeighborsClassifier\n",
        "\n",
        "#\n",
        "# Se crean los parametros correspondientes al modelo, esto con el objetivo de optimizarlos por medio de la librería GridSearchCV\n",
        "parameters = [{'n_neighbors':[9,10,11],\n",
        "               'weights': [\"uniform\",\"distance\"],\n",
        "               'n_jobs': [-1]}]\n",
        "\n",
        "# Se ejecuta la librería GridSearchCV\n",
        "knn = GridSearchCV(\n",
        "    KNeighborsClassifier(),\n",
        "    parameters,\n",
        "    cv=4\n",
        ")\n",
        "\n",
        "# Entrenamiento del modelo y selección de la combinación óptima de parámetros\n",
        "knn.fit(X_train, y_train)\n",
        "y_pred_test = knn.predict(X_test)\n",
        "\n",
        "# Evaluación para matriz de confusión\n",
        "y_test = np.asarray(y_test)\n",
        "y_pred_test = np.asarray(y_pred_test)\n",
        "\n",
        "\n",
        "# Calculo del tiempo en ejecución y definición de metricas\n",
        "start_time = time.time()\n",
        "metrics.loc['accuracy','kNN'] = accuracy_score(y_pred=y_pred_test, y_true=y_test)\n",
        "metrics.loc['f1_score','kNN'] = f1_score(y_pred=y_pred_test, y_true=y_test)\n",
        "metrics.loc['precision','kNN'] = precision_score(y_pred=y_pred_test, y_true=y_test)\n",
        "metrics.loc['recall','kNN'] = recall_score(y_pred=y_pred_test, y_true=y_test)\n",
        "metrics.loc['roc_auc_score','kNN'] = roc_auc_score(y_pred_test, y_test)\n",
        "metrics.loc['Tiempo de ejecución','kNN'] = (time.time() - start_time)\n"
      ],
      "execution_count": null,
      "outputs": []
    },
    {
      "cell_type": "code",
      "metadata": {
        "colab": {
          "base_uri": "https://localhost:8080/",
          "height": 311
        },
        "id": "732k4Xo_6Jdo",
        "outputId": "3b6754ca-8212-4d78-de69-d0abce85e53a"
      },
      "source": [
        "#Reporte de Matriz de Confusión Modelo kNN\n",
        "CM_kNN = confusion_matrix(y_pred=y_pred_test, y_true=y_test)\n",
        "plot = (plot_confusion_matrix(CM_kNN))"
      ],
      "execution_count": null,
      "outputs": [
        {
          "output_type": "display_data",
          "data": {
            "image/png": "[encoded data removed]",
            "text/plain": [
              "<Figure size 432x288 with 2 Axes>"
            ]
          },
          "metadata": {
            "tags": [],
            "needs_background": "light"
          }
        }
      ]
    },
    {
      "cell_type": "markdown",
      "metadata": {
        "id": "6TIY_Q58pdES"
      },
      "source": [
        "DecisionTreeClassifier"
      ]
    },
    {
      "cell_type": "code",
      "metadata": {
        "id": "F06w0D7LniUq"
      },
      "source": [
        "# Se importa la libreria de modelo correspondiente\n",
        "from sklearn.tree import DecisionTreeClassifier\n",
        "\n",
        "# Se crean los parametros correspondientes al modelo, esto con el objetivo de optimizarlos por medio de la librería GridSearchCV\n",
        "parameters = [{'max_depth': np.arange(3, 10),\n",
        "             'criterion' : ['gini'],\n",
        "             'max_leaf_nodes': [5,10,20,100],\n",
        "             'min_samples_split': [2, 5, 10, 20]}]\n",
        "\n",
        "\n",
        "# # Se ejecuta la librería GridSearchCV\n",
        "decisiontree = GridSearchCV(\n",
        "    DecisionTreeClassifier(),\n",
        "    parameters,\n",
        "    cv=4\n",
        ")\n",
        "\n",
        "# Entrenamiento del modelo y selección de la combinación óptima de parámetros\n",
        "decisiontree.fit(X_train, y_train)\n",
        "y_pred_test = decisiontree.predict(X_test)\n",
        "\n",
        "# Evaluación para matriz de confusión\n",
        "y_test = np.asarray(y_test)\n",
        "y_pred_test = np.asarray(y_pred_test)\n",
        "\n",
        "# Calculo del tiempo en ejecución y definición de metricas\n",
        "start_time = time.time()\n",
        "metrics.loc['accuracy','DecisionTree'] = accuracy_score(y_pred=y_pred_test, y_true=y_test)\n",
        "metrics.loc['f1_score','DecisionTree'] = f1_score(y_pred=y_pred_test, y_true=y_test)\n",
        "metrics.loc['precision','DecisionTree'] = precision_score(y_pred=y_pred_test, y_true=y_test)\n",
        "metrics.loc['recall','DecisionTree'] = recall_score(y_pred=y_pred_test, y_true=y_test)\n",
        "metrics.loc['roc_auc_score','DecisionTree'] = roc_auc_score(y_pred_test, y_test)\n",
        "metrics.loc['Tiempo de ejecución','DecisionTree'] = (time.time() - start_time)\n",
        "\n"
      ],
      "execution_count": null,
      "outputs": []
    },
    {
      "cell_type": "code",
      "metadata": {
        "colab": {
          "base_uri": "https://localhost:8080/",
          "height": 311
        },
        "id": "D1CCO2HcDoQp",
        "outputId": "376c4148-4904-48ab-e52f-3fceed25f7cc"
      },
      "source": [
        "#Reporte de Matriz de Confusión Modelo DecisionTree\n",
        "CM_DecisionTree = confusion_matrix(y_pred=y_pred_test, y_true=y_test)\n",
        "plot = (plot_confusion_matrix(CM_DecisionTree))"
      ],
      "execution_count": null,
      "outputs": [
        {
          "output_type": "display_data",
          "data": {
            "image/png": "[encoded data removed]",
            "text/plain": [
              "<Figure size 432x288 with 2 Axes>"
            ]
          },
          "metadata": {
            "tags": [],
            "needs_background": "light"
          }
        }
      ]
    },
    {
      "cell_type": "markdown",
      "metadata": {
        "id": "SrFAtYv0t0mJ"
      },
      "source": [
        "### Ensambles de Modelos"
      ]
    },
    {
      "cell_type": "code",
      "metadata": {
        "id": "VlbeDnqwtzQT"
      },
      "source": [
        "# Se importa la libreria de modelo correspondiente\n",
        "from sklearn.ensemble import AdaBoostClassifier\n",
        "\n",
        "# Se crean los parametros correspondientes al modelo, esto con el objetivo de optimizarlos por medio de la librería GridSearchCV\n",
        "parameters = [{'n_estimators':[50,60,70,80]}]\n",
        "\n",
        "# Se ejecuta la librería GridSearchCV\n",
        "\n",
        "AdaBoost =  GridSearchCV(\n",
        "    AdaBoostClassifier(),\n",
        "    parameters,\n",
        "    cv=4\n",
        ")\n",
        "\n",
        "# AdaBoostClassifier(n_estimators=10)\n",
        "\n",
        "# Entrenamiento del modelo y selección de la combinación óptima de parámetros\n",
        "AdaBoost.fit(X_train, y_train)\n",
        "y_pred_test = AdaBoost.predict(X_test)\n",
        "\n",
        "# Evaluación para matriz de confusión\n",
        "y_test = np.asarray(y_test)\n",
        "y_pred_test = np.asarray(y_pred_test)\n",
        "\n",
        "# Calculo del tiempo en ejecución y definición de metricas\n",
        "start_time = time.time()\n",
        "metrics.loc['accuracy','AdaBoost'] = accuracy_score(y_pred=y_pred_test, y_true=y_test)\n",
        "metrics.loc['f1_score','AdaBoost'] = f1_score(y_pred=y_pred_test, y_true=y_test)\n",
        "metrics.loc['precision','AdaBoost'] = precision_score(y_pred=y_pred_test, y_true=y_test)\n",
        "metrics.loc['recall','AdaBoost'] = recall_score(y_pred=y_pred_test, y_true=y_test)\n",
        "metrics.loc['roc_auc_score','AdaBoost'] = roc_auc_score(y_pred_test, y_test)\n",
        "metrics.loc['Tiempo de ejecución','AdaBoost'] = (time.time() - start_time)\n"
      ],
      "execution_count": null,
      "outputs": []
    },
    {
      "cell_type": "code",
      "metadata": {
        "colab": {
          "base_uri": "https://localhost:8080/",
          "height": 311
        },
        "id": "RnYgwo9sN5TE",
        "outputId": "6b80844f-c79f-4288-d28a-b022ec9e39a7"
      },
      "source": [
        "#Reporte de Matriz de Confusión Modelo AdaBoost\n",
        "CM_AdaBoost = confusion_matrix(y_pred=y_pred_test, y_true=y_test)\n",
        "plot = (plot_confusion_matrix(CM_AdaBoost))"
      ],
      "execution_count": null,
      "outputs": [
        {
          "output_type": "display_data",
          "data": {
            "image/png": "[encoded data removed]",
            "text/plain": [
              "<Figure size 432x288 with 2 Axes>"
            ]
          },
          "metadata": {
            "tags": [],
            "needs_background": "light"
          }
        }
      ]
    },
    {
      "cell_type": "code",
      "metadata": {
        "id": "ysTDHgoitBX2"
      },
      "source": [
        "# Se importa la libreria de modelo correspondiente\n",
        "from sklearn.ensemble import RandomForestClassifier\n",
        "\n",
        "# Se crean los parametros correspondientes al modelo, esto con el objetivo de optimizarlos por medio de la librería GridSearchCV\n",
        "parameters = [{'max_depth': [6,7,8],\n",
        "             'criterion' : ['gini'],\n",
        "             'n_estimators':[120,140]}]\n",
        "\n",
        "\n",
        "# Se ejecuta la librería GridSearchCV\n",
        "RandomForest = GridSearchCV(\n",
        "    RandomForestClassifier(),\n",
        "    parameters,\n",
        "    cv=4\n",
        ")\n",
        "\n",
        "# Entrenamiento del modelo y selección de la combinación óptima de parámetros\n",
        "RandomForest.fit(X_train, y_train)\n",
        "y_pred_test = RandomForest.predict(X_test)\n",
        "\n",
        "# Evaluación para matriz de confusión\n",
        "y_test = np.asarray(y_test)\n",
        "y_pred_test = np.asarray(y_pred_test)\n",
        "\n",
        "# Calculo del tiempo en ejecución y definición de metricas\n",
        "start_time = time.time()\n",
        "metrics.loc['accuracy','RandomForest'] = accuracy_score(y_pred=y_pred_test, y_true=y_test)\n",
        "metrics.loc['f1_score','RandomForest'] = f1_score(y_pred=y_pred_test, y_true=y_test)\n",
        "metrics.loc['precision','RandomForest'] = precision_score(y_pred=y_pred_test, y_true=y_test)\n",
        "metrics.loc['recall','RandomForest'] = recall_score(y_pred=y_pred_test, y_true=y_test)\n",
        "metrics.loc['roc_auc_score','RandomForest'] = roc_auc_score(y_pred_test, y_test)\n",
        "metrics.loc['Tiempo de ejecución','RandomForest'] = (time.time() - start_time)\n",
        "\n"
      ],
      "execution_count": null,
      "outputs": []
    },
    {
      "cell_type": "code",
      "metadata": {
        "colab": {
          "base_uri": "https://localhost:8080/",
          "height": 311
        },
        "id": "kEA5flQ1T4Gj",
        "outputId": "f921b8fa-0389-4866-cfa2-5dc316c340bd"
      },
      "source": [
        "#Reporte de Matriz de Confusión Modelo RandomForest\n",
        "CM_RandomForest = confusion_matrix(y_pred=y_pred_test, y_true=y_test)\n",
        "plot = (plot_confusion_matrix(CM_RandomForest))"
      ],
      "execution_count": null,
      "outputs": [
        {
          "output_type": "display_data",
          "data": {
            "image/png": "[encoded data removed]",
            "text/plain": [
              "<Figure size 432x288 with 2 Axes>"
            ]
          },
          "metadata": {
            "tags": [],
            "needs_background": "light"
          }
        }
      ]
    },
    {
      "cell_type": "code",
      "metadata": {
        "id": "C_TTPYzcvfnA"
      },
      "source": [
        "# Se importa la libreria de modelo correspondiente\n",
        "from sklearn.ensemble import GradientBoostingClassifier\n",
        "\n",
        "# Se crean los parametros correspondientes al modelo, esto con el objetivo de optimizarlos por medio de la librería GridSearchCV\n",
        "parameters = [{}]\n",
        "\n",
        "# Se ejecuta la librería GridSearchCV\n",
        "GradientBoosting = GridSearchCV(\n",
        "    GradientBoostingClassifier(),\n",
        "    parameters,\n",
        "    cv=4\n",
        ")\n",
        "\n",
        "# Entrenamiento del modelo y selección de la combinación óptima de parámetros\n",
        "GradientBoosting.fit(X_train, y_train)\n",
        "y_pred_test = GradientBoosting.predict(X_test)\n",
        "\n",
        "# Evaluación para matriz de confusión\n",
        "y_test = np.asarray(y_test)\n",
        "y_pred_test = np.asarray(y_pred_test)\n",
        "\n",
        "# Calculo del tiempo en ejecución y definición de metricas\n",
        "start_time = time.time()\n",
        "metrics.loc['accuracy','GradientBoosting'] = accuracy_score(y_pred=y_pred_test, y_true=y_test)\n",
        "metrics.loc['f1_score','GradientBoosting'] = f1_score(y_pred=y_pred_test, y_true=y_test)\n",
        "metrics.loc['precision','GradientBoosting'] = precision_score(y_pred=y_pred_test, y_true=y_test)\n",
        "metrics.loc['recall','GradientBoosting'] = recall_score(y_pred=y_pred_test, y_true=y_test)\n",
        "metrics.loc['roc_auc_score','GradientBoosting'] = roc_auc_score(y_pred_test, y_test)\n",
        "metrics.loc['Tiempo de ejecución','GradientBoosting'] = (time.time() - start_time)"
      ],
      "execution_count": null,
      "outputs": []
    },
    {
      "cell_type": "code",
      "metadata": {
        "colab": {
          "base_uri": "https://localhost:8080/",
          "height": 311
        },
        "id": "3NVHMIlBawOy",
        "outputId": "3cabccd9-479a-4398-d0fa-afd16b96c83d"
      },
      "source": [
        "#Reporte de Matriz de Confusión Modelo GradientBoosting\n",
        "CM_GradientBoosting = confusion_matrix(y_pred=y_pred_test, y_true=y_test)\n",
        "\n",
        "\n",
        "plot = (plot_confusion_matrix(CM_GradientBoosting))"
      ],
      "execution_count": null,
      "outputs": [
        {
          "output_type": "display_data",
          "data": {
            "image/png": "[encoded data removed]",
            "text/plain": [
              "<Figure size 432x288 with 2 Axes>"
            ]
          },
          "metadata": {
            "tags": [],
            "needs_background": "light"
          }
        }
      ]
    },
    {
      "cell_type": "markdown",
      "metadata": {
        "id": "3kc_RIOLyDHC"
      },
      "source": [
        "### Redes Neuronales"
      ]
    },
    {
      "cell_type": "code",
      "metadata": {
        "id": "k8qyrcMOwz1q"
      },
      "source": [
        "# Se importa la libreria de modelo correspondiente\n",
        "from sklearn.neural_network import MLPClassifier\n",
        "\n",
        "# # Se crean los parametros correspondientes al modelo, esto con el objetivo de optimizarlos por medio de la librería GridSearchCV\n",
        "parameters = [{'hidden_layer_sizes': [(10,)],\n",
        "               'activation': ['logistic'],\n",
        "               'solver': ['sgd'],\n",
        "               'alpha': [0.0],\n",
        "               'verbose': [False],\n",
        "               'shuffle': [True],\n",
        "               'tol': [1e-4],\n",
        "               'max_iter': [20000],\n",
        "               'momentum': [0.9],\n",
        "               'learning_rate': ['adaptive'],\n",
        "               'learning_rate_init': [0.1],\n",
        "               'nesterovs_momentum': [False]}]\n",
        "\n",
        "# Se ejecuta la librería GridSearchCV\n",
        "RedesNeuronales = GridSearchCV(\n",
        "    MLPClassifier(),\n",
        "    parameters,\n",
        "    cv=4\n",
        ")\n",
        "\n",
        "#\n",
        "# El parámetro hidden_layer_sizes recibe una tupla que\n",
        "# indica la cantidad de neuronas de cada capa oculta. En\n",
        "# el caso presentado, el valor (6,) indica que hay una sola\n",
        "# capa oculta con 6 neuronas que usan la función sigmoidea.\n",
        "# El parámetro solver = 'sgd' indica que se usará el\n",
        "# algoritmo de gradiente descendente estocástico para entrenar\n",
        "# la red neuronal.\n",
        "#\n",
        "\n",
        "# Entrenamiento del modelo y selección de la combinación óptima de parámetros\n",
        "RedesNeuronales.fit(X_train, y_train)\n",
        "y_pred_test = RedesNeuronales.predict(X_test)\n",
        "\n",
        "# Evaluación para matriz de confusión\n",
        "y_test = np.asarray(y_test)\n",
        "y_pred_test = np.asarray(y_pred_test)\n",
        "\n",
        "# Calculo del tiempo en ejecución y definición de metricas\n",
        "start_time = time.time()\n",
        "metrics.loc['accuracy','RedesNeuronales'] = accuracy_score(y_true=y_test, y_pred=y_pred_test)\n",
        "metrics.loc['f1_score','RedesNeuronales'] = f1_score(y_pred=y_pred_test, y_true=y_test)\n",
        "metrics.loc['precision','RedesNeuronales'] = precision_score(y_pred=y_pred_test, y_true=y_test)\n",
        "metrics.loc['recall','RedesNeuronales'] = recall_score(y_pred=y_pred_test, y_true=y_test)\n",
        "metrics.loc['roc_auc_score','RedesNeuronales'] = roc_auc_score(y_pred_test, y_test)\n",
        "metrics.loc['Tiempo de ejecución','RedesNeuronales'] = (time.time() - start_time)\n"
      ],
      "execution_count": null,
      "outputs": []
    },
    {
      "cell_type": "code",
      "metadata": {
        "colab": {
          "base_uri": "https://localhost:8080/",
          "height": 311
        },
        "id": "z5eMoUTNKUZQ",
        "outputId": "2cdf97b7-cbe9-45f3-addb-925deb12f16d"
      },
      "source": [
        "#Reporte de Matriz de Confusión Modelo RedesNeuronales\n",
        "CM_RedesNeuronales = confusion_matrix(y_pred=y_pred_test, y_true=y_test)\n",
        "plot = (plot_confusion_matrix(CM_RedesNeuronales))"
      ],
      "execution_count": null,
      "outputs": [
        {
          "output_type": "display_data",
          "data": {
            "image/png": "[encoded data removed]",
            "text/plain": [
              "<Figure size 432x288 with 2 Axes>"
            ]
          },
          "metadata": {
            "tags": [],
            "needs_background": "light"
          }
        }
      ]
    },
    {
      "cell_type": "markdown",
      "metadata": {
        "id": "vSKIKRvRyvnr"
      },
      "source": [
        "### SVC"
      ]
    },
    {
      "cell_type": "code",
      "metadata": {
        "id": "AloB6aaNyN_7"
      },
      "source": [
        "# Se importa la libreria de modelo correspondiente\n",
        "from sklearn.svm import SVC\n",
        "\n",
        "# Se crean los parametros correspondientes al modelo, esto con el objetivo de optimizarlos por medio de la librería GridSearchCV\n",
        "parameters = [{'C':np.linspace(0.0,1,3),\n",
        "               'kernel': [\"sigmoid\"],\n",
        "               'gamma': [\"scale\"]}]\n",
        "# Se ejecuta la librería GridSearchCV\n",
        "\n",
        "svc = GridSearchCV(\n",
        "    SVC(),\n",
        "    parameters,\n",
        "    cv=4\n",
        ")\n",
        "\n",
        "# Entrenamiento del modelo y selección de la combinación óptima de parámetros\n",
        "svc.fit(X_train, y_train)\n",
        "y_pred_test = svc.predict(X_test)\n",
        "\n",
        "# Evaluación para matriz de confusión\n",
        "y_test = np.asarray(y_test)\n",
        "y_pred_test = np.asarray(y_pred_test)\n",
        "\n",
        "# Calculo del tiempo en ejecución y definición de metricas\n",
        "start_time = time.time()\n",
        "metrics.loc['accuracy','SVMs'] = accuracy_score(y_true=y_test, y_pred=y_pred_test)\n",
        "metrics.loc['f1_score','SVMs'] = f1_score(y_pred=y_pred_test, y_true=y_test)\n",
        "metrics.loc['precision','SVMs'] = precision_score(y_pred=y_pred_test, y_true=y_test)\n",
        "metrics.loc['recall','SVMs'] = recall_score(y_pred=y_pred_test, y_true=y_test)\n",
        "metrics.loc['roc_auc_score','SVMs'] = roc_auc_score(y_pred_test, y_test)\n",
        "metrics.loc['Tiempo de ejecución','SVMs'] = (time.time() - start_time)"
      ],
      "execution_count": 18,
      "outputs": []
    },
    {
      "cell_type": "code",
      "metadata": {
        "colab": {
          "base_uri": "https://localhost:8080/",
          "height": 311
        },
        "id": "ApKoFURFSiCb",
        "outputId": "2bb01edc-9f0f-45c8-8efd-8704caba86f3"
      },
      "source": [
        "#Reporte de Matriz de Confusión Modelo SVM\n",
        "CM_SVM = confusion_matrix(y_pred=y_pred_test, y_true=y_test)\n",
        "plot = (plot_confusion_matrix(CM_SVM))"
      ],
      "execution_count": null,
      "outputs": [
        {
          "output_type": "display_data",
          "data": {
            "image/png": "[encoded data removed]",
            "text/plain": [
              "<Figure size 432x288 with 2 Axes>"
            ]
          },
          "metadata": {
            "tags": [],
            "needs_background": "light"
          }
        }
      ]
    },
    {
      "cell_type": "code",
      "metadata": {
        "colab": {
          "base_uri": "https://localhost:8080/"
        },
        "id": "-Hx0G940bJP-",
        "outputId": "f08a31c6-18f9-420b-aa98-db0d88d100e3"
      },
      "source": [
        "from sklearn.model_selection import cross_val_score\n",
        "scores = cross_val_score(svc, X, Y, cv=5)\n",
        "scores\n",
        "\n",
        "print(\"%0.2f accuracy with a standard deviation of %0.2f\" % (scores.mean(), scores.std()))"
      ],
      "execution_count": 19,
      "outputs": [
        {
          "output_type": "stream",
          "text": [
            "0.72 accuracy with a standard deviation of 0.01\n"
          ],
          "name": "stdout"
        }
      ]
    },
    {
      "cell_type": "markdown",
      "metadata": {
        "id": "rqAuJkYyWgKq"
      },
      "source": [
        "## Resultados de Modelos"
      ]
    },
    {
      "cell_type": "code",
      "metadata": {
        "colab": {
          "base_uri": "https://localhost:8080/",
          "height": 225
        },
        "id": "ldbnJKfheSe3",
        "outputId": "83a62495-5594-49e9-f82f-649a25257e2f"
      },
      "source": [
        "metrics"
      ],
      "execution_count": null,
      "outputs": [
        {
          "output_type": "execute_result",
          "data": {
            "text/html": [
              "<div>\n",
              "<style scoped>\n",
              "    .dataframe tbody tr th:only-of-type {\n",
              "        vertical-align: middle;\n",
              "    }\n",
              "\n",
              "    .dataframe tbody tr th {\n",
              "        vertical-align: top;\n",
              "    }\n",
              "\n",
              "    .dataframe thead th {\n",
              "        text-align: right;\n",
              "    }\n",
              "</style>\n",
              "<table border=\"1\" class=\"dataframe\">\n",
              "  <thead>\n",
              "    <tr style=\"text-align: right;\">\n",
              "      <th></th>\n",
              "      <th>BernoulliNB</th>\n",
              "      <th>GaussianNB</th>\n",
              "      <th>LogisticRegresion</th>\n",
              "      <th>kNN</th>\n",
              "      <th>DecisionTree</th>\n",
              "      <th>AdaBoost</th>\n",
              "      <th>RandomForest</th>\n",
              "      <th>GradientBoosting</th>\n",
              "      <th>RedesNeuronales</th>\n",
              "      <th>SVMs</th>\n",
              "    </tr>\n",
              "  </thead>\n",
              "  <tbody>\n",
              "    <tr>\n",
              "      <th>accuracy</th>\n",
              "      <td>0.809492</td>\n",
              "      <td>0.809492</td>\n",
              "      <td>0.811687</td>\n",
              "      <td>0.808647</td>\n",
              "      <td>0.82351</td>\n",
              "      <td>0.816416</td>\n",
              "      <td>0.822496</td>\n",
              "      <td>0.822665</td>\n",
              "      <td>0.820807</td>\n",
              "      <td>0.724033</td>\n",
              "    </tr>\n",
              "    <tr>\n",
              "      <th>f1_score</th>\n",
              "      <td>0.510841</td>\n",
              "      <td>0.510841</td>\n",
              "      <td>0.366117</td>\n",
              "      <td>0.439386</td>\n",
              "      <td>0.488497</td>\n",
              "      <td>0.447943</td>\n",
              "      <td>0.471594</td>\n",
              "      <td>0.478131</td>\n",
              "      <td>0.476566</td>\n",
              "      <td>0.381061</td>\n",
              "    </tr>\n",
              "    <tr>\n",
              "      <th>precision</th>\n",
              "      <td>0.59797</td>\n",
              "      <td>0.59797</td>\n",
              "      <td>0.73516</td>\n",
              "      <td>0.634286</td>\n",
              "      <td>0.691136</td>\n",
              "      <td>0.680556</td>\n",
              "      <td>0.702096</td>\n",
              "      <td>0.696093</td>\n",
              "      <td>0.684136</td>\n",
              "      <td>0.38135</td>\n",
              "    </tr>\n",
              "    <tr>\n",
              "      <th>recall</th>\n",
              "      <td>0.445874</td>\n",
              "      <td>0.445874</td>\n",
              "      <td>0.243755</td>\n",
              "      <td>0.336109</td>\n",
              "      <td>0.377744</td>\n",
              "      <td>0.333838</td>\n",
              "      <td>0.355034</td>\n",
              "      <td>0.364118</td>\n",
              "      <td>0.365632</td>\n",
              "      <td>0.380772</td>\n",
              "    </tr>\n",
              "    <tr>\n",
              "      <th>roc_auc_score</th>\n",
              "      <td>0.724836</td>\n",
              "      <td>0.724836</td>\n",
              "      <td>0.77648</td>\n",
              "      <td>0.733155</td>\n",
              "      <td>0.766514</td>\n",
              "      <td>0.756834</td>\n",
              "      <td>0.769951</td>\n",
              "      <td>0.76774</td>\n",
              "      <td>0.761723</td>\n",
              "      <td>0.6018</td>\n",
              "    </tr>\n",
              "    <tr>\n",
              "      <th>Tiempo de ejecución</th>\n",
              "      <td>0.0198417</td>\n",
              "      <td>0.0191576</td>\n",
              "      <td>0.0193036</td>\n",
              "      <td>0.0128529</td>\n",
              "      <td>0.0121067</td>\n",
              "      <td>0.0116801</td>\n",
              "      <td>0.0125456</td>\n",
              "      <td>0.0119009</td>\n",
              "      <td>0.0211108</td>\n",
              "      <td>0.0125515</td>\n",
              "    </tr>\n",
              "  </tbody>\n",
              "</table>\n",
              "</div>"
            ],
            "text/plain": [
              "                    BernoulliNB GaussianNB  ... RedesNeuronales       SVMs\n",
              "accuracy               0.809492   0.809492  ...        0.820807   0.724033\n",
              "f1_score               0.510841   0.510841  ...        0.476566   0.381061\n",
              "precision               0.59797    0.59797  ...        0.684136    0.38135\n",
              "recall                 0.445874   0.445874  ...        0.365632   0.380772\n",
              "roc_auc_score          0.724836   0.724836  ...        0.761723     0.6018\n",
              "Tiempo de ejecución   0.0198417  0.0191576  ...       0.0211108  0.0125515\n",
              "\n",
              "[6 rows x 10 columns]"
            ]
          },
          "metadata": {
            "tags": []
          },
          "execution_count": 37
        }
      ]
    },
    {
      "cell_type": "code",
      "metadata": {
        "colab": {
          "base_uri": "https://localhost:8080/",
          "height": 578
        },
        "id": "M9RRdNOrrMhx",
        "outputId": "4269d44c-e484-4f1c-9562-2a7ddf89a8e9"
      },
      "source": [
        "fig, ax = plt.subplots(figsize = (16, 12))\n",
        "metrics.plot(kind='barh', ax=ax)\n",
        "ax.grid();"
      ],
      "execution_count": null,
      "outputs": [
        {
          "output_type": "display_data",
          "data": {
            "image/png": "[encoded data removed]",
            "text/plain": [
              "<Figure size 1152x864 with 1 Axes>"
            ]
          },
          "metadata": {
            "tags": [],
            "needs_background": "light"
          }
        }
      ]
    },
    {
      "cell_type": "code",
      "metadata": {
        "id": "8IAGHUO9Fbxc"
      },
      "source": [
        "# Prueba Inputs\n",
        "# Inputs\n"
      ],
      "execution_count": null,
      "outputs": []
    },
    {
      "cell_type": "code",
      "metadata": {
        "id": "HIypiQpNXqdY"
      },
      "source": [
        "# Probar los modelos cruzados con inputs propios \n",
        "# ---------Campos Inputs-------\n",
        "# limit_bal = int(input(\"Amount of given credit in NT dollars: \"))\n",
        "# sex\t= int(input(\"Sex: [Mujer=0] o [Hombre=1]: \" ))\n",
        "# education\t= int(input(\"Education: 1 = Graduate school, 2 = University, 3 = High school, 4 = Others): \" ))\n",
        "# marriage\t= int(input(\"Marital status (1=married, 2=single, 3=others): \" ))\n",
        "# age\t= int(input(\"Age: \"))\t\n",
        "# pay_0\t= int(input(\"pay_0: \"))\n",
        "# pay_2\t= int(input(\"pay_2: \"))\t\n",
        "# pay_3\t= int(input(\"pay_3: \"))\t\n",
        "# pay_4\t= int(input(\"pay_4: \"))\n",
        "# pay_5\t= int(input(\"pay_5: \"))\t\n",
        "# pay_6\t= int(input(\"pay_6: \"))\n",
        "# bill_amt1\t= int(input(\"bill_amt1: \"))\n",
        "# bill_amt2\t= int(input(\"bill_amt2: \"))\t\n",
        "# bill_amt3\t= int(input(\"bill_amt3: \"))\t\t\n",
        "# bill_amt4\t= int(input(\"bill_amt4: \"))\t\t\n",
        "# bill_amt5\t= int(input(\"bill_amt5: \"))\t\n",
        "# bill_amt6\t= int(input(\"bill_amt6: \"))\t\t\n",
        "# pay_amt1\t= int(input(\"pay_amt1: \"))\n",
        "# pay_amt2\t= int(input(\"pay_amt2: \"))\n",
        "# pay_amt3\t= int(input(\"pay_amt3: \"))\t\n",
        "# pay_amt4\t= int(input(\"pay_amt4: \"))\n",
        "# pay_amt5\t= int(input(\"pay_amt5: \"))\n",
        "# pay_amt6\t= int(input(\"pay_amt611: \"))\n",
        "## Convertir inputs en lista \n",
        "# Xnew = [[limit_bal,sex,education,marriage,age,pay_0,pay_2,pay_3,pay_4,pay_5,pay_6,bill_amt1,bill_amt2,bill_amt3,bill_amt4,bill_amt5,bill_amt6,pay_amt1,pay_amt2,pay_amt3,pay_amt4,pay_amt5,pay_amt6]]\n",
        "# ynew = gnb.predict(Xnew)\n",
        "# print(\"Variables = %s, Predicted = %s\" % (Xnew[0], ynew[0]))\n"
      ],
      "execution_count": null,
      "outputs": []
    },
    {
      "cell_type": "code",
      "metadata": {
        "colab": {
          "base_uri": "https://localhost:8080/"
        },
        "id": "zh31Gp29Ft9a",
        "outputId": "ccf862b2-0d9a-47e4-a30e-1164f1fddf14"
      },
      "source": [
        "# Prueba de todos los Modeos con un quick_inputs \n",
        "\n",
        "Xnew = [[20000,2,2,1,24,2,2,-1,-1,-2,-2,3913,3102,689,0,0,0,0,689,0,0,0,0]]\n",
        "ynew_BernoulliNB = gnb.predict(Xnew)\n",
        "ynew_GaussianNB = gaussian.predict(Xnew)\n",
        "ynew_LogisticRegresion = logisticRegression.predict(Xnew)\n",
        "ynew_kNN = knn.predict(Xnew)\n",
        "ynew_DecisionTree = decisiontree.predict(Xnew)\n",
        "ynew_AdaBoost = AdaBoost.predict(Xnew)\n",
        "ynew_RandomForest = RandomForest.predict(Xnew)\n",
        "ynew_GradientBoosting = GradientBoosting.predict(Xnew)\n",
        "ynew_RedesNeuronales = RedesNeuronales.predict(Xnew)\n",
        "ynew_SVMs = svc.predict(Xnew)\n",
        "\n",
        "print(\"Variables = %s, Predicted = %s\" % (Xnew[0], ynew_BernoulliNB[0]))\n",
        "print(\"Variables = %s, Predicted = %s\" % (Xnew[0], ynew_GaussianNB[0]))\n",
        "print(\"Variables = %s, Predicted = %s\" % (Xnew[0], ynew_LogisticRegresion[0]))\n",
        "print(\"Variables = %s, Predicted = %s\" % (Xnew[0], ynew_DecisionTree[0]))\n",
        "print(\"Variables = %s, Predicted = %s\" % (Xnew[0], ynew_AdaBoost[0]))\n",
        "print(\"Variables = %s, Predicted = %s\" % (Xnew[0], ynew_RandomForest[0]))\n",
        "print(\"Variables = %s, Predicted = %s\" % (Xnew[0], ynew_GradientBoosting[0]))\n",
        "print(\"Variables = %s, Predicted = %s\" % (Xnew[0], ynew_RedesNeuronales[0]))\n",
        "print(\"Variables = %s, Predicted = %s\" % (Xnew[0], ynew_SVMs[0]))"
      ],
      "execution_count": null,
      "outputs": [
        {
          "output_type": "stream",
          "text": [
            "Variables = [20000, 2, 2, 1, 24, 2, 2, -1, -1, -2, -2, 3913, 3102, 689, 0, 0, 0, 0, 689, 0, 0, 0, 0], Predicted = 1\n",
            "Variables = [20000, 2, 2, 1, 24, 2, 2, -1, -1, -2, -2, 3913, 3102, 689, 0, 0, 0, 0, 689, 0, 0, 0, 0], Predicted = 0\n",
            "Variables = [20000, 2, 2, 1, 24, 2, 2, -1, -1, -2, -2, 3913, 3102, 689, 0, 0, 0, 0, 689, 0, 0, 0, 0], Predicted = 0\n",
            "Variables = [20000, 2, 2, 1, 24, 2, 2, -1, -1, -2, -2, 3913, 3102, 689, 0, 0, 0, 0, 689, 0, 0, 0, 0], Predicted = 1\n",
            "Variables = [20000, 2, 2, 1, 24, 2, 2, -1, -1, -2, -2, 3913, 3102, 689, 0, 0, 0, 0, 689, 0, 0, 0, 0], Predicted = 0\n",
            "Variables = [20000, 2, 2, 1, 24, 2, 2, -1, -1, -2, -2, 3913, 3102, 689, 0, 0, 0, 0, 689, 0, 0, 0, 0], Predicted = 0\n",
            "Variables = [20000, 2, 2, 1, 24, 2, 2, -1, -1, -2, -2, 3913, 3102, 689, 0, 0, 0, 0, 689, 0, 0, 0, 0], Predicted = 1\n",
            "Variables = [20000, 2, 2, 1, 24, 2, 2, -1, -1, -2, -2, 3913, 3102, 689, 0, 0, 0, 0, 689, 0, 0, 0, 0], Predicted = 0\n",
            "Variables = [20000, 2, 2, 1, 24, 2, 2, -1, -1, -2, -2, 3913, 3102, 689, 0, 0, 0, 0, 689, 0, 0, 0, 0], Predicted = 1\n"
          ],
          "name": "stdout"
        }
      ]
    }
  ]
}