{
  "nbformat": 4,
  "nbformat_minor": 0,
  "metadata": {
    "kernelspec": {
      "display_name": "Python 3",
      "language": "python",
      "name": "python3"
    },
    "language_info": {
      "codemirror_mode": {
        "name": "ipython",
        "version": 3
      },
      "file_extension": ".py",
      "mimetype": "text/x-python",
      "name": "python",
      "nbconvert_exporter": "python",
      "pygments_lexer": "ipython3",
      "version": "3.7.6"
    },
    "colab": {
      "name": "Modelo 3 - COLAB:  Fraud.ipynb",
      "provenance": [],
      "toc_visible": true
    }
  },
  "cells": [
    {
      "cell_type": "markdown",
      "metadata": {
        "id": "tKA0MD8qS9qu"
      },
      "source": [
        "# Fraud_Detection\n",
        "\n"
      ]
    },
    {
      "cell_type": "markdown",
      "metadata": {
        "id": "DkFPtUcvTYb-"
      },
      "source": [
        "**Context**\n",
        "\n",
        "It is important that credit card companies are able to recognize fraudulent credit card transactions so that customers are not charged for items that they did not purchase.\n",
        "\n",
        "**Content**\n",
        "\n",
        "The datasets contains transactions made by credit cards in September 2013 by european cardholders.\n",
        "This dataset presents transactions that occurred in two days, where we have 492 frauds out of 284,807 transactions. The dataset is highly unbalanced, the positive class (frauds) account for 0.172% of all transactions.\n",
        "\n",
        "It contains only numerical input variables which are the result of a PCA transformation. Unfortunately, due to confidentiality issues, we cannot provide the original features and more background information about the data. Features V1, V2, … V28 are the principal components obtained with PCA, the only features which have not been transformed with PCA are 'Time' and 'Amount'. Feature 'Time' contains the seconds elapsed between each transaction and the first transaction in the dataset. The feature 'Amount' is the transaction Amount, this feature can be used for example-dependant cost-senstive learning. Feature 'Class' is the response variable and it takes value 1 in case of fraud and 0 otherwise."
      ]
    },
    {
      "cell_type": "markdown",
      "metadata": {
        "id": "CQzksNNjrXsP"
      },
      "source": [
        "## Librerias"
      ]
    },
    {
      "cell_type": "code",
      "metadata": {
        "id": "5xv6rZvorXsU",
        "colab": {
          "base_uri": "https://localhost:8080/"
        },
        "outputId": "16835558-65d2-4641-812d-dfbb053c7afb"
      },
      "source": [
        "!pip install imbalanced-learn\n",
        "!pip install joblib\n",
        "!pip install pydotplus\n",
        "!pip install pydot\n",
        "!pip install graphviz\n",
        "!pip install Pillow\n",
        "!pip install Image\n",
        "\n",
        "import numpy as np\n",
        "import matplotlib.pyplot as plt\n",
        "import seaborn as sns\n",
        "import pandas as pd\n",
        "import itertools\n",
        "from datetime import datetime \n",
        "import time\n",
        "import sys\n",
        "import warnings\n",
        "warnings.filterwarnings(\"ignore\")\n",
        "%matplotlib inline\n",
        "from sklearn.model_selection import train_test_split\n",
        "from sklearn.metrics import accuracy_score, precision_score, recall_score, roc_auc_score, confusion_matrix, precision_recall_curve, f1_score, r2_score, mean_absolute_error, mean_squared_error\n",
        "from sklearn.preprocessing import RobustScaler\n",
        "from sklearn.metrics import classification_report\n",
        "from sklearn.linear_model import SGDClassifier\n",
        "from sklearn.model_selection import GridSearchCV"
      ],
      "execution_count": null,
      "outputs": [
        {
          "output_type": "stream",
          "text": [
            "Requirement already satisfied: imbalanced-learn in /usr/local/lib/python3.7/dist-packages (0.4.3)\n",
            "Requirement already satisfied: numpy>=1.8.2 in /usr/local/lib/python3.7/dist-packages (from imbalanced-learn) (1.19.5)\n",
            "Requirement already satisfied: scipy>=0.13.3 in /usr/local/lib/python3.7/dist-packages (from imbalanced-learn) (1.4.1)\n",
            "Requirement already satisfied: scikit-learn>=0.20 in /usr/local/lib/python3.7/dist-packages (from imbalanced-learn) (0.22.2.post1)\n",
            "Requirement already satisfied: joblib>=0.11 in /usr/local/lib/python3.7/dist-packages (from scikit-learn>=0.20->imbalanced-learn) (1.0.1)\n",
            "Requirement already satisfied: joblib in /usr/local/lib/python3.7/dist-packages (1.0.1)\n",
            "Requirement already satisfied: pydotplus in /usr/local/lib/python3.7/dist-packages (2.0.2)\n",
            "Requirement already satisfied: pyparsing>=2.0.1 in /usr/local/lib/python3.7/dist-packages (from pydotplus) (2.4.7)\n",
            "Requirement already satisfied: pydot in /usr/local/lib/python3.7/dist-packages (1.3.0)\n",
            "Requirement already satisfied: pyparsing>=2.1.4 in /usr/local/lib/python3.7/dist-packages (from pydot) (2.4.7)\n",
            "Requirement already satisfied: graphviz in /usr/local/lib/python3.7/dist-packages (0.10.1)\n",
            "Requirement already satisfied: Pillow in /usr/local/lib/python3.7/dist-packages (7.1.2)\n",
            "Collecting Image\n",
            "  Downloading https://files.pythonhosted.org/packages/84/be/961693ed384aa91bcc07525c90e3a34bc06c75f131655dfe21310234c933/image-1.5.33.tar.gz\n",
            "Requirement already satisfied: pillow in /usr/local/lib/python3.7/dist-packages (from Image) (7.1.2)\n",
            "Collecting django\n",
            "\u001b[?25l  Downloading https://files.pythonhosted.org/packages/89/69/c556b5b3e7a6701724485fc07c8349791e585b784dc70c9c0683d98ef0db/Django-3.2.3-py3-none-any.whl (7.9MB)\n",
            "\u001b[K     |████████████████████████████████| 7.9MB 6.4MB/s \n",
            "\u001b[?25hRequirement already satisfied: six in /usr/local/lib/python3.7/dist-packages (from Image) (1.15.0)\n",
            "Collecting asgiref<4,>=3.3.2\n",
            "  Downloading https://files.pythonhosted.org/packages/17/8b/05e225d11154b8f5358e6a6d277679c9741ec0339d1e451c9cef687a9170/asgiref-3.3.4-py3-none-any.whl\n",
            "Requirement already satisfied: sqlparse>=0.2.2 in /usr/local/lib/python3.7/dist-packages (from django->Image) (0.4.1)\n",
            "Requirement already satisfied: pytz in /usr/local/lib/python3.7/dist-packages (from django->Image) (2018.9)\n",
            "Requirement already satisfied: typing-extensions; python_version < \"3.8\" in /usr/local/lib/python3.7/dist-packages (from asgiref<4,>=3.3.2->django->Image) (3.7.4.3)\n",
            "Building wheels for collected packages: Image\n",
            "  Building wheel for Image (setup.py) ... \u001b[?25l\u001b[?25hdone\n",
            "  Created wheel for Image: filename=image-1.5.33-py2.py3-none-any.whl size=19482 sha256=5cb41e6825be9834bcf157df82eff6345de37e82d371be7bc899173f628beb05\n",
            "  Stored in directory: /root/.cache/pip/wheels/87/4c/60/d5904e69c837fcdea7e03ffa0c657f35ced7e398c6f3ca17cc\n",
            "Successfully built Image\n",
            "Installing collected packages: asgiref, django, Image\n",
            "Successfully installed Image-1.5.33 asgiref-3.3.4 django-3.2.3\n"
          ],
          "name": "stdout"
        }
      ]
    },
    {
      "cell_type": "markdown",
      "metadata": {
        "id": "UIcZ0QmstKVD"
      },
      "source": [
        "## Carga Datos"
      ]
    },
    {
      "cell_type": "code",
      "metadata": {
        "id": "3hKaK8M-rXsW",
        "colab": {
          "base_uri": "https://localhost:8080/",
          "height": 224
        },
        "outputId": "c39fab55-287c-491b-d46f-657e81780aa5"
      },
      "source": [
        "#Lectura del archivo en Github\n",
        "#Header: Identificación del primer registro como la cabecera de la base de datos\n",
        "#Index: Identificador unico de la base de datos\n",
        "#Visualización de 5 registros    \n",
        "df0 = pd.read_excel(r\"https://github.com/joatamayoav/Trabajo_Final_Analitica_Predictiva/blob/main/fraud_data.xlsx?raw=true\"\n",
        "\n",
        "    )\n",
        "\n",
        "df0.head()"
      ],
      "execution_count": null,
      "outputs": [
        {
          "output_type": "execute_result",
          "data": {
            "text/html": [
              "<div>\n",
              "<style scoped>\n",
              "    .dataframe tbody tr th:only-of-type {\n",
              "        vertical-align: middle;\n",
              "    }\n",
              "\n",
              "    .dataframe tbody tr th {\n",
              "        vertical-align: top;\n",
              "    }\n",
              "\n",
              "    .dataframe thead th {\n",
              "        text-align: right;\n",
              "    }\n",
              "</style>\n",
              "<table border=\"1\" class=\"dataframe\">\n",
              "  <thead>\n",
              "    <tr style=\"text-align: right;\">\n",
              "      <th></th>\n",
              "      <th>V1</th>\n",
              "      <th>V2</th>\n",
              "      <th>V3</th>\n",
              "      <th>V4</th>\n",
              "      <th>V5</th>\n",
              "      <th>V6</th>\n",
              "      <th>V7</th>\n",
              "      <th>V8</th>\n",
              "      <th>V9</th>\n",
              "      <th>V10</th>\n",
              "      <th>V11</th>\n",
              "      <th>V12</th>\n",
              "      <th>V13</th>\n",
              "      <th>V14</th>\n",
              "      <th>V15</th>\n",
              "      <th>V16</th>\n",
              "      <th>V17</th>\n",
              "      <th>V18</th>\n",
              "      <th>V19</th>\n",
              "      <th>V20</th>\n",
              "      <th>V21</th>\n",
              "      <th>V22</th>\n",
              "      <th>V23</th>\n",
              "      <th>V24</th>\n",
              "      <th>V25</th>\n",
              "      <th>V26</th>\n",
              "      <th>V27</th>\n",
              "      <th>V28</th>\n",
              "      <th>Amount</th>\n",
              "      <th>Class</th>\n",
              "    </tr>\n",
              "  </thead>\n",
              "  <tbody>\n",
              "    <tr>\n",
              "      <th>0</th>\n",
              "      <td>1.176563</td>\n",
              "      <td>0.323798</td>\n",
              "      <td>0.536927</td>\n",
              "      <td>1.047002</td>\n",
              "      <td>-0.368652</td>\n",
              "      <td>-0.728586</td>\n",
              "      <td>0.084678</td>\n",
              "      <td>-0.069246</td>\n",
              "      <td>-0.266389</td>\n",
              "      <td>0.155315</td>\n",
              "      <td>1.535776</td>\n",
              "      <td>1.019947</td>\n",
              "      <td>-0.096511</td>\n",
              "      <td>0.573023</td>\n",
              "      <td>0.215214</td>\n",
              "      <td>0.265249</td>\n",
              "      <td>-0.612064</td>\n",
              "      <td>0.093821</td>\n",
              "      <td>-0.064890</td>\n",
              "      <td>-0.137258</td>\n",
              "      <td>-0.109627</td>\n",
              "      <td>-0.341365</td>\n",
              "      <td>0.057845</td>\n",
              "      <td>0.499180</td>\n",
              "      <td>0.415211</td>\n",
              "      <td>-0.581949</td>\n",
              "      <td>0.015472</td>\n",
              "      <td>0.018065</td>\n",
              "      <td>4.67</td>\n",
              "      <td>0</td>\n",
              "    </tr>\n",
              "    <tr>\n",
              "      <th>1</th>\n",
              "      <td>0.681109</td>\n",
              "      <td>-3.934776</td>\n",
              "      <td>-3.801827</td>\n",
              "      <td>-1.147468</td>\n",
              "      <td>-0.735540</td>\n",
              "      <td>-0.501097</td>\n",
              "      <td>1.038865</td>\n",
              "      <td>-0.626979</td>\n",
              "      <td>-2.274423</td>\n",
              "      <td>1.527782</td>\n",
              "      <td>-0.007688</td>\n",
              "      <td>-1.087403</td>\n",
              "      <td>-0.720270</td>\n",
              "      <td>0.855185</td>\n",
              "      <td>-1.070011</td>\n",
              "      <td>-0.869661</td>\n",
              "      <td>0.395302</td>\n",
              "      <td>0.635695</td>\n",
              "      <td>0.249401</td>\n",
              "      <td>1.341809</td>\n",
              "      <td>0.652202</td>\n",
              "      <td>0.272684</td>\n",
              "      <td>-0.982151</td>\n",
              "      <td>0.165900</td>\n",
              "      <td>0.360251</td>\n",
              "      <td>0.195321</td>\n",
              "      <td>-0.256273</td>\n",
              "      <td>0.056501</td>\n",
              "      <td>912.00</td>\n",
              "      <td>0</td>\n",
              "    </tr>\n",
              "    <tr>\n",
              "      <th>2</th>\n",
              "      <td>1.140729</td>\n",
              "      <td>0.453484</td>\n",
              "      <td>0.247010</td>\n",
              "      <td>2.383132</td>\n",
              "      <td>0.343287</td>\n",
              "      <td>0.432804</td>\n",
              "      <td>0.093380</td>\n",
              "      <td>0.173310</td>\n",
              "      <td>-0.808999</td>\n",
              "      <td>0.775436</td>\n",
              "      <td>0.726218</td>\n",
              "      <td>0.347648</td>\n",
              "      <td>-0.806752</td>\n",
              "      <td>0.531268</td>\n",
              "      <td>-0.806538</td>\n",
              "      <td>0.154996</td>\n",
              "      <td>-0.319935</td>\n",
              "      <td>-0.335550</td>\n",
              "      <td>-0.648994</td>\n",
              "      <td>-0.232185</td>\n",
              "      <td>-0.003802</td>\n",
              "      <td>0.058556</td>\n",
              "      <td>-0.121177</td>\n",
              "      <td>-0.304215</td>\n",
              "      <td>0.645893</td>\n",
              "      <td>0.122600</td>\n",
              "      <td>-0.012115</td>\n",
              "      <td>-0.005945</td>\n",
              "      <td>1.00</td>\n",
              "      <td>0</td>\n",
              "    </tr>\n",
              "    <tr>\n",
              "      <th>3</th>\n",
              "      <td>-1.107073</td>\n",
              "      <td>-3.298902</td>\n",
              "      <td>-0.184092</td>\n",
              "      <td>-1.795744</td>\n",
              "      <td>2.137564</td>\n",
              "      <td>-1.684992</td>\n",
              "      <td>-2.015606</td>\n",
              "      <td>-0.007181</td>\n",
              "      <td>-0.165760</td>\n",
              "      <td>0.869659</td>\n",
              "      <td>-1.027847</td>\n",
              "      <td>-3.220699</td>\n",
              "      <td>3.007008</td>\n",
              "      <td>0.794679</td>\n",
              "      <td>-1.504351</td>\n",
              "      <td>-0.380985</td>\n",
              "      <td>0.667344</td>\n",
              "      <td>0.676138</td>\n",
              "      <td>-0.419469</td>\n",
              "      <td>0.348269</td>\n",
              "      <td>0.130648</td>\n",
              "      <td>0.329445</td>\n",
              "      <td>0.927656</td>\n",
              "      <td>-0.049560</td>\n",
              "      <td>-1.892866</td>\n",
              "      <td>-0.575431</td>\n",
              "      <td>0.266573</td>\n",
              "      <td>0.414184</td>\n",
              "      <td>62.10</td>\n",
              "      <td>0</td>\n",
              "    </tr>\n",
              "    <tr>\n",
              "      <th>4</th>\n",
              "      <td>-0.314818</td>\n",
              "      <td>0.866839</td>\n",
              "      <td>-0.124577</td>\n",
              "      <td>-0.627638</td>\n",
              "      <td>2.651762</td>\n",
              "      <td>3.428128</td>\n",
              "      <td>0.194637</td>\n",
              "      <td>0.670674</td>\n",
              "      <td>-0.442658</td>\n",
              "      <td>0.133499</td>\n",
              "      <td>0.148566</td>\n",
              "      <td>-0.474103</td>\n",
              "      <td>-0.011319</td>\n",
              "      <td>-0.410223</td>\n",
              "      <td>1.648979</td>\n",
              "      <td>0.218394</td>\n",
              "      <td>-0.239475</td>\n",
              "      <td>0.422933</td>\n",
              "      <td>1.274986</td>\n",
              "      <td>0.402329</td>\n",
              "      <td>-0.312774</td>\n",
              "      <td>-0.799494</td>\n",
              "      <td>-0.064488</td>\n",
              "      <td>0.953062</td>\n",
              "      <td>-0.429550</td>\n",
              "      <td>0.158225</td>\n",
              "      <td>0.076943</td>\n",
              "      <td>-0.015051</td>\n",
              "      <td>2.67</td>\n",
              "      <td>0</td>\n",
              "    </tr>\n",
              "  </tbody>\n",
              "</table>\n",
              "</div>"
            ],
            "text/plain": [
              "         V1        V2        V3        V4  ...       V27       V28  Amount  Class\n",
              "0  1.176563  0.323798  0.536927  1.047002  ...  0.015472  0.018065    4.67      0\n",
              "1  0.681109 -3.934776 -3.801827 -1.147468  ... -0.256273  0.056501  912.00      0\n",
              "2  1.140729  0.453484  0.247010  2.383132  ... -0.012115 -0.005945    1.00      0\n",
              "3 -1.107073 -3.298902 -0.184092 -1.795744  ...  0.266573  0.414184   62.10      0\n",
              "4 -0.314818  0.866839 -0.124577 -0.627638  ...  0.076943 -0.015051    2.67      0\n",
              "\n",
              "[5 rows x 30 columns]"
            ]
          },
          "metadata": {
            "tags": []
          },
          "execution_count": 2
        }
      ]
    },
    {
      "cell_type": "code",
      "metadata": {
        "id": "z_htjJcgrXsW",
        "colab": {
          "base_uri": "https://localhost:8080/",
          "height": 241
        },
        "outputId": "9f91ac32-a2ef-4369-a96b-b75d37121c51"
      },
      "source": [
        "#Renombra variables en de mayúsculas a minúsculas\n",
        "#Cambiar variable y de \"default payment next month\" a \"Variable dependiente\"\n",
        "df0.rename(columns=lambda x: x.lower(), inplace=True)\n",
        "df0.rename(columns={\"class\":\"Variable dependiente\"}, inplace=True) \n",
        "df0.head()\n"
      ],
      "execution_count": null,
      "outputs": [
        {
          "output_type": "execute_result",
          "data": {
            "text/html": [
              "<div>\n",
              "<style scoped>\n",
              "    .dataframe tbody tr th:only-of-type {\n",
              "        vertical-align: middle;\n",
              "    }\n",
              "\n",
              "    .dataframe tbody tr th {\n",
              "        vertical-align: top;\n",
              "    }\n",
              "\n",
              "    .dataframe thead th {\n",
              "        text-align: right;\n",
              "    }\n",
              "</style>\n",
              "<table border=\"1\" class=\"dataframe\">\n",
              "  <thead>\n",
              "    <tr style=\"text-align: right;\">\n",
              "      <th></th>\n",
              "      <th>v1</th>\n",
              "      <th>v2</th>\n",
              "      <th>v3</th>\n",
              "      <th>v4</th>\n",
              "      <th>v5</th>\n",
              "      <th>v6</th>\n",
              "      <th>v7</th>\n",
              "      <th>v8</th>\n",
              "      <th>v9</th>\n",
              "      <th>v10</th>\n",
              "      <th>v11</th>\n",
              "      <th>v12</th>\n",
              "      <th>v13</th>\n",
              "      <th>v14</th>\n",
              "      <th>v15</th>\n",
              "      <th>v16</th>\n",
              "      <th>v17</th>\n",
              "      <th>v18</th>\n",
              "      <th>v19</th>\n",
              "      <th>v20</th>\n",
              "      <th>v21</th>\n",
              "      <th>v22</th>\n",
              "      <th>v23</th>\n",
              "      <th>v24</th>\n",
              "      <th>v25</th>\n",
              "      <th>v26</th>\n",
              "      <th>v27</th>\n",
              "      <th>v28</th>\n",
              "      <th>amount</th>\n",
              "      <th>Variable dependiente</th>\n",
              "    </tr>\n",
              "  </thead>\n",
              "  <tbody>\n",
              "    <tr>\n",
              "      <th>0</th>\n",
              "      <td>1.176563</td>\n",
              "      <td>0.323798</td>\n",
              "      <td>0.536927</td>\n",
              "      <td>1.047002</td>\n",
              "      <td>-0.368652</td>\n",
              "      <td>-0.728586</td>\n",
              "      <td>0.084678</td>\n",
              "      <td>-0.069246</td>\n",
              "      <td>-0.266389</td>\n",
              "      <td>0.155315</td>\n",
              "      <td>1.535776</td>\n",
              "      <td>1.019947</td>\n",
              "      <td>-0.096511</td>\n",
              "      <td>0.573023</td>\n",
              "      <td>0.215214</td>\n",
              "      <td>0.265249</td>\n",
              "      <td>-0.612064</td>\n",
              "      <td>0.093821</td>\n",
              "      <td>-0.064890</td>\n",
              "      <td>-0.137258</td>\n",
              "      <td>-0.109627</td>\n",
              "      <td>-0.341365</td>\n",
              "      <td>0.057845</td>\n",
              "      <td>0.499180</td>\n",
              "      <td>0.415211</td>\n",
              "      <td>-0.581949</td>\n",
              "      <td>0.015472</td>\n",
              "      <td>0.018065</td>\n",
              "      <td>4.67</td>\n",
              "      <td>0</td>\n",
              "    </tr>\n",
              "    <tr>\n",
              "      <th>1</th>\n",
              "      <td>0.681109</td>\n",
              "      <td>-3.934776</td>\n",
              "      <td>-3.801827</td>\n",
              "      <td>-1.147468</td>\n",
              "      <td>-0.735540</td>\n",
              "      <td>-0.501097</td>\n",
              "      <td>1.038865</td>\n",
              "      <td>-0.626979</td>\n",
              "      <td>-2.274423</td>\n",
              "      <td>1.527782</td>\n",
              "      <td>-0.007688</td>\n",
              "      <td>-1.087403</td>\n",
              "      <td>-0.720270</td>\n",
              "      <td>0.855185</td>\n",
              "      <td>-1.070011</td>\n",
              "      <td>-0.869661</td>\n",
              "      <td>0.395302</td>\n",
              "      <td>0.635695</td>\n",
              "      <td>0.249401</td>\n",
              "      <td>1.341809</td>\n",
              "      <td>0.652202</td>\n",
              "      <td>0.272684</td>\n",
              "      <td>-0.982151</td>\n",
              "      <td>0.165900</td>\n",
              "      <td>0.360251</td>\n",
              "      <td>0.195321</td>\n",
              "      <td>-0.256273</td>\n",
              "      <td>0.056501</td>\n",
              "      <td>912.00</td>\n",
              "      <td>0</td>\n",
              "    </tr>\n",
              "    <tr>\n",
              "      <th>2</th>\n",
              "      <td>1.140729</td>\n",
              "      <td>0.453484</td>\n",
              "      <td>0.247010</td>\n",
              "      <td>2.383132</td>\n",
              "      <td>0.343287</td>\n",
              "      <td>0.432804</td>\n",
              "      <td>0.093380</td>\n",
              "      <td>0.173310</td>\n",
              "      <td>-0.808999</td>\n",
              "      <td>0.775436</td>\n",
              "      <td>0.726218</td>\n",
              "      <td>0.347648</td>\n",
              "      <td>-0.806752</td>\n",
              "      <td>0.531268</td>\n",
              "      <td>-0.806538</td>\n",
              "      <td>0.154996</td>\n",
              "      <td>-0.319935</td>\n",
              "      <td>-0.335550</td>\n",
              "      <td>-0.648994</td>\n",
              "      <td>-0.232185</td>\n",
              "      <td>-0.003802</td>\n",
              "      <td>0.058556</td>\n",
              "      <td>-0.121177</td>\n",
              "      <td>-0.304215</td>\n",
              "      <td>0.645893</td>\n",
              "      <td>0.122600</td>\n",
              "      <td>-0.012115</td>\n",
              "      <td>-0.005945</td>\n",
              "      <td>1.00</td>\n",
              "      <td>0</td>\n",
              "    </tr>\n",
              "    <tr>\n",
              "      <th>3</th>\n",
              "      <td>-1.107073</td>\n",
              "      <td>-3.298902</td>\n",
              "      <td>-0.184092</td>\n",
              "      <td>-1.795744</td>\n",
              "      <td>2.137564</td>\n",
              "      <td>-1.684992</td>\n",
              "      <td>-2.015606</td>\n",
              "      <td>-0.007181</td>\n",
              "      <td>-0.165760</td>\n",
              "      <td>0.869659</td>\n",
              "      <td>-1.027847</td>\n",
              "      <td>-3.220699</td>\n",
              "      <td>3.007008</td>\n",
              "      <td>0.794679</td>\n",
              "      <td>-1.504351</td>\n",
              "      <td>-0.380985</td>\n",
              "      <td>0.667344</td>\n",
              "      <td>0.676138</td>\n",
              "      <td>-0.419469</td>\n",
              "      <td>0.348269</td>\n",
              "      <td>0.130648</td>\n",
              "      <td>0.329445</td>\n",
              "      <td>0.927656</td>\n",
              "      <td>-0.049560</td>\n",
              "      <td>-1.892866</td>\n",
              "      <td>-0.575431</td>\n",
              "      <td>0.266573</td>\n",
              "      <td>0.414184</td>\n",
              "      <td>62.10</td>\n",
              "      <td>0</td>\n",
              "    </tr>\n",
              "    <tr>\n",
              "      <th>4</th>\n",
              "      <td>-0.314818</td>\n",
              "      <td>0.866839</td>\n",
              "      <td>-0.124577</td>\n",
              "      <td>-0.627638</td>\n",
              "      <td>2.651762</td>\n",
              "      <td>3.428128</td>\n",
              "      <td>0.194637</td>\n",
              "      <td>0.670674</td>\n",
              "      <td>-0.442658</td>\n",
              "      <td>0.133499</td>\n",
              "      <td>0.148566</td>\n",
              "      <td>-0.474103</td>\n",
              "      <td>-0.011319</td>\n",
              "      <td>-0.410223</td>\n",
              "      <td>1.648979</td>\n",
              "      <td>0.218394</td>\n",
              "      <td>-0.239475</td>\n",
              "      <td>0.422933</td>\n",
              "      <td>1.274986</td>\n",
              "      <td>0.402329</td>\n",
              "      <td>-0.312774</td>\n",
              "      <td>-0.799494</td>\n",
              "      <td>-0.064488</td>\n",
              "      <td>0.953062</td>\n",
              "      <td>-0.429550</td>\n",
              "      <td>0.158225</td>\n",
              "      <td>0.076943</td>\n",
              "      <td>-0.015051</td>\n",
              "      <td>2.67</td>\n",
              "      <td>0</td>\n",
              "    </tr>\n",
              "  </tbody>\n",
              "</table>\n",
              "</div>"
            ],
            "text/plain": [
              "         v1        v2        v3  ...       v28  amount  Variable dependiente\n",
              "0  1.176563  0.323798  0.536927  ...  0.018065    4.67                     0\n",
              "1  0.681109 -3.934776 -3.801827  ...  0.056501  912.00                     0\n",
              "2  1.140729  0.453484  0.247010  ... -0.005945    1.00                     0\n",
              "3 -1.107073 -3.298902 -0.184092  ...  0.414184   62.10                     0\n",
              "4 -0.314818  0.866839 -0.124577  ... -0.015051    2.67                     0\n",
              "\n",
              "[5 rows x 30 columns]"
            ]
          },
          "metadata": {
            "tags": []
          },
          "execution_count": 5
        }
      ]
    },
    {
      "cell_type": "code",
      "metadata": {
        "id": "eEHgTr-suEJg",
        "colab": {
          "base_uri": "https://localhost:8080/",
          "height": 241
        },
        "outputId": "db2763cd-26bd-4f03-ea87-3b6b17ab1289"
      },
      "source": [
        "# Se crea copia del Dataframe original para no dañarlo\n",
        "df = df0.copy()\n",
        "df.head()"
      ],
      "execution_count": null,
      "outputs": [
        {
          "output_type": "execute_result",
          "data": {
            "text/html": [
              "<div>\n",
              "<style scoped>\n",
              "    .dataframe tbody tr th:only-of-type {\n",
              "        vertical-align: middle;\n",
              "    }\n",
              "\n",
              "    .dataframe tbody tr th {\n",
              "        vertical-align: top;\n",
              "    }\n",
              "\n",
              "    .dataframe thead th {\n",
              "        text-align: right;\n",
              "    }\n",
              "</style>\n",
              "<table border=\"1\" class=\"dataframe\">\n",
              "  <thead>\n",
              "    <tr style=\"text-align: right;\">\n",
              "      <th></th>\n",
              "      <th>v1</th>\n",
              "      <th>v2</th>\n",
              "      <th>v3</th>\n",
              "      <th>v4</th>\n",
              "      <th>v5</th>\n",
              "      <th>v6</th>\n",
              "      <th>v7</th>\n",
              "      <th>v8</th>\n",
              "      <th>v9</th>\n",
              "      <th>v10</th>\n",
              "      <th>v11</th>\n",
              "      <th>v12</th>\n",
              "      <th>v13</th>\n",
              "      <th>v14</th>\n",
              "      <th>v15</th>\n",
              "      <th>v16</th>\n",
              "      <th>v17</th>\n",
              "      <th>v18</th>\n",
              "      <th>v19</th>\n",
              "      <th>v20</th>\n",
              "      <th>v21</th>\n",
              "      <th>v22</th>\n",
              "      <th>v23</th>\n",
              "      <th>v24</th>\n",
              "      <th>v25</th>\n",
              "      <th>v26</th>\n",
              "      <th>v27</th>\n",
              "      <th>v28</th>\n",
              "      <th>amount</th>\n",
              "      <th>Variable dependiente</th>\n",
              "    </tr>\n",
              "  </thead>\n",
              "  <tbody>\n",
              "    <tr>\n",
              "      <th>0</th>\n",
              "      <td>1.176563</td>\n",
              "      <td>0.323798</td>\n",
              "      <td>0.536927</td>\n",
              "      <td>1.047002</td>\n",
              "      <td>-0.368652</td>\n",
              "      <td>-0.728586</td>\n",
              "      <td>0.084678</td>\n",
              "      <td>-0.069246</td>\n",
              "      <td>-0.266389</td>\n",
              "      <td>0.155315</td>\n",
              "      <td>1.535776</td>\n",
              "      <td>1.019947</td>\n",
              "      <td>-0.096511</td>\n",
              "      <td>0.573023</td>\n",
              "      <td>0.215214</td>\n",
              "      <td>0.265249</td>\n",
              "      <td>-0.612064</td>\n",
              "      <td>0.093821</td>\n",
              "      <td>-0.064890</td>\n",
              "      <td>-0.137258</td>\n",
              "      <td>-0.109627</td>\n",
              "      <td>-0.341365</td>\n",
              "      <td>0.057845</td>\n",
              "      <td>0.499180</td>\n",
              "      <td>0.415211</td>\n",
              "      <td>-0.581949</td>\n",
              "      <td>0.015472</td>\n",
              "      <td>0.018065</td>\n",
              "      <td>4.67</td>\n",
              "      <td>0</td>\n",
              "    </tr>\n",
              "    <tr>\n",
              "      <th>1</th>\n",
              "      <td>0.681109</td>\n",
              "      <td>-3.934776</td>\n",
              "      <td>-3.801827</td>\n",
              "      <td>-1.147468</td>\n",
              "      <td>-0.735540</td>\n",
              "      <td>-0.501097</td>\n",
              "      <td>1.038865</td>\n",
              "      <td>-0.626979</td>\n",
              "      <td>-2.274423</td>\n",
              "      <td>1.527782</td>\n",
              "      <td>-0.007688</td>\n",
              "      <td>-1.087403</td>\n",
              "      <td>-0.720270</td>\n",
              "      <td>0.855185</td>\n",
              "      <td>-1.070011</td>\n",
              "      <td>-0.869661</td>\n",
              "      <td>0.395302</td>\n",
              "      <td>0.635695</td>\n",
              "      <td>0.249401</td>\n",
              "      <td>1.341809</td>\n",
              "      <td>0.652202</td>\n",
              "      <td>0.272684</td>\n",
              "      <td>-0.982151</td>\n",
              "      <td>0.165900</td>\n",
              "      <td>0.360251</td>\n",
              "      <td>0.195321</td>\n",
              "      <td>-0.256273</td>\n",
              "      <td>0.056501</td>\n",
              "      <td>912.00</td>\n",
              "      <td>0</td>\n",
              "    </tr>\n",
              "    <tr>\n",
              "      <th>2</th>\n",
              "      <td>1.140729</td>\n",
              "      <td>0.453484</td>\n",
              "      <td>0.247010</td>\n",
              "      <td>2.383132</td>\n",
              "      <td>0.343287</td>\n",
              "      <td>0.432804</td>\n",
              "      <td>0.093380</td>\n",
              "      <td>0.173310</td>\n",
              "      <td>-0.808999</td>\n",
              "      <td>0.775436</td>\n",
              "      <td>0.726218</td>\n",
              "      <td>0.347648</td>\n",
              "      <td>-0.806752</td>\n",
              "      <td>0.531268</td>\n",
              "      <td>-0.806538</td>\n",
              "      <td>0.154996</td>\n",
              "      <td>-0.319935</td>\n",
              "      <td>-0.335550</td>\n",
              "      <td>-0.648994</td>\n",
              "      <td>-0.232185</td>\n",
              "      <td>-0.003802</td>\n",
              "      <td>0.058556</td>\n",
              "      <td>-0.121177</td>\n",
              "      <td>-0.304215</td>\n",
              "      <td>0.645893</td>\n",
              "      <td>0.122600</td>\n",
              "      <td>-0.012115</td>\n",
              "      <td>-0.005945</td>\n",
              "      <td>1.00</td>\n",
              "      <td>0</td>\n",
              "    </tr>\n",
              "    <tr>\n",
              "      <th>3</th>\n",
              "      <td>-1.107073</td>\n",
              "      <td>-3.298902</td>\n",
              "      <td>-0.184092</td>\n",
              "      <td>-1.795744</td>\n",
              "      <td>2.137564</td>\n",
              "      <td>-1.684992</td>\n",
              "      <td>-2.015606</td>\n",
              "      <td>-0.007181</td>\n",
              "      <td>-0.165760</td>\n",
              "      <td>0.869659</td>\n",
              "      <td>-1.027847</td>\n",
              "      <td>-3.220699</td>\n",
              "      <td>3.007008</td>\n",
              "      <td>0.794679</td>\n",
              "      <td>-1.504351</td>\n",
              "      <td>-0.380985</td>\n",
              "      <td>0.667344</td>\n",
              "      <td>0.676138</td>\n",
              "      <td>-0.419469</td>\n",
              "      <td>0.348269</td>\n",
              "      <td>0.130648</td>\n",
              "      <td>0.329445</td>\n",
              "      <td>0.927656</td>\n",
              "      <td>-0.049560</td>\n",
              "      <td>-1.892866</td>\n",
              "      <td>-0.575431</td>\n",
              "      <td>0.266573</td>\n",
              "      <td>0.414184</td>\n",
              "      <td>62.10</td>\n",
              "      <td>0</td>\n",
              "    </tr>\n",
              "    <tr>\n",
              "      <th>4</th>\n",
              "      <td>-0.314818</td>\n",
              "      <td>0.866839</td>\n",
              "      <td>-0.124577</td>\n",
              "      <td>-0.627638</td>\n",
              "      <td>2.651762</td>\n",
              "      <td>3.428128</td>\n",
              "      <td>0.194637</td>\n",
              "      <td>0.670674</td>\n",
              "      <td>-0.442658</td>\n",
              "      <td>0.133499</td>\n",
              "      <td>0.148566</td>\n",
              "      <td>-0.474103</td>\n",
              "      <td>-0.011319</td>\n",
              "      <td>-0.410223</td>\n",
              "      <td>1.648979</td>\n",
              "      <td>0.218394</td>\n",
              "      <td>-0.239475</td>\n",
              "      <td>0.422933</td>\n",
              "      <td>1.274986</td>\n",
              "      <td>0.402329</td>\n",
              "      <td>-0.312774</td>\n",
              "      <td>-0.799494</td>\n",
              "      <td>-0.064488</td>\n",
              "      <td>0.953062</td>\n",
              "      <td>-0.429550</td>\n",
              "      <td>0.158225</td>\n",
              "      <td>0.076943</td>\n",
              "      <td>-0.015051</td>\n",
              "      <td>2.67</td>\n",
              "      <td>0</td>\n",
              "    </tr>\n",
              "  </tbody>\n",
              "</table>\n",
              "</div>"
            ],
            "text/plain": [
              "         v1        v2        v3  ...       v28  amount  Variable dependiente\n",
              "0  1.176563  0.323798  0.536927  ...  0.018065    4.67                     0\n",
              "1  0.681109 -3.934776 -3.801827  ...  0.056501  912.00                     0\n",
              "2  1.140729  0.453484  0.247010  ... -0.005945    1.00                     0\n",
              "3 -1.107073 -3.298902 -0.184092  ...  0.414184   62.10                     0\n",
              "4 -0.314818  0.866839 -0.124577  ... -0.015051    2.67                     0\n",
              "\n",
              "[5 rows x 30 columns]"
            ]
          },
          "metadata": {
            "tags": []
          },
          "execution_count": 6
        }
      ]
    },
    {
      "cell_type": "markdown",
      "metadata": {
        "id": "39Fl4lgarXsX"
      },
      "source": [
        "# Analisis descriptivo"
      ]
    },
    {
      "cell_type": "code",
      "metadata": {
        "id": "qZf4zDnirXsX",
        "colab": {
          "base_uri": "https://localhost:8080/",
          "height": 878
        },
        "outputId": "454bfc4e-9ca7-414b-cd76-2db1e7e6e9e5"
      },
      "source": [
        "#dtypes: Visualizar variables y tipo de variables de la data\n",
        "#df.shape: Cuantas variables y registros hay en la data\n",
        "#Estatidisticas básicas de la data\n",
        "print(df.dtypes)\n",
        "print(df.shape)\n",
        "df.describe()"
      ],
      "execution_count": null,
      "outputs": [
        {
          "output_type": "stream",
          "text": [
            "v1                      float64\n",
            "v2                      float64\n",
            "v3                      float64\n",
            "v4                      float64\n",
            "v5                      float64\n",
            "v6                      float64\n",
            "v7                      float64\n",
            "v8                      float64\n",
            "v9                      float64\n",
            "v10                     float64\n",
            "v11                     float64\n",
            "v12                     float64\n",
            "v13                     float64\n",
            "v14                     float64\n",
            "v15                     float64\n",
            "v16                     float64\n",
            "v17                     float64\n",
            "v18                     float64\n",
            "v19                     float64\n",
            "v20                     float64\n",
            "v21                     float64\n",
            "v22                     float64\n",
            "v23                     float64\n",
            "v24                     float64\n",
            "v25                     float64\n",
            "v26                     float64\n",
            "v27                     float64\n",
            "v28                     float64\n",
            "amount                  float64\n",
            "Variable dependiente      int64\n",
            "dtype: object\n",
            "(21693, 30)\n"
          ],
          "name": "stdout"
        },
        {
          "output_type": "execute_result",
          "data": {
            "text/html": [
              "<div>\n",
              "<style scoped>\n",
              "    .dataframe tbody tr th:only-of-type {\n",
              "        vertical-align: middle;\n",
              "    }\n",
              "\n",
              "    .dataframe tbody tr th {\n",
              "        vertical-align: top;\n",
              "    }\n",
              "\n",
              "    .dataframe thead th {\n",
              "        text-align: right;\n",
              "    }\n",
              "</style>\n",
              "<table border=\"1\" class=\"dataframe\">\n",
              "  <thead>\n",
              "    <tr style=\"text-align: right;\">\n",
              "      <th></th>\n",
              "      <th>v1</th>\n",
              "      <th>v2</th>\n",
              "      <th>v3</th>\n",
              "      <th>v4</th>\n",
              "      <th>v5</th>\n",
              "      <th>v6</th>\n",
              "      <th>v7</th>\n",
              "      <th>v8</th>\n",
              "      <th>v9</th>\n",
              "      <th>v10</th>\n",
              "      <th>v11</th>\n",
              "      <th>v12</th>\n",
              "      <th>v13</th>\n",
              "      <th>v14</th>\n",
              "      <th>v15</th>\n",
              "      <th>v16</th>\n",
              "      <th>v17</th>\n",
              "      <th>v18</th>\n",
              "      <th>v19</th>\n",
              "      <th>v20</th>\n",
              "      <th>v21</th>\n",
              "      <th>v22</th>\n",
              "      <th>v23</th>\n",
              "      <th>v24</th>\n",
              "      <th>v25</th>\n",
              "      <th>v26</th>\n",
              "      <th>v27</th>\n",
              "      <th>v28</th>\n",
              "      <th>amount</th>\n",
              "      <th>Variable dependiente</th>\n",
              "    </tr>\n",
              "  </thead>\n",
              "  <tbody>\n",
              "    <tr>\n",
              "      <th>count</th>\n",
              "      <td>21693.000000</td>\n",
              "      <td>21693.000000</td>\n",
              "      <td>21693.000000</td>\n",
              "      <td>21693.000000</td>\n",
              "      <td>21693.000000</td>\n",
              "      <td>21693.000000</td>\n",
              "      <td>21693.000000</td>\n",
              "      <td>21693.000000</td>\n",
              "      <td>21693.000000</td>\n",
              "      <td>21693.000000</td>\n",
              "      <td>21693.000000</td>\n",
              "      <td>21693.000000</td>\n",
              "      <td>21693.000000</td>\n",
              "      <td>21693.000000</td>\n",
              "      <td>21693.000000</td>\n",
              "      <td>21693.000000</td>\n",
              "      <td>21693.000000</td>\n",
              "      <td>21693.000000</td>\n",
              "      <td>21693.000000</td>\n",
              "      <td>21693.000000</td>\n",
              "      <td>21693.000000</td>\n",
              "      <td>21693.000000</td>\n",
              "      <td>21693.000000</td>\n",
              "      <td>21693.000000</td>\n",
              "      <td>21693.000000</td>\n",
              "      <td>21693.000000</td>\n",
              "      <td>21693.000000</td>\n",
              "      <td>21693.000000</td>\n",
              "      <td>21693.000000</td>\n",
              "      <td>21693.000000</td>\n",
              "    </tr>\n",
              "    <tr>\n",
              "      <th>mean</th>\n",
              "      <td>-0.032403</td>\n",
              "      <td>0.047565</td>\n",
              "      <td>-0.091623</td>\n",
              "      <td>0.057805</td>\n",
              "      <td>-0.033983</td>\n",
              "      <td>-0.023207</td>\n",
              "      <td>-0.074203</td>\n",
              "      <td>0.002096</td>\n",
              "      <td>-0.044311</td>\n",
              "      <td>-0.091073</td>\n",
              "      <td>0.067173</td>\n",
              "      <td>-0.094268</td>\n",
              "      <td>-0.000667</td>\n",
              "      <td>-0.091499</td>\n",
              "      <td>-0.003917</td>\n",
              "      <td>-0.055079</td>\n",
              "      <td>-0.098357</td>\n",
              "      <td>-0.033488</td>\n",
              "      <td>0.021861</td>\n",
              "      <td>-0.001762</td>\n",
              "      <td>0.012471</td>\n",
              "      <td>0.003743</td>\n",
              "      <td>-0.001662</td>\n",
              "      <td>-0.002446</td>\n",
              "      <td>-0.000406</td>\n",
              "      <td>0.002367</td>\n",
              "      <td>0.001514</td>\n",
              "      <td>0.003203</td>\n",
              "      <td>86.776247</td>\n",
              "      <td>0.016411</td>\n",
              "    </tr>\n",
              "    <tr>\n",
              "      <th>std</th>\n",
              "      <td>2.106997</td>\n",
              "      <td>1.690911</td>\n",
              "      <td>1.870289</td>\n",
              "      <td>1.540329</td>\n",
              "      <td>1.530508</td>\n",
              "      <td>1.340599</td>\n",
              "      <td>1.596775</td>\n",
              "      <td>1.412650</td>\n",
              "      <td>1.158554</td>\n",
              "      <td>1.354886</td>\n",
              "      <td>1.154227</td>\n",
              "      <td>1.364933</td>\n",
              "      <td>0.989655</td>\n",
              "      <td>1.356199</td>\n",
              "      <td>0.916582</td>\n",
              "      <td>1.096472</td>\n",
              "      <td>1.424975</td>\n",
              "      <td>0.936769</td>\n",
              "      <td>0.843902</td>\n",
              "      <td>0.727979</td>\n",
              "      <td>0.850009</td>\n",
              "      <td>0.741348</td>\n",
              "      <td>0.629987</td>\n",
              "      <td>0.600144</td>\n",
              "      <td>0.520949</td>\n",
              "      <td>0.478279</td>\n",
              "      <td>0.424688</td>\n",
              "      <td>0.302048</td>\n",
              "      <td>235.644479</td>\n",
              "      <td>0.127052</td>\n",
              "    </tr>\n",
              "    <tr>\n",
              "      <th>min</th>\n",
              "      <td>-41.928738</td>\n",
              "      <td>-40.803981</td>\n",
              "      <td>-31.103685</td>\n",
              "      <td>-4.848504</td>\n",
              "      <td>-32.092129</td>\n",
              "      <td>-20.367836</td>\n",
              "      <td>-41.506796</td>\n",
              "      <td>-38.987263</td>\n",
              "      <td>-13.434066</td>\n",
              "      <td>-24.403185</td>\n",
              "      <td>-3.995739</td>\n",
              "      <td>-18.553697</td>\n",
              "      <td>-3.844974</td>\n",
              "      <td>-19.214325</td>\n",
              "      <td>-4.498945</td>\n",
              "      <td>-14.129855</td>\n",
              "      <td>-24.019099</td>\n",
              "      <td>-9.498746</td>\n",
              "      <td>-4.395283</td>\n",
              "      <td>-21.024817</td>\n",
              "      <td>-21.453736</td>\n",
              "      <td>-8.887017</td>\n",
              "      <td>-21.303666</td>\n",
              "      <td>-2.766638</td>\n",
              "      <td>-4.541819</td>\n",
              "      <td>-1.855355</td>\n",
              "      <td>-7.764147</td>\n",
              "      <td>-6.520075</td>\n",
              "      <td>0.000000</td>\n",
              "      <td>0.000000</td>\n",
              "    </tr>\n",
              "    <tr>\n",
              "      <th>25%</th>\n",
              "      <td>-0.929371</td>\n",
              "      <td>-0.592921</td>\n",
              "      <td>-0.962975</td>\n",
              "      <td>-0.850069</td>\n",
              "      <td>-0.698296</td>\n",
              "      <td>-0.779041</td>\n",
              "      <td>-0.565297</td>\n",
              "      <td>-0.205943</td>\n",
              "      <td>-0.669752</td>\n",
              "      <td>-0.554596</td>\n",
              "      <td>-0.739193</td>\n",
              "      <td>-0.438730</td>\n",
              "      <td>-0.634030</td>\n",
              "      <td>-0.438416</td>\n",
              "      <td>-0.582193</td>\n",
              "      <td>-0.492689</td>\n",
              "      <td>-0.498984</td>\n",
              "      <td>-0.513216</td>\n",
              "      <td>-0.444441</td>\n",
              "      <td>-0.209710</td>\n",
              "      <td>-0.225142</td>\n",
              "      <td>-0.538258</td>\n",
              "      <td>-0.162395</td>\n",
              "      <td>-0.356356</td>\n",
              "      <td>-0.317296</td>\n",
              "      <td>-0.326141</td>\n",
              "      <td>-0.069938</td>\n",
              "      <td>-0.053334</td>\n",
              "      <td>5.370000</td>\n",
              "      <td>0.000000</td>\n",
              "    </tr>\n",
              "    <tr>\n",
              "      <th>50%</th>\n",
              "      <td>0.007545</td>\n",
              "      <td>0.075215</td>\n",
              "      <td>0.176534</td>\n",
              "      <td>-0.012868</td>\n",
              "      <td>-0.063948</td>\n",
              "      <td>-0.281565</td>\n",
              "      <td>0.030859</td>\n",
              "      <td>0.023159</td>\n",
              "      <td>-0.073996</td>\n",
              "      <td>-0.099291</td>\n",
              "      <td>0.005596</td>\n",
              "      <td>0.126666</td>\n",
              "      <td>-0.018642</td>\n",
              "      <td>0.044870</td>\n",
              "      <td>0.048753</td>\n",
              "      <td>0.059504</td>\n",
              "      <td>-0.075797</td>\n",
              "      <td>-0.019269</td>\n",
              "      <td>0.021719</td>\n",
              "      <td>-0.057330</td>\n",
              "      <td>-0.024133</td>\n",
              "      <td>0.007273</td>\n",
              "      <td>-0.012327</td>\n",
              "      <td>0.036878</td>\n",
              "      <td>0.011561</td>\n",
              "      <td>-0.044870</td>\n",
              "      <td>0.002475</td>\n",
              "      <td>0.011765</td>\n",
              "      <td>21.950000</td>\n",
              "      <td>0.000000</td>\n",
              "    </tr>\n",
              "    <tr>\n",
              "      <th>75%</th>\n",
              "      <td>1.315678</td>\n",
              "      <td>0.819749</td>\n",
              "      <td>1.020809</td>\n",
              "      <td>0.772388</td>\n",
              "      <td>0.615287</td>\n",
              "      <td>0.383633</td>\n",
              "      <td>0.563751</td>\n",
              "      <td>0.328411</td>\n",
              "      <td>0.590212</td>\n",
              "      <td>0.445474</td>\n",
              "      <td>0.786044</td>\n",
              "      <td>0.613676</td>\n",
              "      <td>0.652241</td>\n",
              "      <td>0.490003</td>\n",
              "      <td>0.642463</td>\n",
              "      <td>0.525327</td>\n",
              "      <td>0.389992</td>\n",
              "      <td>0.494700</td>\n",
              "      <td>0.484930</td>\n",
              "      <td>0.139059</td>\n",
              "      <td>0.192954</td>\n",
              "      <td>0.530333</td>\n",
              "      <td>0.146616</td>\n",
              "      <td>0.431931</td>\n",
              "      <td>0.354043</td>\n",
              "      <td>0.238629</td>\n",
              "      <td>0.095859</td>\n",
              "      <td>0.081749</td>\n",
              "      <td>76.480000</td>\n",
              "      <td>0.000000</td>\n",
              "    </tr>\n",
              "    <tr>\n",
              "      <th>max</th>\n",
              "      <td>2.451888</td>\n",
              "      <td>21.467203</td>\n",
              "      <td>4.069865</td>\n",
              "      <td>12.114672</td>\n",
              "      <td>29.162172</td>\n",
              "      <td>21.393069</td>\n",
              "      <td>34.303177</td>\n",
              "      <td>20.007208</td>\n",
              "      <td>9.125535</td>\n",
              "      <td>12.701538</td>\n",
              "      <td>12.018913</td>\n",
              "      <td>3.966626</td>\n",
              "      <td>4.099352</td>\n",
              "      <td>6.441021</td>\n",
              "      <td>5.720479</td>\n",
              "      <td>6.442798</td>\n",
              "      <td>6.609366</td>\n",
              "      <td>3.790316</td>\n",
              "      <td>4.851255</td>\n",
              "      <td>13.119819</td>\n",
              "      <td>27.202839</td>\n",
              "      <td>8.361985</td>\n",
              "      <td>15.626067</td>\n",
              "      <td>4.014444</td>\n",
              "      <td>5.541598</td>\n",
              "      <td>3.463246</td>\n",
              "      <td>9.879903</td>\n",
              "      <td>9.876371</td>\n",
              "      <td>7712.430000</td>\n",
              "      <td>1.000000</td>\n",
              "    </tr>\n",
              "  </tbody>\n",
              "</table>\n",
              "</div>"
            ],
            "text/plain": [
              "                 v1            v2  ...        amount  Variable dependiente\n",
              "count  21693.000000  21693.000000  ...  21693.000000          21693.000000\n",
              "mean      -0.032403      0.047565  ...     86.776247              0.016411\n",
              "std        2.106997      1.690911  ...    235.644479              0.127052\n",
              "min      -41.928738    -40.803981  ...      0.000000              0.000000\n",
              "25%       -0.929371     -0.592921  ...      5.370000              0.000000\n",
              "50%        0.007545      0.075215  ...     21.950000              0.000000\n",
              "75%        1.315678      0.819749  ...     76.480000              0.000000\n",
              "max        2.451888     21.467203  ...   7712.430000              1.000000\n",
              "\n",
              "[8 rows x 30 columns]"
            ]
          },
          "metadata": {
            "tags": []
          },
          "execution_count": 7
        }
      ]
    },
    {
      "cell_type": "markdown",
      "metadata": {
        "id": "P3pjJz0KrXsZ"
      },
      "source": [
        "## Análisis Exploratorio"
      ]
    },
    {
      "cell_type": "code",
      "metadata": {
        "id": "HJp-PnCurXsZ",
        "colab": {
          "base_uri": "https://localhost:8080/",
          "height": 148
        },
        "outputId": "ef7fb424-454e-4a10-b35b-f728277112b7"
      },
      "source": [
        "# Identificación de nulos por variable\n",
        "total = df.isnull().sum().sort_values(ascending = False)\n",
        "percent = (df.isnull().sum()/df.isnull().count()*100).sort_values(ascending = False)\n",
        "pd.concat([total, percent], axis=1, keys=['Total', 'Percent']).transpose()"
      ],
      "execution_count": null,
      "outputs": [
        {
          "output_type": "execute_result",
          "data": {
            "text/html": [
              "<div>\n",
              "<style scoped>\n",
              "    .dataframe tbody tr th:only-of-type {\n",
              "        vertical-align: middle;\n",
              "    }\n",
              "\n",
              "    .dataframe tbody tr th {\n",
              "        vertical-align: top;\n",
              "    }\n",
              "\n",
              "    .dataframe thead th {\n",
              "        text-align: right;\n",
              "    }\n",
              "</style>\n",
              "<table border=\"1\" class=\"dataframe\">\n",
              "  <thead>\n",
              "    <tr style=\"text-align: right;\">\n",
              "      <th></th>\n",
              "      <th>Variable dependiente</th>\n",
              "      <th>amount</th>\n",
              "      <th>v2</th>\n",
              "      <th>v3</th>\n",
              "      <th>v4</th>\n",
              "      <th>v5</th>\n",
              "      <th>v6</th>\n",
              "      <th>v7</th>\n",
              "      <th>v8</th>\n",
              "      <th>v9</th>\n",
              "      <th>v10</th>\n",
              "      <th>v11</th>\n",
              "      <th>v12</th>\n",
              "      <th>v13</th>\n",
              "      <th>v14</th>\n",
              "      <th>v15</th>\n",
              "      <th>v16</th>\n",
              "      <th>v17</th>\n",
              "      <th>v18</th>\n",
              "      <th>v19</th>\n",
              "      <th>v20</th>\n",
              "      <th>v21</th>\n",
              "      <th>v22</th>\n",
              "      <th>v23</th>\n",
              "      <th>v24</th>\n",
              "      <th>v25</th>\n",
              "      <th>v26</th>\n",
              "      <th>v27</th>\n",
              "      <th>v28</th>\n",
              "      <th>v1</th>\n",
              "    </tr>\n",
              "  </thead>\n",
              "  <tbody>\n",
              "    <tr>\n",
              "      <th>Total</th>\n",
              "      <td>0.0</td>\n",
              "      <td>0.0</td>\n",
              "      <td>0.0</td>\n",
              "      <td>0.0</td>\n",
              "      <td>0.0</td>\n",
              "      <td>0.0</td>\n",
              "      <td>0.0</td>\n",
              "      <td>0.0</td>\n",
              "      <td>0.0</td>\n",
              "      <td>0.0</td>\n",
              "      <td>0.0</td>\n",
              "      <td>0.0</td>\n",
              "      <td>0.0</td>\n",
              "      <td>0.0</td>\n",
              "      <td>0.0</td>\n",
              "      <td>0.0</td>\n",
              "      <td>0.0</td>\n",
              "      <td>0.0</td>\n",
              "      <td>0.0</td>\n",
              "      <td>0.0</td>\n",
              "      <td>0.0</td>\n",
              "      <td>0.0</td>\n",
              "      <td>0.0</td>\n",
              "      <td>0.0</td>\n",
              "      <td>0.0</td>\n",
              "      <td>0.0</td>\n",
              "      <td>0.0</td>\n",
              "      <td>0.0</td>\n",
              "      <td>0.0</td>\n",
              "      <td>0.0</td>\n",
              "    </tr>\n",
              "    <tr>\n",
              "      <th>Percent</th>\n",
              "      <td>0.0</td>\n",
              "      <td>0.0</td>\n",
              "      <td>0.0</td>\n",
              "      <td>0.0</td>\n",
              "      <td>0.0</td>\n",
              "      <td>0.0</td>\n",
              "      <td>0.0</td>\n",
              "      <td>0.0</td>\n",
              "      <td>0.0</td>\n",
              "      <td>0.0</td>\n",
              "      <td>0.0</td>\n",
              "      <td>0.0</td>\n",
              "      <td>0.0</td>\n",
              "      <td>0.0</td>\n",
              "      <td>0.0</td>\n",
              "      <td>0.0</td>\n",
              "      <td>0.0</td>\n",
              "      <td>0.0</td>\n",
              "      <td>0.0</td>\n",
              "      <td>0.0</td>\n",
              "      <td>0.0</td>\n",
              "      <td>0.0</td>\n",
              "      <td>0.0</td>\n",
              "      <td>0.0</td>\n",
              "      <td>0.0</td>\n",
              "      <td>0.0</td>\n",
              "      <td>0.0</td>\n",
              "      <td>0.0</td>\n",
              "      <td>0.0</td>\n",
              "      <td>0.0</td>\n",
              "    </tr>\n",
              "  </tbody>\n",
              "</table>\n",
              "</div>"
            ],
            "text/plain": [
              "         Variable dependiente  amount   v2   v3   v4  ...  v25  v26  v27  v28   v1\n",
              "Total                     0.0     0.0  0.0  0.0  0.0  ...  0.0  0.0  0.0  0.0  0.0\n",
              "Percent                   0.0     0.0  0.0  0.0  0.0  ...  0.0  0.0  0.0  0.0  0.0\n",
              "\n",
              "[2 rows x 30 columns]"
            ]
          },
          "metadata": {
            "tags": []
          },
          "execution_count": 8
        }
      ]
    },
    {
      "cell_type": "code",
      "metadata": {
        "id": "ArHp1DnCrXsZ",
        "colab": {
          "base_uri": "https://localhost:8080/",
          "height": 295
        },
        "outputId": "ab379d38-1493-458b-8f0a-64788abc55c3"
      },
      "source": [
        "# Creamos dataframe Variable dependiente se le asigna a df1\n",
        "# Dimensiones del plot (6,4)\n",
        "# Asignamos titulo\n",
        "# Definición de colores}\n",
        "# Se asigna la variables del gráfico x = Variable dependiente y y = conteo \n",
        "#\n",
        "temp = df[\"Variable dependiente\"].value_counts()\n",
        "df1 = pd.DataFrame({'Variable dependiente': temp.index,'values': temp.values})\n",
        "plt.figure(figsize = (6,4))\n",
        "plt.title('Balanceo de Variable dependiente')\n",
        "sns.set_color_codes(\"pastel\")\n",
        "graph = sns.barplot(x = 'Variable dependiente', y=\"values\", data=df1)\n",
        "for p in graph.patches:\n",
        "        graph.annotate('{:.0f}'.format(p.get_height()), (p.get_x()+0.4, p.get_height()),\n",
        "                    ha='center', va='bottom',\n",
        "                    color= 'black',\n",
        "                    xytext = (0, 0), \n",
        "                    textcoords = 'offset points'\n",
        "                    )\n",
        "locs, labels = plt.xticks()\n",
        "plt.show()"
      ],
      "execution_count": null,
      "outputs": [
        {
          "output_type": "display_data",
          "data": {
            "image/png": "[encoded data removed]",
            "text/plain": [
              "<Figure size 432x288 with 1 Axes>"
            ]
          },
          "metadata": {
            "tags": [],
            "needs_background": "light"
          }
        }
      ]
    },
    {
      "cell_type": "markdown",
      "metadata": {
        "id": "i-0iX9MLrXsa"
      },
      "source": [
        "# Modelación\n",
        "##Metricas - Gráficos - Dataset"
      ]
    },
    {
      "cell_type": "code",
      "metadata": {
        "id": "5PjRaRDSv3o7",
        "colab": {
          "base_uri": "https://localhost:8080/",
          "height": 272
        },
        "outputId": "cbda97d4-361e-4693-a70d-7bfd7b9b2aba"
      },
      "source": [
        "# Definición del dataFrame de metricas\n",
        "metrics = pd.DataFrame(index=['accuracy', 'f1_score', 'precision', 'recall', 'roc_auc_score', 'Tiempo de ejecución'],\n",
        "                       columns=['BernoulliNB', 'GaussianNB', 'LogisticRegresion', 'kNN', 'DecisionTree', 'AdaBoost', 'RandomForest', 'GradientBoosting', 'RedesNeuronales' , 'SVMs'])\n",
        "metrics"
      ],
      "execution_count": null,
      "outputs": [
        {
          "output_type": "execute_result",
          "data": {
            "text/html": [
              "<div>\n",
              "<style scoped>\n",
              "    .dataframe tbody tr th:only-of-type {\n",
              "        vertical-align: middle;\n",
              "    }\n",
              "\n",
              "    .dataframe tbody tr th {\n",
              "        vertical-align: top;\n",
              "    }\n",
              "\n",
              "    .dataframe thead th {\n",
              "        text-align: right;\n",
              "    }\n",
              "</style>\n",
              "<table border=\"1\" class=\"dataframe\">\n",
              "  <thead>\n",
              "    <tr style=\"text-align: right;\">\n",
              "      <th></th>\n",
              "      <th>BernoulliNB</th>\n",
              "      <th>GaussianNB</th>\n",
              "      <th>LogisticRegresion</th>\n",
              "      <th>kNN</th>\n",
              "      <th>DecisionTree</th>\n",
              "      <th>AdaBoost</th>\n",
              "      <th>RandomForest</th>\n",
              "      <th>GradientBoosting</th>\n",
              "      <th>RedesNeuronales</th>\n",
              "      <th>SVMs</th>\n",
              "    </tr>\n",
              "  </thead>\n",
              "  <tbody>\n",
              "    <tr>\n",
              "      <th>accuracy</th>\n",
              "      <td>NaN</td>\n",
              "      <td>NaN</td>\n",
              "      <td>NaN</td>\n",
              "      <td>NaN</td>\n",
              "      <td>NaN</td>\n",
              "      <td>NaN</td>\n",
              "      <td>NaN</td>\n",
              "      <td>NaN</td>\n",
              "      <td>NaN</td>\n",
              "      <td>NaN</td>\n",
              "    </tr>\n",
              "    <tr>\n",
              "      <th>f1_score</th>\n",
              "      <td>NaN</td>\n",
              "      <td>NaN</td>\n",
              "      <td>NaN</td>\n",
              "      <td>NaN</td>\n",
              "      <td>NaN</td>\n",
              "      <td>NaN</td>\n",
              "      <td>NaN</td>\n",
              "      <td>NaN</td>\n",
              "      <td>NaN</td>\n",
              "      <td>NaN</td>\n",
              "    </tr>\n",
              "    <tr>\n",
              "      <th>precision</th>\n",
              "      <td>NaN</td>\n",
              "      <td>NaN</td>\n",
              "      <td>NaN</td>\n",
              "      <td>NaN</td>\n",
              "      <td>NaN</td>\n",
              "      <td>NaN</td>\n",
              "      <td>NaN</td>\n",
              "      <td>NaN</td>\n",
              "      <td>NaN</td>\n",
              "      <td>NaN</td>\n",
              "    </tr>\n",
              "    <tr>\n",
              "      <th>recall</th>\n",
              "      <td>NaN</td>\n",
              "      <td>NaN</td>\n",
              "      <td>NaN</td>\n",
              "      <td>NaN</td>\n",
              "      <td>NaN</td>\n",
              "      <td>NaN</td>\n",
              "      <td>NaN</td>\n",
              "      <td>NaN</td>\n",
              "      <td>NaN</td>\n",
              "      <td>NaN</td>\n",
              "    </tr>\n",
              "    <tr>\n",
              "      <th>roc_auc_score</th>\n",
              "      <td>NaN</td>\n",
              "      <td>NaN</td>\n",
              "      <td>NaN</td>\n",
              "      <td>NaN</td>\n",
              "      <td>NaN</td>\n",
              "      <td>NaN</td>\n",
              "      <td>NaN</td>\n",
              "      <td>NaN</td>\n",
              "      <td>NaN</td>\n",
              "      <td>NaN</td>\n",
              "    </tr>\n",
              "    <tr>\n",
              "      <th>Tiempo de ejecución</th>\n",
              "      <td>NaN</td>\n",
              "      <td>NaN</td>\n",
              "      <td>NaN</td>\n",
              "      <td>NaN</td>\n",
              "      <td>NaN</td>\n",
              "      <td>NaN</td>\n",
              "      <td>NaN</td>\n",
              "      <td>NaN</td>\n",
              "      <td>NaN</td>\n",
              "      <td>NaN</td>\n",
              "    </tr>\n",
              "  </tbody>\n",
              "</table>\n",
              "</div>"
            ],
            "text/plain": [
              "                    BernoulliNB GaussianNB  ... RedesNeuronales SVMs\n",
              "accuracy                    NaN        NaN  ...             NaN  NaN\n",
              "f1_score                    NaN        NaN  ...             NaN  NaN\n",
              "precision                   NaN        NaN  ...             NaN  NaN\n",
              "recall                      NaN        NaN  ...             NaN  NaN\n",
              "roc_auc_score               NaN        NaN  ...             NaN  NaN\n",
              "Tiempo de ejecución         NaN        NaN  ...             NaN  NaN\n",
              "\n",
              "[6 rows x 10 columns]"
            ]
          },
          "metadata": {
            "tags": []
          },
          "execution_count": 14
        }
      ]
    },
    {
      "cell_type": "markdown",
      "metadata": {
        "id": "Ed9MIDwJv90X"
      },
      "source": [
        "##  Definición Gráfica del Modelo"
      ]
    },
    {
      "cell_type": "code",
      "metadata": {
        "id": "b2nO_ex6v83b"
      },
      "source": [
        "# Creación de la matriz de confusión\n",
        "# Se define la función \"plot_confusion_matrix\" se le asignan variables y parametros a imprimir\n",
        "# La primera parte del codigo que se identifica con las siglas plt es para configuración de variables y aspecto de grafico \n",
        "# Por ejemplo: plt.imshow: define el grado de difuminasión del grafico de confusión\n",
        "# En el for se hace la identificación de positivos, de negativos, falsos positivos y falsos negativos y se asigna colores para dichas variables\n",
        "# Se condigura el gráfico conforme a x y y label\n",
        "\n",
        "def plot_confusion_matrix(cm, title='Confusion matrix', cmap=plt.cm.Greys):\n",
        "    plt.imshow(cm, interpolation='nearest', cmap=cmap)\n",
        "    plt.title(title)\n",
        "    plt.colorbar()\n",
        "    tick_marks = np.arange(cm.shape[1])\n",
        "    plt.xticks(tick_marks, rotation=0)\n",
        "    ax = plt.gca()\n",
        "    ax.set_xticklabels((ax.get_xticks()+0).astype(str))\n",
        "    plt.yticks(tick_marks)\n",
        "\n",
        "    thresh = cm.max() / 2.\n",
        "    for i, j in itertools.product(range(cm.shape[0]), range(cm.shape[1])):\n",
        "        plt.text(j, i, format(cm[i, j], '.0f'),\n",
        "                 horizontalalignment=\"center\",\n",
        "                 color=\"white\" if cm[i, j] > thresh else \"black\")\n",
        "\n",
        "    plt.tight_layout()\n",
        "    plt.ylabel('True label')\n",
        "    plt.xlabel('Predicted label')   "
      ],
      "execution_count": null,
      "outputs": []
    },
    {
      "cell_type": "markdown",
      "metadata": {
        "id": "Owf39-wXrXsb"
      },
      "source": [
        "## Conjuntos de entrenamiento y prueba"
      ]
    },
    {
      "cell_type": "code",
      "metadata": {
        "id": "lGe4f8tNrXsb"
      },
      "source": [
        "# Se define la variable Dependientes\n",
        "# Elimina variable dependiente para entrenar\n",
        "# Se aplica el RobustScaler para transformar las variables del modelo y hacer el fit\n",
        "# Se define el proporción de el tamaño del datatest y numero minimo de iteraciones y la variable dependiente del Modelo \n",
        "target = 'Variable dependiente'\n",
        "X = df.drop('Variable dependiente', axis = 1)\n",
        "robust_scaler = RobustScaler()\n",
        "X = robust_scaler.fit_transform(X)\n",
        "Y = df[target]\n",
        "X_train, X_test, y_train, y_test = train_test_split(X,Y,test_size=0.2, random_state=100, stratify=Y)"
      ],
      "execution_count": null,
      "outputs": []
    },
    {
      "cell_type": "markdown",
      "metadata": {
        "id": "BsM8Y-8UrXsc"
      },
      "source": [
        "## NB"
      ]
    },
    {
      "cell_type": "code",
      "metadata": {
        "id": "-tS4iWLCrXsc"
      },
      "source": [
        "# Se importa la libreria de modelo correspondiente\n",
        "from sklearn.naive_bayes import BernoulliNB\n",
        "\n",
        "\n",
        "#\n",
        "# Se crean los parametros correspondientes al modelo, esto con el objetivo de optimizarlos por medio de la librería GridSearchCV\n",
        "parameters = [{'alpha':np.linspace(0.0,1,5),'binarize':np.linspace(0.0,1,5),'fit_prior': [\"True\",\"False\"]}]\n",
        "# Se ejecuta la librería GridSearchCV\n",
        "gnb = GridSearchCV(\n",
        "    BernoulliNB(),\n",
        "    parameters,\n",
        "    cv=4\n",
        ")\n",
        "# Entrenamiento del modelo y selección de la combinación óptima de parámetros\n",
        "gnb.fit(X_train, y_train)\n",
        "y_pred_test = gnb.predict(X_test)\n",
        "# Evaluación para matriz de confusión\n",
        "y_test = np.asarray(y_test)\n",
        "y_pred_test = np.asarray(y_pred_test)\n",
        "# Calculo del tiempo en ejecución y definición de metricas\n",
        "start_time = time.time()\n",
        "metrics.loc['accuracy','BernoulliNB'] = accuracy_score(y_pred=y_pred_test, y_true=y_test)\n",
        "metrics.loc['f1_score','BernoulliNB'] = f1_score(y_pred=y_pred_test, y_true=y_test)\n",
        "metrics.loc['precision','BernoulliNB'] = precision_score(y_pred=y_pred_test, y_true=y_test)\n",
        "metrics.loc['recall','BernoulliNB'] = recall_score(y_pred=y_pred_test, y_true=y_test)\n",
        "metrics.loc['roc_auc_score','BernoulliNB'] = roc_auc_score(y_pred_test, y_test)\n",
        "metrics.loc['Tiempo de ejecución','BernoulliNB'] = (time.time() - start_time)"
      ],
      "execution_count": null,
      "outputs": []
    },
    {
      "cell_type": "code",
      "metadata": {
        "id": "Ew1MDxOPxFcO",
        "colab": {
          "base_uri": "https://localhost:8080/",
          "height": 311
        },
        "outputId": "45581074-d37e-4452-ac2a-a523fbfd8dd1"
      },
      "source": [
        "#Reporte de Matriz de Confusión Modelo BernoulliNB\n",
        "CM_BernoulliNB = confusion_matrix(y_pred=y_pred_test, y_true=y_test)\n",
        "plot = (plot_confusion_matrix(CM_BernoulliNB))"
      ],
      "execution_count": null,
      "outputs": [
        {
          "output_type": "display_data",
          "data": {
            "image/png": "[encoded data removed]",
            "text/plain": [
              "<Figure size 432x288 with 2 Axes>"
            ]
          },
          "metadata": {
            "tags": [],
            "needs_background": "light"
          }
        }
      ]
    },
    {
      "cell_type": "code",
      "metadata": {
        "id": "Qsv5GTslrXsc"
      },
      "source": [
        "# Se importa la libreria de modelo correspondiente\n",
        "from sklearn.naive_bayes import GaussianNB\n",
        "\n",
        "# Se crean los parametros correspondientes al modelo, esto con el objetivo de optimizarlos por medio de la librería GridSearchCV\n",
        "parameters = [{'var_smoothing':np.logspace(0,-9, num=100)}]\n",
        "\n",
        "# Se ejecuta la librería GridSearchCV, cv hace referencia al metodo de validación cruzada en este caso K-Folds=4 divide los datos \n",
        "# en 4 de secciones de prueba los cuales no se mezclan de forma predeterminada\n",
        "gaussian = GridSearchCV(\n",
        "    GaussianNB(),\n",
        "    parameters,\n",
        "    cv=4\n",
        ")\n",
        "# Entrenamiento del modelo y selección de la combinación óptima de parámetros\n",
        "gaussian.fit(X_train, y_train)\n",
        "y_pred_test = gnb.predict(X_test)\n",
        "# Evaluación para matriz de confusión\n",
        "y_test = np.asarray(y_test)\n",
        "y_pred_test = np.asarray(y_pred_test)\n",
        "# Calculo del tiempo en ejecución y definición de metricas\n",
        "start_time = time.time()\n",
        "metrics.loc['accuracy','GaussianNB'] = accuracy_score(y_pred=y_pred_test, y_true=y_test)\n",
        "metrics.loc['f1_score','GaussianNB'] = f1_score(y_pred=y_pred_test, y_true=y_test)\n",
        "metrics.loc['precision','GaussianNB'] = precision_score(y_pred=y_pred_test, y_true=y_test)\n",
        "metrics.loc['recall','GaussianNB'] = recall_score(y_pred=y_pred_test, y_true=y_test)\n",
        "metrics.loc['roc_auc_score','GaussianNB'] = roc_auc_score(y_pred_test, y_test)\n",
        "metrics.loc['Tiempo de ejecución','GaussianNB'] = (time.time() - start_time)\n"
      ],
      "execution_count": null,
      "outputs": []
    },
    {
      "cell_type": "code",
      "metadata": {
        "id": "C7eZMg3yxQOu",
        "colab": {
          "base_uri": "https://localhost:8080/",
          "height": 311
        },
        "outputId": "429fee54-9086-4bd3-df7b-9d013bb19c33"
      },
      "source": [
        "#Reporte de Matriz de Confusión Modelo GaussianNB\n",
        "CM_GaussianNB = confusion_matrix(y_pred=y_pred_test, y_true=y_test)\n",
        "plot = (plot_confusion_matrix(CM_GaussianNB))"
      ],
      "execution_count": null,
      "outputs": [
        {
          "output_type": "display_data",
          "data": {
            "image/png": "[encoded data removed]",
            "text/plain": [
              "<Figure size 432x288 with 2 Axes>"
            ]
          },
          "metadata": {
            "tags": [],
            "needs_background": "light"
          }
        }
      ]
    },
    {
      "cell_type": "markdown",
      "metadata": {
        "id": "WB6SGHHTrXsd"
      },
      "source": [
        "## Regresión Logística"
      ]
    },
    {
      "cell_type": "code",
      "metadata": {
        "id": "cvinj7JIrXse"
      },
      "source": [
        "# Se importa la libreria de modelo correspondiente\n",
        "from sklearn.linear_model import LogisticRegression\n",
        "\n",
        "# Se crean los parametros correspondientes al modelo, esto con el objetivo de optimizarlos por medio de la librería GridSearchCV\n",
        "parameters = [{'penalty': [\"none\",\"l1\", \"l2\", \"elasticnet\"],\n",
        "               'C': [0.0], \n",
        "               'solver': [ \"lbfgs\", \"sag\", \"saga\"],\n",
        "               'class_weight': ['None', 'dict', 'balanced'],\n",
        "               'random_state': [123],\n",
        "               'warm_start': [\"True\"],\n",
        "               'n_jobs': [-1]}]\n",
        "\n",
        "# Se ejecuta la librería GridSearchCV\n",
        "logisticRegression = GridSearchCV(\n",
        "    LogisticRegression(),\n",
        "    parameters,\n",
        "    cv = 4\n",
        ")\n",
        "\n",
        "# Entrenamiento del modelo y selección de la combinación óptima de parámetros\n",
        "logisticRegression.fit(X_train, y_train)\n",
        "y_pred_test = logisticRegression.predict(X_test)\n",
        "#\n",
        "# Evaluación\n",
        "#\n",
        "y_test = np.asarray(y_test)\n",
        "y_pred_test = np.asarray(y_pred_test)\n",
        "\n",
        "# Calculo del tiempo en ejecución y definición de metricas\n",
        "start_time = time.time()\n",
        "metrics.loc['accuracy','LogisticRegresion'] = accuracy_score(y_pred=y_pred_test, y_true=y_test)\n",
        "metrics.loc['f1_score','LogisticRegresion'] = f1_score(y_pred=y_pred_test, y_true=y_test)\n",
        "metrics.loc['precision','LogisticRegresion'] = precision_score(y_pred=y_pred_test, y_true=y_test)\n",
        "metrics.loc['recall','LogisticRegresion'] = recall_score(y_pred=y_pred_test, y_true=y_test)\n",
        "metrics.loc['roc_auc_score','LogisticRegresion'] = roc_auc_score(y_pred_test, y_test)\n",
        "metrics.loc['Tiempo de ejecución','LogisticRegresion'] = (time.time() - start_time)\n"
      ],
      "execution_count": null,
      "outputs": []
    },
    {
      "cell_type": "code",
      "metadata": {
        "id": "O3Ep0iU4xrzv",
        "colab": {
          "base_uri": "https://localhost:8080/",
          "height": 311
        },
        "outputId": "00638026-589c-4dbf-f52f-df1046bba3f5"
      },
      "source": [
        "#Reporte de Matriz de Confusión Modelo LogisticRegresion\n",
        "CM_LogisticRegresion = confusion_matrix(y_pred=y_pred_test, y_true=y_test)\n",
        "plot = (plot_confusion_matrix(CM_LogisticRegresion))"
      ],
      "execution_count": null,
      "outputs": [
        {
          "output_type": "display_data",
          "data": {
            "image/png": "[encoded data removed]",
            "text/plain": [
              "<Figure size 432x288 with 2 Axes>"
            ]
          },
          "metadata": {
            "tags": [],
            "needs_background": "light"
          }
        }
      ]
    },
    {
      "cell_type": "markdown",
      "metadata": {
        "id": "VveEZcIRrXse"
      },
      "source": [
        "## KNN"
      ]
    },
    {
      "cell_type": "code",
      "metadata": {
        "id": "ajE0mViJrXsf"
      },
      "source": [
        "#knn = KNeighborsClassifier(n_neighbors=12)\n",
        "# Se importa la libreria de modelo correspondiente\n",
        "from sklearn.neighbors import KNeighborsClassifier\n",
        "\n",
        "#\n",
        "# Se crean los parametros correspondientes al modelo, esto con el objetivo de optimizarlos por medio de la librería GridSearchCV\n",
        "parameters = [{'n_neighbors':[9,10,11],\n",
        "               'weights': [\"uniform\",\"distance\"],\n",
        "               'n_jobs': [-1]}]\n",
        "\n",
        "# Se ejecuta la librería GridSearchCV\n",
        "knn = GridSearchCV(\n",
        "    KNeighborsClassifier(),\n",
        "    parameters,\n",
        "    cv=4\n",
        ")\n",
        "\n",
        "# Entrenamiento del modelo y selección de la combinación óptima de parámetros\n",
        "knn.fit(X_train, y_train)\n",
        "y_pred_test = knn.predict(X_test)\n",
        "\n",
        "# Evaluación para matriz de confusión\n",
        "y_test = np.asarray(y_test)\n",
        "y_pred_test = np.asarray(y_pred_test)\n",
        "\n",
        "\n",
        "# Calculo del tiempo en ejecución y definición de metricas\n",
        "start_time = time.time()\n",
        "metrics.loc['accuracy','kNN'] = accuracy_score(y_pred=y_pred_test, y_true=y_test)\n",
        "metrics.loc['f1_score','kNN'] = f1_score(y_pred=y_pred_test, y_true=y_test)\n",
        "metrics.loc['precision','kNN'] = precision_score(y_pred=y_pred_test, y_true=y_test)\n",
        "metrics.loc['recall','kNN'] = recall_score(y_pred=y_pred_test, y_true=y_test)\n",
        "metrics.loc['roc_auc_score','kNN'] = roc_auc_score(y_pred_test, y_test)\n",
        "metrics.loc['Tiempo de ejecución','kNN'] = (time.time() - start_time)"
      ],
      "execution_count": null,
      "outputs": []
    },
    {
      "cell_type": "code",
      "metadata": {
        "id": "tSuz3Atayyl0",
        "colab": {
          "base_uri": "https://localhost:8080/",
          "height": 311
        },
        "outputId": "e05d9154-acdf-46b6-fd69-96d5599671c2"
      },
      "source": [
        "#Reporte de Matriz de Confusión Modelo kNN\n",
        "CM_kNN = confusion_matrix(y_pred=y_pred_test, y_true=y_test)\n",
        "plot = (plot_confusion_matrix(CM_kNN))"
      ],
      "execution_count": null,
      "outputs": [
        {
          "output_type": "display_data",
          "data": {
            "image/png": "[encoded data removed]",
            "text/plain": [
              "<Figure size 432x288 with 2 Axes>"
            ]
          },
          "metadata": {
            "tags": [],
            "needs_background": "light"
          }
        }
      ]
    },
    {
      "cell_type": "markdown",
      "metadata": {
        "id": "oQgZGiOorXsg"
      },
      "source": [
        "## DecisionTreeClassifier"
      ]
    },
    {
      "cell_type": "code",
      "metadata": {
        "id": "1FxAl2-YrXsg"
      },
      "source": [
        "# Se importa la libreria de modelo correspondiente\n",
        "from sklearn.tree import DecisionTreeClassifier\n",
        "\n",
        "# Se crean los parametros correspondientes al modelo, esto con el objetivo de optimizarlos por medio de la librería GridSearchCV\n",
        "parameters = [{'max_depth': np.arange(3, 10),\n",
        "             'criterion' : ['gini'],\n",
        "             'max_leaf_nodes': [5,10,20,100],\n",
        "             'min_samples_split': [2, 5, 10, 20]}]\n",
        "\n",
        "\n",
        "# # Se ejecuta la librería GridSearchCV\n",
        "decisiontree = GridSearchCV(\n",
        "    DecisionTreeClassifier(),\n",
        "    parameters,\n",
        "    cv=4\n",
        ")\n",
        "\n",
        "# Entrenamiento del modelo y selección de la combinación óptima de parámetros\n",
        "decisiontree.fit(X_train, y_train)\n",
        "y_pred_test = decisiontree.predict(X_test)\n",
        "\n",
        "# Evaluación para matriz de confusión\n",
        "y_test = np.asarray(y_test)\n",
        "y_pred_test = np.asarray(y_pred_test)\n",
        "\n",
        "# Calculo del tiempo en ejecución y definición de metricas\n",
        "start_time = time.time()\n",
        "metrics.loc['accuracy','DecisionTree'] = accuracy_score(y_pred=y_pred_test, y_true=y_test)\n",
        "metrics.loc['f1_score','DecisionTree'] = f1_score(y_pred=y_pred_test, y_true=y_test)\n",
        "metrics.loc['precision','DecisionTree'] = precision_score(y_pred=y_pred_test, y_true=y_test)\n",
        "metrics.loc['recall','DecisionTree'] = recall_score(y_pred=y_pred_test, y_true=y_test)\n",
        "metrics.loc['roc_auc_score','DecisionTree'] = roc_auc_score(y_pred_test, y_test)\n",
        "metrics.loc['Tiempo de ejecución','DecisionTree'] = (time.time() - start_time)\n"
      ],
      "execution_count": null,
      "outputs": []
    },
    {
      "cell_type": "code",
      "metadata": {
        "id": "d2dIfxRqzo1A",
        "colab": {
          "base_uri": "https://localhost:8080/",
          "height": 311
        },
        "outputId": "76d60029-61da-429c-a4de-d7fd2f48f0d4"
      },
      "source": [
        "#Reporte de Matriz de Confusión Modelo DecisionTree\n",
        "CM_DecisionTree = confusion_matrix(y_pred=y_pred_test, y_true=y_test)\n",
        "plot = (plot_confusion_matrix(CM_DecisionTree))"
      ],
      "execution_count": null,
      "outputs": [
        {
          "output_type": "display_data",
          "data": {
            "image/png": "[encoded data removed]",
            "text/plain": [
              "<Figure size 432x288 with 2 Axes>"
            ]
          },
          "metadata": {
            "tags": [],
            "needs_background": "light"
          }
        }
      ]
    },
    {
      "cell_type": "markdown",
      "metadata": {
        "id": "s8htpXFPrXsh"
      },
      "source": [
        "## Ensambles de Modelos"
      ]
    },
    {
      "cell_type": "code",
      "metadata": {
        "id": "uu7z8BORrXsi"
      },
      "source": [
        "#AdaBoost = AdaBoostClassifier(n_estimators=10)\n",
        "# Se importa la libreria de modelo correspondiente\n",
        "from sklearn.ensemble import AdaBoostClassifier\n",
        "\n",
        "# Se crean los parametros correspondientes al modelo, esto con el objetivo de optimizarlos por medio de la librería GridSearchCV\n",
        "parameters = [{'n_estimators':[50,60,70,80]}]\n",
        "\n",
        "# Se ejecuta la librería GridSearchCV\n",
        "\n",
        "AdaBoost =  GridSearchCV(\n",
        "    AdaBoostClassifier(),\n",
        "    parameters,\n",
        "    cv=4\n",
        ")\n",
        "\n",
        "# AdaBoostClassifier(n_estimators=10)\n",
        "\n",
        "# Entrenamiento del modelo y selección de la combinación óptima de parámetros\n",
        "AdaBoost.fit(X_train, y_train)\n",
        "y_pred_test = AdaBoost.predict(X_test)\n",
        "\n",
        "# Evaluación para matriz de confusión\n",
        "y_test = np.asarray(y_test)\n",
        "y_pred_test = np.asarray(y_pred_test)\n",
        "\n",
        "# Calculo del tiempo en ejecución y definición de metricas\n",
        "start_time = time.time()\n",
        "metrics.loc['accuracy','AdaBoost'] = accuracy_score(y_pred=y_pred_test, y_true=y_test)\n",
        "metrics.loc['f1_score','AdaBoost'] = f1_score(y_pred=y_pred_test, y_true=y_test)\n",
        "metrics.loc['precision','AdaBoost'] = precision_score(y_pred=y_pred_test, y_true=y_test)\n",
        "metrics.loc['recall','AdaBoost'] = recall_score(y_pred=y_pred_test, y_true=y_test)\n",
        "metrics.loc['roc_auc_score','AdaBoost'] = roc_auc_score(y_pred_test, y_test)\n",
        "metrics.loc['Tiempo de ejecución','AdaBoost'] = (time.time() - start_time)\n"
      ],
      "execution_count": null,
      "outputs": []
    },
    {
      "cell_type": "code",
      "metadata": {
        "id": "g79C4Ztb0Uzs",
        "colab": {
          "base_uri": "https://localhost:8080/",
          "height": 311
        },
        "outputId": "4af64b9b-2d2e-482f-fc66-5fca9e9b0133"
      },
      "source": [
        "#Reporte de Matriz de Confusión Modelo AdaBoost\n",
        "CM_AdaBoost = confusion_matrix(y_pred=y_pred_test, y_true=y_test)\n",
        "plot = (plot_confusion_matrix(CM_AdaBoost))"
      ],
      "execution_count": null,
      "outputs": [
        {
          "output_type": "display_data",
          "data": {
            "image/png": "[encoded data removed]",
            "text/plain": [
              "<Figure size 432x288 with 2 Axes>"
            ]
          },
          "metadata": {
            "tags": [],
            "needs_background": "light"
          }
        }
      ]
    },
    {
      "cell_type": "code",
      "metadata": {
        "id": "B6Q4Ykm3rXsi"
      },
      "source": [
        "# Se importa la libreria de modelo correspondiente\n",
        "from sklearn.ensemble import RandomForestClassifier\n",
        "\n",
        "# Se crean los parametros correspondientes al modelo, esto con el objetivo de optimizarlos por medio de la librería GridSearchCV\n",
        "parameters = [{'max_depth': [6,7,8],\n",
        "             'criterion' : ['gini'],\n",
        "             'n_estimators':[120,140]}]\n",
        "\n",
        "\n",
        "# Se ejecuta la librería GridSearchCV\n",
        "RandomForest = GridSearchCV(\n",
        "    RandomForestClassifier(),\n",
        "    parameters,\n",
        "    cv=4\n",
        ")\n",
        "\n",
        "# Entrenamiento del modelo y selección de la combinación óptima de parámetros\n",
        "RandomForest.fit(X_train, y_train)\n",
        "y_pred_test = RandomForest.predict(X_test)\n",
        "\n",
        "# Evaluación para matriz de confusión\n",
        "y_test = np.asarray(y_test)\n",
        "y_pred_test = np.asarray(y_pred_test)\n",
        "\n",
        "# Calculo del tiempo en ejecución y definición de metricas\n",
        "start_time = time.time()\n",
        "metrics.loc['accuracy','RandomForest'] = accuracy_score(y_pred=y_pred_test, y_true=y_test)\n",
        "metrics.loc['f1_score','RandomForest'] = f1_score(y_pred=y_pred_test, y_true=y_test)\n",
        "metrics.loc['precision','RandomForest'] = precision_score(y_pred=y_pred_test, y_true=y_test)\n",
        "metrics.loc['recall','RandomForest'] = recall_score(y_pred=y_pred_test, y_true=y_test)\n",
        "metrics.loc['roc_auc_score','RandomForest'] = roc_auc_score(y_pred_test, y_test)\n",
        "metrics.loc['Tiempo de ejecución','RandomForest'] = (time.time() - start_time)"
      ],
      "execution_count": null,
      "outputs": []
    },
    {
      "cell_type": "code",
      "metadata": {
        "id": "9Jh6mi0C1P_Q",
        "colab": {
          "base_uri": "https://localhost:8080/",
          "height": 311
        },
        "outputId": "00177540-3b12-4c27-ddb9-4e2371ce119a"
      },
      "source": [
        "#Reporte de Matriz de Confusión Modelo RandomForest\n",
        "CM_RandomForest = confusion_matrix(y_pred=y_pred_test, y_true=y_test)\n",
        "plot = (plot_confusion_matrix(CM_RandomForest))"
      ],
      "execution_count": null,
      "outputs": [
        {
          "output_type": "display_data",
          "data": {
            "image/png": "[encoded data removed]",
            "text/plain": [
              "<Figure size 432x288 with 2 Axes>"
            ]
          },
          "metadata": {
            "tags": [],
            "needs_background": "light"
          }
        }
      ]
    },
    {
      "cell_type": "code",
      "metadata": {
        "id": "nohYijeurXsi"
      },
      "source": [
        "# Se importa la libreria de modelo correspondiente\n",
        "from sklearn.ensemble import GradientBoostingClassifier\n",
        "\n",
        "# Se crean los parametros correspondientes al modelo, esto con el objetivo de optimizarlos por medio de la librería GridSearchCV\n",
        "parameters = [{}]\n",
        "\n",
        "# Se ejecuta la librería GridSearchCV\n",
        "GradientBoosting = GridSearchCV(\n",
        "    GradientBoostingClassifier(),\n",
        "    parameters,\n",
        "    cv=4\n",
        ")\n",
        "\n",
        "# Entrenamiento del modelo y selección de la combinación óptima de parámetros\n",
        "GradientBoosting.fit(X_train, y_train)\n",
        "y_pred_test = GradientBoosting.predict(X_test)\n",
        "\n",
        "# Evaluación para matriz de confusión\n",
        "y_test = np.asarray(y_test)\n",
        "y_pred_test = np.asarray(y_pred_test)\n",
        "\n",
        "# Calculo del tiempo en ejecución y definición de metricas\n",
        "start_time = time.time()\n",
        "metrics.loc['accuracy','GradientBoosting'] = accuracy_score(y_pred=y_pred_test, y_true=y_test)\n",
        "metrics.loc['f1_score','GradientBoosting'] = f1_score(y_pred=y_pred_test, y_true=y_test)\n",
        "metrics.loc['precision','GradientBoosting'] = precision_score(y_pred=y_pred_test, y_true=y_test)\n",
        "metrics.loc['recall','GradientBoosting'] = recall_score(y_pred=y_pred_test, y_true=y_test)\n",
        "metrics.loc['roc_auc_score','GradientBoosting'] = roc_auc_score(y_pred_test, y_test)\n",
        "metrics.loc['Tiempo de ejecución','GradientBoosting'] = (time.time() - start_time)"
      ],
      "execution_count": null,
      "outputs": []
    },
    {
      "cell_type": "code",
      "metadata": {
        "id": "rdb66dr714c7",
        "colab": {
          "base_uri": "https://localhost:8080/",
          "height": 311
        },
        "outputId": "28817a9c-a18e-4005-cd84-daaf05ee77f8"
      },
      "source": [
        "#Reporte de Matriz de Confusión Modelo GradientBoosting\n",
        "CM_GradientBoosting = confusion_matrix(y_pred=y_pred_test, y_true=y_test)\n",
        "\n",
        "\n",
        "plot = (plot_confusion_matrix(CM_GradientBoosting))"
      ],
      "execution_count": null,
      "outputs": [
        {
          "output_type": "display_data",
          "data": {
            "image/png": "[encoded data removed]",
            "text/plain": [
              "<Figure size 432x288 with 2 Axes>"
            ]
          },
          "metadata": {
            "tags": [],
            "needs_background": "light"
          }
        }
      ]
    },
    {
      "cell_type": "markdown",
      "metadata": {
        "id": "Lv7Rl5mjrXsj"
      },
      "source": [
        "## Redes Neuronales"
      ]
    },
    {
      "cell_type": "code",
      "metadata": {
        "id": "sfyar8NgrXsj"
      },
      "source": [
        "# Se importa la libreria de modelo correspondiente\n",
        "from sklearn.neural_network import MLPClassifier\n",
        "\n",
        "# # Se crean los parametros correspondientes al modelo, esto con el objetivo de optimizarlos por medio de la librería GridSearchCV\n",
        "parameters = [{'hidden_layer_sizes': [(10,)],\n",
        "               'activation': ['logistic'],\n",
        "               'solver': ['sgd'],\n",
        "               'alpha': [0.0],\n",
        "               'verbose': [False],\n",
        "               'shuffle': [True],\n",
        "               'tol': [1e-4],\n",
        "               'max_iter': [20000],\n",
        "               'momentum': [0.9],\n",
        "               'learning_rate': ['adaptive'],\n",
        "               'learning_rate_init': [0.1],\n",
        "               'nesterovs_momentum': [False]}]\n",
        "\n",
        "# Se ejecuta la librería GridSearchCV\n",
        "RedesNeuronales = GridSearchCV(\n",
        "    MLPClassifier(),\n",
        "    parameters,\n",
        "    cv=4\n",
        ")\n",
        "\n",
        "#\n",
        "# El parámetro hidden_layer_sizes recibe una tupla que\n",
        "# indica la cantidad de neuronas de cada capa oculta. En\n",
        "# el caso presentado, el valor (6,) indica que hay una sola\n",
        "# capa oculta con 6 neuronas que usan la función sigmoidea.\n",
        "# El parámetro solver = 'sgd' indica que se usará el\n",
        "# algoritmo de gradiente descendente estocástico para entrenar\n",
        "# la red neuronal.\n",
        "#\n",
        "\n",
        "# Entrenamiento del modelo y selección de la combinación óptima de parámetros\n",
        "RedesNeuronales.fit(X_train, y_train)\n",
        "y_pred_test = RedesNeuronales.predict(X_test)\n",
        "\n",
        "# Evaluación para matriz de confusión\n",
        "y_test = np.asarray(y_test)\n",
        "y_pred_test = np.asarray(y_pred_test)\n",
        "\n",
        "# Calculo del tiempo en ejecución y definición de metricas\n",
        "start_time = time.time()\n",
        "metrics.loc['accuracy','RedesNeuronales'] = accuracy_score(y_true=y_test, y_pred=y_pred_test)\n",
        "metrics.loc['f1_score','RedesNeuronales'] = f1_score(y_pred=y_pred_test, y_true=y_test)\n",
        "metrics.loc['precision','RedesNeuronales'] = precision_score(y_pred=y_pred_test, y_true=y_test)\n",
        "metrics.loc['recall','RedesNeuronales'] = recall_score(y_pred=y_pred_test, y_true=y_test)\n",
        "metrics.loc['roc_auc_score','RedesNeuronales'] = roc_auc_score(y_pred_test, y_test)\n",
        "metrics.loc['Tiempo de ejecución','RedesNeuronales'] = (time.time() - start_time)\n"
      ],
      "execution_count": null,
      "outputs": []
    },
    {
      "cell_type": "code",
      "metadata": {
        "id": "cGChYGv42h69",
        "colab": {
          "base_uri": "https://localhost:8080/",
          "height": 311
        },
        "outputId": "e666030b-eb61-4cb9-ade8-f37239ba4c28"
      },
      "source": [
        "#Reporte de Matriz de Confusión Modelo RedesNeuronales\n",
        "CM_RedesNeuronales = confusion_matrix(y_pred=y_pred_test, y_true=y_test)\n",
        "plot = (plot_confusion_matrix(CM_RedesNeuronales))"
      ],
      "execution_count": null,
      "outputs": [
        {
          "output_type": "display_data",
          "data": {
            "image/png": "[encoded data removed]",
            "text/plain": [
              "<Figure size 432x288 with 2 Axes>"
            ]
          },
          "metadata": {
            "tags": [],
            "needs_background": "light"
          }
        }
      ]
    },
    {
      "cell_type": "markdown",
      "metadata": {
        "id": "_pXO73aXrXsk"
      },
      "source": [
        "## SVC"
      ]
    },
    {
      "cell_type": "code",
      "metadata": {
        "id": "Alk5ypBurXsk"
      },
      "source": [
        "# Se importa la libreria de modelo correspondiente\n",
        "from sklearn.svm import SVC\n",
        "\n",
        "# Se crean los parametros correspondientes al modelo, esto con el objetivo de optimizarlos por medio de la librería GridSearchCV\n",
        "parameters = [{'C':np.linspace(0.0,1,3),\n",
        "               'kernel': [\"sigmoid\"],\n",
        "               'gamma': [\"scale\"]}]\n",
        "# Se ejecuta la librería GridSearchCV\n",
        "\n",
        "svc = GridSearchCV(\n",
        "    SVC(),\n",
        "    parameters,\n",
        "    cv=4\n",
        ")\n",
        "\n",
        "# Entrenamiento del modelo y selección de la combinación óptima de parámetros\n",
        "svc.fit(X_train, y_train)\n",
        "y_pred_test = svc.predict(X_test)\n",
        "\n",
        "# Evaluación para matriz de confusión\n",
        "y_test = np.asarray(y_test)\n",
        "y_pred_test = np.asarray(y_pred_test)\n",
        "\n",
        "# Calculo del tiempo en ejecución y definición de metricas\n",
        "start_time = time.time()\n",
        "metrics.loc['accuracy','SVMs'] = accuracy_score(y_true=y_test, y_pred=y_pred_test)\n",
        "metrics.loc['f1_score','SVMs'] = f1_score(y_pred=y_pred_test, y_true=y_test)\n",
        "metrics.loc['precision','SVMs'] = precision_score(y_pred=y_pred_test, y_true=y_test)\n",
        "metrics.loc['recall','SVMs'] = recall_score(y_pred=y_pred_test, y_true=y_test)\n",
        "metrics.loc['roc_auc_score','SVMs'] = roc_auc_score(y_pred_test, y_test)\n",
        "metrics.loc['Tiempo de ejecución','SVMs'] = (time.time() - start_time)"
      ],
      "execution_count": null,
      "outputs": []
    },
    {
      "cell_type": "code",
      "metadata": {
        "id": "RvysZHnP2s46",
        "colab": {
          "base_uri": "https://localhost:8080/",
          "height": 311
        },
        "outputId": "35ce1645-5489-4539-8fb0-4ac2e3133de0"
      },
      "source": [
        "#Reporte de Matriz de Confusión Modelo SVM\n",
        "CM_SVM = confusion_matrix(y_pred=y_pred_test, y_true=y_test)\n",
        "plot = (plot_confusion_matrix(CM_SVM))"
      ],
      "execution_count": null,
      "outputs": [
        {
          "output_type": "display_data",
          "data": {
            "image/png": "[encoded data removed]",
            "text/plain": [
              "<Figure size 432x288 with 2 Axes>"
            ]
          },
          "metadata": {
            "tags": [],
            "needs_background": "light"
          }
        }
      ]
    },
    {
      "cell_type": "markdown",
      "metadata": {
        "id": "4FR9M31A2vjx"
      },
      "source": [
        "# Resultados de Modelos"
      ]
    },
    {
      "cell_type": "code",
      "metadata": {
        "id": "ceJJTKSvrXsk",
        "colab": {
          "base_uri": "https://localhost:8080/",
          "height": 272
        },
        "outputId": "3f3d4169-573e-4151-827f-b27b2bcfd3fd"
      },
      "source": [
        "metrics"
      ],
      "execution_count": null,
      "outputs": [
        {
          "output_type": "execute_result",
          "data": {
            "text/html": [
              "<div>\n",
              "<style scoped>\n",
              "    .dataframe tbody tr th:only-of-type {\n",
              "        vertical-align: middle;\n",
              "    }\n",
              "\n",
              "    .dataframe tbody tr th {\n",
              "        vertical-align: top;\n",
              "    }\n",
              "\n",
              "    .dataframe thead th {\n",
              "        text-align: right;\n",
              "    }\n",
              "</style>\n",
              "<table border=\"1\" class=\"dataframe\">\n",
              "  <thead>\n",
              "    <tr style=\"text-align: right;\">\n",
              "      <th></th>\n",
              "      <th>BernoulliNB</th>\n",
              "      <th>GaussianNB</th>\n",
              "      <th>LogisticRegresion</th>\n",
              "      <th>kNN</th>\n",
              "      <th>DecisionTree</th>\n",
              "      <th>AdaBoost</th>\n",
              "      <th>RandomForest</th>\n",
              "      <th>GradientBoosting</th>\n",
              "      <th>RedesNeuronales</th>\n",
              "      <th>SVMs</th>\n",
              "    </tr>\n",
              "  </thead>\n",
              "  <tbody>\n",
              "    <tr>\n",
              "      <th>accuracy</th>\n",
              "      <td>0.995621</td>\n",
              "      <td>0.995621</td>\n",
              "      <td>0.996773</td>\n",
              "      <td>0.996543</td>\n",
              "      <td>0.997234</td>\n",
              "      <td>0.996082</td>\n",
              "      <td>0.997234</td>\n",
              "      <td>0.995391</td>\n",
              "      <td>0.996082</td>\n",
              "      <td>0.992855</td>\n",
              "    </tr>\n",
              "    <tr>\n",
              "      <th>f1_score</th>\n",
              "      <td>0.854962</td>\n",
              "      <td>0.854962</td>\n",
              "      <td>0.892308</td>\n",
              "      <td>0.885496</td>\n",
              "      <td>0.910448</td>\n",
              "      <td>0.877698</td>\n",
              "      <td>0.910448</td>\n",
              "      <td>0.859155</td>\n",
              "      <td>0.874074</td>\n",
              "      <td>0.776978</td>\n",
              "    </tr>\n",
              "    <tr>\n",
              "      <th>precision</th>\n",
              "      <td>0.933333</td>\n",
              "      <td>0.933333</td>\n",
              "      <td>0.983051</td>\n",
              "      <td>0.966667</td>\n",
              "      <td>0.968254</td>\n",
              "      <td>0.897059</td>\n",
              "      <td>0.968254</td>\n",
              "      <td>0.859155</td>\n",
              "      <td>0.921875</td>\n",
              "      <td>0.794118</td>\n",
              "    </tr>\n",
              "    <tr>\n",
              "      <th>recall</th>\n",
              "      <td>0.788732</td>\n",
              "      <td>0.788732</td>\n",
              "      <td>0.816901</td>\n",
              "      <td>0.816901</td>\n",
              "      <td>0.859155</td>\n",
              "      <td>0.859155</td>\n",
              "      <td>0.859155</td>\n",
              "      <td>0.859155</td>\n",
              "      <td>0.830986</td>\n",
              "      <td>0.760563</td>\n",
              "    </tr>\n",
              "    <tr>\n",
              "      <th>roc_auc_score</th>\n",
              "      <td>0.964914</td>\n",
              "      <td>0.964914</td>\n",
              "      <td>0.990007</td>\n",
              "      <td>0.981814</td>\n",
              "      <td>0.982958</td>\n",
              "      <td>0.947359</td>\n",
              "      <td>0.982958</td>\n",
              "      <td>0.928406</td>\n",
              "      <td>0.959534</td>\n",
              "      <td>0.895069</td>\n",
              "    </tr>\n",
              "    <tr>\n",
              "      <th>Tiempo de ejecución</th>\n",
              "      <td>0.0151353</td>\n",
              "      <td>0.0093329</td>\n",
              "      <td>0.0173194</td>\n",
              "      <td>0.0101638</td>\n",
              "      <td>0.00937653</td>\n",
              "      <td>0.00945067</td>\n",
              "      <td>0.0124705</td>\n",
              "      <td>0.0094142</td>\n",
              "      <td>0.0151067</td>\n",
              "      <td>0.00920081</td>\n",
              "    </tr>\n",
              "  </tbody>\n",
              "</table>\n",
              "</div>"
            ],
            "text/plain": [
              "                    BernoulliNB GaussianNB  ... RedesNeuronales        SVMs\n",
              "accuracy               0.995621   0.995621  ...        0.996082    0.992855\n",
              "f1_score               0.854962   0.854962  ...        0.874074    0.776978\n",
              "precision              0.933333   0.933333  ...        0.921875    0.794118\n",
              "recall                 0.788732   0.788732  ...        0.830986    0.760563\n",
              "roc_auc_score          0.964914   0.964914  ...        0.959534    0.895069\n",
              "Tiempo de ejecución   0.0151353  0.0093329  ...       0.0151067  0.00920081\n",
              "\n",
              "[6 rows x 10 columns]"
            ]
          },
          "metadata": {
            "tags": []
          },
          "execution_count": 38
        }
      ]
    },
    {
      "cell_type": "code",
      "metadata": {
        "id": "Y_6DABK1rXsk",
        "colab": {
          "base_uri": "https://localhost:8080/",
          "height": 578
        },
        "outputId": "189c2420-6328-4686-bbdf-d6cc92dd8be1"
      },
      "source": [
        "fig, ax = plt.subplots(figsize = (16, 12))\n",
        "metrics.plot(kind='barh', ax=ax)\n",
        "ax.grid();"
      ],
      "execution_count": null,
      "outputs": [
        {
          "output_type": "display_data",
          "data": {
            "image/png": "[encoded data removed]",
            "text/plain": [
              "<Figure size 1152x864 with 1 Axes>"
            ]
          },
          "metadata": {
            "tags": [],
            "needs_background": "light"
          }
        }
      ]
    },
    {
      "cell_type": "markdown",
      "metadata": {
        "id": "j-tGI8RYV0qy"
      },
      "source": [
        "# Prueba Inputs\n",
        "# Inputs"
      ]
    },
    {
      "cell_type": "code",
      "metadata": {
        "id": "bH5wYNehRPTl"
      },
      "source": [
        "# Prueba de todos los Modelos con un quick_inputs \n",
        "\n",
        "Xnew = [[20000,2,2,1,24,2,2,-1,-1,-2,-2,3913,3102,689,0,0,0,0,689,0,0,0,0]]\n",
        "ynew_BernoulliNB = gnb.predict(Xnew)\n",
        "ynew_GaussianNB = gaussian.predict(Xnew)\n",
        "ynew_LogisticRegresion = logisticRegression.predict(Xnew)\n",
        "ynew_kNN = knn.predict(Xnew)\n",
        "ynew_DecisionTree = decisiontree.predict(Xnew)\n",
        "ynew_AdaBoost = AdaBoost.predict(Xnew)\n",
        "ynew_RandomForest = RandomForest.predict(Xnew)\n",
        "ynew_GradientBoosting = GradientBoosting.predict(Xnew)\n",
        "ynew_RedesNeuronales = RedesNeuronales.predict(Xnew)\n",
        "ynew_SVMs = svc.predict(Xnew)\n",
        "\n",
        "print(\"Variables = %s, Predicted = %s\" % (Xnew[0], ynew_BernoulliNB[0]))\n",
        "print(\"Variables = %s, Predicted = %s\" % (Xnew[0], ynew_GaussianNB[0]))\n",
        "print(\"Variables = %s, Predicted = %s\" % (Xnew[0], ynew_LogisticRegresion[0]))\n",
        "print(\"Variables = %s, Predicted = %s\" % (Xnew[0], ynew_DecisionTree[0]))\n",
        "print(\"Variables = %s, Predicted = %s\" % (Xnew[0], ynew_AdaBoost[0]))\n",
        "print(\"Variables = %s, Predicted = %s\" % (Xnew[0], ynew_RandomForest[0]))\n",
        "print(\"Variables = %s, Predicted = %s\" % (Xnew[0], ynew_GradientBoosting[0]))\n",
        "print(\"Variables = %s, Predicted = %s\" % (Xnew[0], ynew_RedesNeuronales[0]))\n",
        "print(\"Variables = %s, Predicted = %s\" % (Xnew[0], ynew_SVMs[0]))"
      ],
      "execution_count": null,
      "outputs": []
    },
    {
      "cell_type": "code",
      "metadata": {
        "id": "kvb9F_SIWBN7"
      },
      "source": [
        ""
      ],
      "execution_count": null,
      "outputs": []
    }
  ]
}