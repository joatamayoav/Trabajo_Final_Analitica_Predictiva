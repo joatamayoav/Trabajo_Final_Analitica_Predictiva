{
  "nbformat": 4,
  "nbformat_minor": 0,
  "metadata": {
    "colab": {
      "name": "Modelo 2 - COLAB:  HMEQ2.ipynb",
      "provenance": [],
      "collapsed_sections": [],
      "toc_visible": true
    },
    "kernelspec": {
      "display_name": "Python 3",
      "language": "python",
      "name": "python3"
    },
    "language_info": {
      "codemirror_mode": {
        "name": "ipython",
        "version": 3
      },
      "file_extension": ".py",
      "mimetype": "text/x-python",
      "name": "python",
      "nbconvert_exporter": "python",
      "pygments_lexer": "ipython3",
      "version": "3.7.4"
    }
  },
  "cells": [
    {
      "cell_type": "markdown",
      "metadata": {
        "id": "5mpQZ0DXuiGq"
      },
      "source": [
        "## HMEQ_Data - Predict clients who default on their loan"
      ]
    },
    {
      "cell_type": "markdown",
      "metadata": {
        "id": "dFkIaYRguiG6"
      },
      "source": [
        "Caso de Estudio: Riesgo Crediticio\n",
        "\n",
        "Visión General del Dataset\n",
        "\n",
        "El conjunto de datos utilizado contiene información de referencia y de rendimiento de préstamos para 5,960 préstamos. El objetivo (BAD) es una variable binaria que indica si un solicitante finalmente incurrió en incumplimiento o en grave mora en alguna entidad bancaria. Y por muestreo rápido. Este resultado adverso se produjo en 1.189 casos (20%) del total de la muestra.\n",
        "\n",
        "Para cada aspirante a una tarjeta de crédito, se registraron 11 variables de entrada:\n",
        "\n",
        "BAD: 1 = candidato con préstamo incumplido o con mora; 0 = candidato que paga su deuda y no tiene registro negativo\n",
        "\n",
        "LOAN: Monto de solicitud de préstamo\n",
        "\n",
        "MORTDUE: Monto adeudado de la hipoteca existente\n",
        "\n",
        "VALUE: Valor actual del bien o propiedad\n",
        "\n",
        "REASON: DebtCon = consolidación de la deuda; HomeImp = mejoras para el hogar\n",
        "\n",
        "JOB: Categorias ocupacionales o profesionales\n",
        "\n",
        "YOJ: Años es en su trabajo actual\n",
        "\n",
        "DEROG: Número de informes derogados o cancelados importantes\n",
        "\n",
        "DELINQ: Número de lineas de crédito morosas\n",
        "\n",
        "CLAGE: Antiguedad de la linea de crédito más antigua en meses\n",
        "\n",
        "NINQ:Número de consultas crediticas recientes\n",
        "\n",
        "CLNO: Número de líneas de crédito"
      ]
    },
    {
      "cell_type": "markdown",
      "metadata": {
        "id": "Xqz35JALuiG9"
      },
      "source": [
        "## Librerias "
      ]
    },
    {
      "cell_type": "code",
      "metadata": {
        "colab": {
          "base_uri": "https://localhost:8080/"
        },
        "id": "KjuyoMq_uiG-",
        "outputId": "1575bc84-e0d4-4e46-98ad-8876c0203a99"
      },
      "source": [
        "!pip install imbalanced-learn\n",
        "!pip install joblib\n",
        "!pip install pydotplus\n",
        "!pip install pydot\n",
        "!pip install graphviz\n",
        "!pip install Pillow\n",
        "!pip install Image\n",
        "\n",
        "import numpy as np\n",
        "import matplotlib.pyplot as plt\n",
        "import seaborn as sns\n",
        "import pandas as pd\n",
        "import itertools\n",
        "from datetime import datetime \n",
        "import time\n",
        "import sys\n",
        "import warnings\n",
        "warnings.filterwarnings(\"ignore\")\n",
        "%matplotlib inline\n",
        "from sklearn.model_selection import train_test_split\n",
        "from sklearn.metrics import accuracy_score, precision_score, recall_score, roc_auc_score, confusion_matrix, precision_recall_curve, f1_score, r2_score, mean_absolute_error, mean_squared_error\n",
        "from sklearn.preprocessing import RobustScaler\n",
        "from sklearn.metrics import classification_report\n",
        "from sklearn.linear_model import SGDClassifier\n",
        "from sklearn.model_selection import GridSearchCV"
      ],
      "execution_count": null,
      "outputs": [
        {
          "output_type": "stream",
          "text": [
            "Requirement already satisfied: imbalanced-learn in /usr/local/lib/python3.7/dist-packages (0.4.3)\n",
            "Requirement already satisfied: numpy>=1.8.2 in /usr/local/lib/python3.7/dist-packages (from imbalanced-learn) (1.19.5)\n",
            "Requirement already satisfied: scikit-learn>=0.20 in /usr/local/lib/python3.7/dist-packages (from imbalanced-learn) (0.22.2.post1)\n",
            "Requirement already satisfied: scipy>=0.13.3 in /usr/local/lib/python3.7/dist-packages (from imbalanced-learn) (1.4.1)\n",
            "Requirement already satisfied: joblib>=0.11 in /usr/local/lib/python3.7/dist-packages (from scikit-learn>=0.20->imbalanced-learn) (1.0.1)\n",
            "Requirement already satisfied: joblib in /usr/local/lib/python3.7/dist-packages (1.0.1)\n",
            "Requirement already satisfied: pydotplus in /usr/local/lib/python3.7/dist-packages (2.0.2)\n",
            "Requirement already satisfied: pyparsing>=2.0.1 in /usr/local/lib/python3.7/dist-packages (from pydotplus) (2.4.7)\n",
            "Requirement already satisfied: pydot in /usr/local/lib/python3.7/dist-packages (1.3.0)\n",
            "Requirement already satisfied: pyparsing>=2.1.4 in /usr/local/lib/python3.7/dist-packages (from pydot) (2.4.7)\n",
            "Requirement already satisfied: graphviz in /usr/local/lib/python3.7/dist-packages (0.10.1)\n",
            "Requirement already satisfied: Pillow in /usr/local/lib/python3.7/dist-packages (7.1.2)\n",
            "Collecting Image\n",
            "  Downloading https://files.pythonhosted.org/packages/84/be/961693ed384aa91bcc07525c90e3a34bc06c75f131655dfe21310234c933/image-1.5.33.tar.gz\n",
            "Requirement already satisfied: pillow in /usr/local/lib/python3.7/dist-packages (from Image) (7.1.2)\n",
            "Collecting django\n",
            "\u001b[?25l  Downloading https://files.pythonhosted.org/packages/89/69/c556b5b3e7a6701724485fc07c8349791e585b784dc70c9c0683d98ef0db/Django-3.2.3-py3-none-any.whl (7.9MB)\n",
            "\u001b[K     |████████████████████████████████| 7.9MB 7.1MB/s \n",
            "\u001b[?25hRequirement already satisfied: six in /usr/local/lib/python3.7/dist-packages (from Image) (1.15.0)\n",
            "Requirement already satisfied: sqlparse>=0.2.2 in /usr/local/lib/python3.7/dist-packages (from django->Image) (0.4.1)\n",
            "Requirement already satisfied: pytz in /usr/local/lib/python3.7/dist-packages (from django->Image) (2018.9)\n",
            "Collecting asgiref<4,>=3.3.2\n",
            "  Downloading https://files.pythonhosted.org/packages/17/8b/05e225d11154b8f5358e6a6d277679c9741ec0339d1e451c9cef687a9170/asgiref-3.3.4-py3-none-any.whl\n",
            "Requirement already satisfied: typing-extensions; python_version < \"3.8\" in /usr/local/lib/python3.7/dist-packages (from asgiref<4,>=3.3.2->django->Image) (3.7.4.3)\n",
            "Building wheels for collected packages: Image\n",
            "  Building wheel for Image (setup.py) ... \u001b[?25l\u001b[?25hdone\n",
            "  Created wheel for Image: filename=image-1.5.33-py2.py3-none-any.whl size=19482 sha256=2cd7fb57dee0cb713a18f6c0873e437f6a0aebea4753b2e336f376bd8830e533\n",
            "  Stored in directory: /root/.cache/pip/wheels/87/4c/60/d5904e69c837fcdea7e03ffa0c657f35ced7e398c6f3ca17cc\n",
            "Successfully built Image\n",
            "Installing collected packages: asgiref, django, Image\n",
            "Successfully installed Image-1.5.33 asgiref-3.3.4 django-3.2.3\n"
          ],
          "name": "stdout"
        }
      ]
    },
    {
      "cell_type": "code",
      "metadata": {
        "colab": {
          "base_uri": "https://localhost:8080/",
          "height": 235
        },
        "id": "Dqo_2b_6uiHC",
        "outputId": "fff90747-358e-4f7a-c115-e163ee5df024"
      },
      "source": [
        "#Lectura del archivo en Github\n",
        "#Header: Identificación del primer registro como la cabecera de la base de datos\n",
        "#Index: Identificador unico de la base de datos\n",
        "#Visualización de 5 registros    \n",
        "df0 = pd.read_excel(r'https://github.com/joatamayoav/Trabajo_Final_Analitica_Predictiva/blob/main/Modelo%202%20-%20Analistica%20Predictiva.xlsx?raw=true',\n",
        "     header=1,\n",
        "     index_col='ID'\n",
        "    )\n",
        "df0.head()\n"
      ],
      "execution_count": null,
      "outputs": [
        {
          "output_type": "execute_result",
          "data": {
            "text/html": [
              "<div>\n",
              "<style scoped>\n",
              "    .dataframe tbody tr th:only-of-type {\n",
              "        vertical-align: middle;\n",
              "    }\n",
              "\n",
              "    .dataframe tbody tr th {\n",
              "        vertical-align: top;\n",
              "    }\n",
              "\n",
              "    .dataframe thead th {\n",
              "        text-align: right;\n",
              "    }\n",
              "</style>\n",
              "<table border=\"1\" class=\"dataframe\">\n",
              "  <thead>\n",
              "    <tr style=\"text-align: right;\">\n",
              "      <th></th>\n",
              "      <th>LOAN</th>\n",
              "      <th>MORTDUE</th>\n",
              "      <th>VALUE</th>\n",
              "      <th>REASON</th>\n",
              "      <th>JOB</th>\n",
              "      <th>YOJ</th>\n",
              "      <th>DEROG</th>\n",
              "      <th>DELINQ</th>\n",
              "      <th>CLAGE</th>\n",
              "      <th>NINQ</th>\n",
              "      <th>CLNO</th>\n",
              "      <th>DEBTINC</th>\n",
              "      <th>BAD</th>\n",
              "    </tr>\n",
              "    <tr>\n",
              "      <th>ID</th>\n",
              "      <th></th>\n",
              "      <th></th>\n",
              "      <th></th>\n",
              "      <th></th>\n",
              "      <th></th>\n",
              "      <th></th>\n",
              "      <th></th>\n",
              "      <th></th>\n",
              "      <th></th>\n",
              "      <th></th>\n",
              "      <th></th>\n",
              "      <th></th>\n",
              "      <th></th>\n",
              "    </tr>\n",
              "  </thead>\n",
              "  <tbody>\n",
              "    <tr>\n",
              "      <th>1</th>\n",
              "      <td>1100</td>\n",
              "      <td>25860.0</td>\n",
              "      <td>39025.0</td>\n",
              "      <td>HomeImp</td>\n",
              "      <td>Other</td>\n",
              "      <td>10.5</td>\n",
              "      <td>0</td>\n",
              "      <td>0</td>\n",
              "      <td>94.366667</td>\n",
              "      <td>1</td>\n",
              "      <td>9</td>\n",
              "      <td>0.000000</td>\n",
              "      <td>1</td>\n",
              "    </tr>\n",
              "    <tr>\n",
              "      <th>2</th>\n",
              "      <td>1300</td>\n",
              "      <td>70053.0</td>\n",
              "      <td>68400.0</td>\n",
              "      <td>HomeImp</td>\n",
              "      <td>Other</td>\n",
              "      <td>7.0</td>\n",
              "      <td>0</td>\n",
              "      <td>2</td>\n",
              "      <td>121.833333</td>\n",
              "      <td>0</td>\n",
              "      <td>14</td>\n",
              "      <td>0.000000</td>\n",
              "      <td>1</td>\n",
              "    </tr>\n",
              "    <tr>\n",
              "      <th>3</th>\n",
              "      <td>1500</td>\n",
              "      <td>13500.0</td>\n",
              "      <td>16700.0</td>\n",
              "      <td>HomeImp</td>\n",
              "      <td>Other</td>\n",
              "      <td>4.0</td>\n",
              "      <td>0</td>\n",
              "      <td>0</td>\n",
              "      <td>149.466667</td>\n",
              "      <td>1</td>\n",
              "      <td>10</td>\n",
              "      <td>0.000000</td>\n",
              "      <td>1</td>\n",
              "    </tr>\n",
              "    <tr>\n",
              "      <th>4</th>\n",
              "      <td>1700</td>\n",
              "      <td>97800.0</td>\n",
              "      <td>112000.0</td>\n",
              "      <td>HomeImp</td>\n",
              "      <td>Office</td>\n",
              "      <td>3.0</td>\n",
              "      <td>0</td>\n",
              "      <td>0</td>\n",
              "      <td>93.333333</td>\n",
              "      <td>0</td>\n",
              "      <td>14</td>\n",
              "      <td>0.000000</td>\n",
              "      <td>0</td>\n",
              "    </tr>\n",
              "    <tr>\n",
              "      <th>5</th>\n",
              "      <td>1700</td>\n",
              "      <td>30548.0</td>\n",
              "      <td>40320.0</td>\n",
              "      <td>HomeImp</td>\n",
              "      <td>Other</td>\n",
              "      <td>9.0</td>\n",
              "      <td>0</td>\n",
              "      <td>0</td>\n",
              "      <td>101.466002</td>\n",
              "      <td>1</td>\n",
              "      <td>8</td>\n",
              "      <td>37.113614</td>\n",
              "      <td>1</td>\n",
              "    </tr>\n",
              "  </tbody>\n",
              "</table>\n",
              "</div>"
            ],
            "text/plain": [
              "    LOAN  MORTDUE     VALUE   REASON  ... NINQ  CLNO    DEBTINC  BAD\n",
              "ID                                    ...                           \n",
              "1   1100  25860.0   39025.0  HomeImp  ...    1     9   0.000000    1\n",
              "2   1300  70053.0   68400.0  HomeImp  ...    0    14   0.000000    1\n",
              "3   1500  13500.0   16700.0  HomeImp  ...    1    10   0.000000    1\n",
              "4   1700  97800.0  112000.0  HomeImp  ...    0    14   0.000000    0\n",
              "5   1700  30548.0   40320.0  HomeImp  ...    1     8  37.113614    1\n",
              "\n",
              "[5 rows x 13 columns]"
            ]
          },
          "metadata": {
            "tags": []
          },
          "execution_count": 2
        }
      ]
    },
    {
      "cell_type": "code",
      "metadata": {
        "colab": {
          "base_uri": "https://localhost:8080/",
          "height": 272
        },
        "id": "EIlY7zGWuiHD",
        "outputId": "1bdabcd4-3755-4db6-8d42-906b1f5a0960"
      },
      "source": [
        "#Renombra variables en de mayúsculas a minúsculas\n",
        "#Cambiar variable y de \"default payment next month\" a \"Variable dependiente\"\n",
        "df0.rename(columns=lambda x: x.lower(), inplace=True)\n",
        "df0.rename(columns={\"bad\":\"Variable dependiente\"}, inplace=True) \n",
        "df0.head()"
      ],
      "execution_count": null,
      "outputs": [
        {
          "output_type": "execute_result",
          "data": {
            "text/html": [
              "<div>\n",
              "<style scoped>\n",
              "    .dataframe tbody tr th:only-of-type {\n",
              "        vertical-align: middle;\n",
              "    }\n",
              "\n",
              "    .dataframe tbody tr th {\n",
              "        vertical-align: top;\n",
              "    }\n",
              "\n",
              "    .dataframe thead th {\n",
              "        text-align: right;\n",
              "    }\n",
              "</style>\n",
              "<table border=\"1\" class=\"dataframe\">\n",
              "  <thead>\n",
              "    <tr style=\"text-align: right;\">\n",
              "      <th></th>\n",
              "      <th>loan</th>\n",
              "      <th>mortdue</th>\n",
              "      <th>value</th>\n",
              "      <th>reason</th>\n",
              "      <th>job</th>\n",
              "      <th>yoj</th>\n",
              "      <th>derog</th>\n",
              "      <th>delinq</th>\n",
              "      <th>clage</th>\n",
              "      <th>ninq</th>\n",
              "      <th>clno</th>\n",
              "      <th>debtinc</th>\n",
              "      <th>Variable dependiente</th>\n",
              "    </tr>\n",
              "    <tr>\n",
              "      <th>ID</th>\n",
              "      <th></th>\n",
              "      <th></th>\n",
              "      <th></th>\n",
              "      <th></th>\n",
              "      <th></th>\n",
              "      <th></th>\n",
              "      <th></th>\n",
              "      <th></th>\n",
              "      <th></th>\n",
              "      <th></th>\n",
              "      <th></th>\n",
              "      <th></th>\n",
              "      <th></th>\n",
              "    </tr>\n",
              "  </thead>\n",
              "  <tbody>\n",
              "    <tr>\n",
              "      <th>1</th>\n",
              "      <td>1100</td>\n",
              "      <td>25860.0</td>\n",
              "      <td>39025.0</td>\n",
              "      <td>HomeImp</td>\n",
              "      <td>Other</td>\n",
              "      <td>10.5</td>\n",
              "      <td>0</td>\n",
              "      <td>0</td>\n",
              "      <td>94.366667</td>\n",
              "      <td>1</td>\n",
              "      <td>9</td>\n",
              "      <td>0.000000</td>\n",
              "      <td>1</td>\n",
              "    </tr>\n",
              "    <tr>\n",
              "      <th>2</th>\n",
              "      <td>1300</td>\n",
              "      <td>70053.0</td>\n",
              "      <td>68400.0</td>\n",
              "      <td>HomeImp</td>\n",
              "      <td>Other</td>\n",
              "      <td>7.0</td>\n",
              "      <td>0</td>\n",
              "      <td>2</td>\n",
              "      <td>121.833333</td>\n",
              "      <td>0</td>\n",
              "      <td>14</td>\n",
              "      <td>0.000000</td>\n",
              "      <td>1</td>\n",
              "    </tr>\n",
              "    <tr>\n",
              "      <th>3</th>\n",
              "      <td>1500</td>\n",
              "      <td>13500.0</td>\n",
              "      <td>16700.0</td>\n",
              "      <td>HomeImp</td>\n",
              "      <td>Other</td>\n",
              "      <td>4.0</td>\n",
              "      <td>0</td>\n",
              "      <td>0</td>\n",
              "      <td>149.466667</td>\n",
              "      <td>1</td>\n",
              "      <td>10</td>\n",
              "      <td>0.000000</td>\n",
              "      <td>1</td>\n",
              "    </tr>\n",
              "    <tr>\n",
              "      <th>4</th>\n",
              "      <td>1700</td>\n",
              "      <td>97800.0</td>\n",
              "      <td>112000.0</td>\n",
              "      <td>HomeImp</td>\n",
              "      <td>Office</td>\n",
              "      <td>3.0</td>\n",
              "      <td>0</td>\n",
              "      <td>0</td>\n",
              "      <td>93.333333</td>\n",
              "      <td>0</td>\n",
              "      <td>14</td>\n",
              "      <td>0.000000</td>\n",
              "      <td>0</td>\n",
              "    </tr>\n",
              "    <tr>\n",
              "      <th>5</th>\n",
              "      <td>1700</td>\n",
              "      <td>30548.0</td>\n",
              "      <td>40320.0</td>\n",
              "      <td>HomeImp</td>\n",
              "      <td>Other</td>\n",
              "      <td>9.0</td>\n",
              "      <td>0</td>\n",
              "      <td>0</td>\n",
              "      <td>101.466002</td>\n",
              "      <td>1</td>\n",
              "      <td>8</td>\n",
              "      <td>37.113614</td>\n",
              "      <td>1</td>\n",
              "    </tr>\n",
              "  </tbody>\n",
              "</table>\n",
              "</div>"
            ],
            "text/plain": [
              "    loan  mortdue     value  ... clno    debtinc  Variable dependiente\n",
              "ID                           ...                                      \n",
              "1   1100  25860.0   39025.0  ...    9   0.000000                     1\n",
              "2   1300  70053.0   68400.0  ...   14   0.000000                     1\n",
              "3   1500  13500.0   16700.0  ...   10   0.000000                     1\n",
              "4   1700  97800.0  112000.0  ...   14   0.000000                     0\n",
              "5   1700  30548.0   40320.0  ...    8  37.113614                     1\n",
              "\n",
              "[5 rows x 13 columns]"
            ]
          },
          "metadata": {
            "tags": []
          },
          "execution_count": 9
        }
      ]
    },
    {
      "cell_type": "code",
      "metadata": {
        "colab": {
          "base_uri": "https://localhost:8080/",
          "height": 272
        },
        "id": "eXiV_aAxuiHE",
        "outputId": "4569de82-337b-4115-a8d7-4a078be408c7"
      },
      "source": [
        "# Se crea copia del Dataframe original para no dañarlo\n",
        "df = df0.copy()\n",
        "df.head()"
      ],
      "execution_count": null,
      "outputs": [
        {
          "output_type": "execute_result",
          "data": {
            "text/html": [
              "<div>\n",
              "<style scoped>\n",
              "    .dataframe tbody tr th:only-of-type {\n",
              "        vertical-align: middle;\n",
              "    }\n",
              "\n",
              "    .dataframe tbody tr th {\n",
              "        vertical-align: top;\n",
              "    }\n",
              "\n",
              "    .dataframe thead th {\n",
              "        text-align: right;\n",
              "    }\n",
              "</style>\n",
              "<table border=\"1\" class=\"dataframe\">\n",
              "  <thead>\n",
              "    <tr style=\"text-align: right;\">\n",
              "      <th></th>\n",
              "      <th>loan</th>\n",
              "      <th>mortdue</th>\n",
              "      <th>value</th>\n",
              "      <th>reason</th>\n",
              "      <th>job</th>\n",
              "      <th>yoj</th>\n",
              "      <th>derog</th>\n",
              "      <th>delinq</th>\n",
              "      <th>clage</th>\n",
              "      <th>ninq</th>\n",
              "      <th>clno</th>\n",
              "      <th>debtinc</th>\n",
              "      <th>Variable dependiente</th>\n",
              "    </tr>\n",
              "    <tr>\n",
              "      <th>ID</th>\n",
              "      <th></th>\n",
              "      <th></th>\n",
              "      <th></th>\n",
              "      <th></th>\n",
              "      <th></th>\n",
              "      <th></th>\n",
              "      <th></th>\n",
              "      <th></th>\n",
              "      <th></th>\n",
              "      <th></th>\n",
              "      <th></th>\n",
              "      <th></th>\n",
              "      <th></th>\n",
              "    </tr>\n",
              "  </thead>\n",
              "  <tbody>\n",
              "    <tr>\n",
              "      <th>1</th>\n",
              "      <td>1100</td>\n",
              "      <td>25860.0</td>\n",
              "      <td>39025.0</td>\n",
              "      <td>HomeImp</td>\n",
              "      <td>Other</td>\n",
              "      <td>10.5</td>\n",
              "      <td>0</td>\n",
              "      <td>0</td>\n",
              "      <td>94.366667</td>\n",
              "      <td>1</td>\n",
              "      <td>9</td>\n",
              "      <td>0.000000</td>\n",
              "      <td>1</td>\n",
              "    </tr>\n",
              "    <tr>\n",
              "      <th>2</th>\n",
              "      <td>1300</td>\n",
              "      <td>70053.0</td>\n",
              "      <td>68400.0</td>\n",
              "      <td>HomeImp</td>\n",
              "      <td>Other</td>\n",
              "      <td>7.0</td>\n",
              "      <td>0</td>\n",
              "      <td>2</td>\n",
              "      <td>121.833333</td>\n",
              "      <td>0</td>\n",
              "      <td>14</td>\n",
              "      <td>0.000000</td>\n",
              "      <td>1</td>\n",
              "    </tr>\n",
              "    <tr>\n",
              "      <th>3</th>\n",
              "      <td>1500</td>\n",
              "      <td>13500.0</td>\n",
              "      <td>16700.0</td>\n",
              "      <td>HomeImp</td>\n",
              "      <td>Other</td>\n",
              "      <td>4.0</td>\n",
              "      <td>0</td>\n",
              "      <td>0</td>\n",
              "      <td>149.466667</td>\n",
              "      <td>1</td>\n",
              "      <td>10</td>\n",
              "      <td>0.000000</td>\n",
              "      <td>1</td>\n",
              "    </tr>\n",
              "    <tr>\n",
              "      <th>4</th>\n",
              "      <td>1700</td>\n",
              "      <td>97800.0</td>\n",
              "      <td>112000.0</td>\n",
              "      <td>HomeImp</td>\n",
              "      <td>Office</td>\n",
              "      <td>3.0</td>\n",
              "      <td>0</td>\n",
              "      <td>0</td>\n",
              "      <td>93.333333</td>\n",
              "      <td>0</td>\n",
              "      <td>14</td>\n",
              "      <td>0.000000</td>\n",
              "      <td>0</td>\n",
              "    </tr>\n",
              "    <tr>\n",
              "      <th>5</th>\n",
              "      <td>1700</td>\n",
              "      <td>30548.0</td>\n",
              "      <td>40320.0</td>\n",
              "      <td>HomeImp</td>\n",
              "      <td>Other</td>\n",
              "      <td>9.0</td>\n",
              "      <td>0</td>\n",
              "      <td>0</td>\n",
              "      <td>101.466002</td>\n",
              "      <td>1</td>\n",
              "      <td>8</td>\n",
              "      <td>37.113614</td>\n",
              "      <td>1</td>\n",
              "    </tr>\n",
              "  </tbody>\n",
              "</table>\n",
              "</div>"
            ],
            "text/plain": [
              "    loan  mortdue     value  ... clno    debtinc  Variable dependiente\n",
              "ID                           ...                                      \n",
              "1   1100  25860.0   39025.0  ...    9   0.000000                     1\n",
              "2   1300  70053.0   68400.0  ...   14   0.000000                     1\n",
              "3   1500  13500.0   16700.0  ...   10   0.000000                     1\n",
              "4   1700  97800.0  112000.0  ...   14   0.000000                     0\n",
              "5   1700  30548.0   40320.0  ...    8  37.113614                     1\n",
              "\n",
              "[5 rows x 13 columns]"
            ]
          },
          "metadata": {
            "tags": []
          },
          "execution_count": 10
        }
      ]
    },
    {
      "cell_type": "markdown",
      "metadata": {
        "id": "Xdi8DbXXuiHH"
      },
      "source": [
        "## Variables Dummys "
      ]
    },
    {
      "cell_type": "markdown",
      "metadata": {
        "id": "FMoCEegXuiHI"
      },
      "source": [
        "Variable ficticia para explicar valores cualitativos en un modelo de regresión."
      ]
    },
    {
      "cell_type": "code",
      "metadata": {
        "id": "z1dyTW4br3wI",
        "colab": {
          "base_uri": "https://localhost:8080/",
          "height": 252
        },
        "outputId": "f55624ba-3c13-4232-cb67-b2c491bcd3aa"
      },
      "source": [
        "# Se construye un codificador para transformar\n",
        "# los strings a enteros (similar a factores en R)\n",
        "#\n",
        "# Se aplica el codificador a las columnas\n",
        "# del dataset\n",
        "#\n",
        "\n",
        "from sklearn.preprocessing import LabelEncoder\n",
        "enc = LabelEncoder()\n",
        "\n",
        "columns = [\n",
        " 'reason'          \n",
        ",'job'           \n",
        "]\n",
        "for column in columns:\n",
        "    df[column] = enc.fit_transform(df[column].astype(str))\n",
        "\n",
        "\n",
        "df.head()\n"
      ],
      "execution_count": null,
      "outputs": [
        {
          "output_type": "execute_result",
          "data": {
            "text/html": [
              "<div>\n",
              "<style scoped>\n",
              "    .dataframe tbody tr th:only-of-type {\n",
              "        vertical-align: middle;\n",
              "    }\n",
              "\n",
              "    .dataframe tbody tr th {\n",
              "        vertical-align: top;\n",
              "    }\n",
              "\n",
              "    .dataframe thead th {\n",
              "        text-align: right;\n",
              "    }\n",
              "</style>\n",
              "<table border=\"1\" class=\"dataframe\">\n",
              "  <thead>\n",
              "    <tr style=\"text-align: right;\">\n",
              "      <th></th>\n",
              "      <th>loan</th>\n",
              "      <th>mortdue</th>\n",
              "      <th>value</th>\n",
              "      <th>reason</th>\n",
              "      <th>job</th>\n",
              "      <th>yoj</th>\n",
              "      <th>derog</th>\n",
              "      <th>delinq</th>\n",
              "      <th>clage</th>\n",
              "      <th>ninq</th>\n",
              "      <th>clno</th>\n",
              "      <th>debtinc</th>\n",
              "      <th>Variable dependiente</th>\n",
              "    </tr>\n",
              "    <tr>\n",
              "      <th>ID</th>\n",
              "      <th></th>\n",
              "      <th></th>\n",
              "      <th></th>\n",
              "      <th></th>\n",
              "      <th></th>\n",
              "      <th></th>\n",
              "      <th></th>\n",
              "      <th></th>\n",
              "      <th></th>\n",
              "      <th></th>\n",
              "      <th></th>\n",
              "      <th></th>\n",
              "      <th></th>\n",
              "    </tr>\n",
              "  </thead>\n",
              "  <tbody>\n",
              "    <tr>\n",
              "      <th>1</th>\n",
              "      <td>1100</td>\n",
              "      <td>25860.0</td>\n",
              "      <td>39025.0</td>\n",
              "      <td>1</td>\n",
              "      <td>2</td>\n",
              "      <td>10.5</td>\n",
              "      <td>0</td>\n",
              "      <td>0</td>\n",
              "      <td>94.366667</td>\n",
              "      <td>1</td>\n",
              "      <td>9</td>\n",
              "      <td>0.000000</td>\n",
              "      <td>1</td>\n",
              "    </tr>\n",
              "    <tr>\n",
              "      <th>2</th>\n",
              "      <td>1300</td>\n",
              "      <td>70053.0</td>\n",
              "      <td>68400.0</td>\n",
              "      <td>1</td>\n",
              "      <td>2</td>\n",
              "      <td>7.0</td>\n",
              "      <td>0</td>\n",
              "      <td>2</td>\n",
              "      <td>121.833333</td>\n",
              "      <td>0</td>\n",
              "      <td>14</td>\n",
              "      <td>0.000000</td>\n",
              "      <td>1</td>\n",
              "    </tr>\n",
              "    <tr>\n",
              "      <th>3</th>\n",
              "      <td>1500</td>\n",
              "      <td>13500.0</td>\n",
              "      <td>16700.0</td>\n",
              "      <td>1</td>\n",
              "      <td>2</td>\n",
              "      <td>4.0</td>\n",
              "      <td>0</td>\n",
              "      <td>0</td>\n",
              "      <td>149.466667</td>\n",
              "      <td>1</td>\n",
              "      <td>10</td>\n",
              "      <td>0.000000</td>\n",
              "      <td>1</td>\n",
              "    </tr>\n",
              "    <tr>\n",
              "      <th>4</th>\n",
              "      <td>1700</td>\n",
              "      <td>97800.0</td>\n",
              "      <td>112000.0</td>\n",
              "      <td>1</td>\n",
              "      <td>1</td>\n",
              "      <td>3.0</td>\n",
              "      <td>0</td>\n",
              "      <td>0</td>\n",
              "      <td>93.333333</td>\n",
              "      <td>0</td>\n",
              "      <td>14</td>\n",
              "      <td>0.000000</td>\n",
              "      <td>0</td>\n",
              "    </tr>\n",
              "    <tr>\n",
              "      <th>5</th>\n",
              "      <td>1700</td>\n",
              "      <td>30548.0</td>\n",
              "      <td>40320.0</td>\n",
              "      <td>1</td>\n",
              "      <td>2</td>\n",
              "      <td>9.0</td>\n",
              "      <td>0</td>\n",
              "      <td>0</td>\n",
              "      <td>101.466002</td>\n",
              "      <td>1</td>\n",
              "      <td>8</td>\n",
              "      <td>37.113614</td>\n",
              "      <td>1</td>\n",
              "    </tr>\n",
              "  </tbody>\n",
              "</table>\n",
              "</div>"
            ],
            "text/plain": [
              "    loan  mortdue     value  ...  clno    debtinc  Variable dependiente\n",
              "ID                           ...                                       \n",
              "1   1100  25860.0   39025.0  ...     9   0.000000                     1\n",
              "2   1300  70053.0   68400.0  ...    14   0.000000                     1\n",
              "3   1500  13500.0   16700.0  ...    10   0.000000                     1\n",
              "4   1700  97800.0  112000.0  ...    14   0.000000                     0\n",
              "5   1700  30548.0   40320.0  ...     8  37.113614                     1\n",
              "\n",
              "[5 rows x 13 columns]"
            ]
          },
          "metadata": {
            "tags": []
          },
          "execution_count": 11
        }
      ]
    },
    {
      "cell_type": "markdown",
      "metadata": {
        "id": "giHj2qh4uiHM"
      },
      "source": [
        "## Análisis Descriptivo"
      ]
    },
    {
      "cell_type": "code",
      "metadata": {
        "colab": {
          "base_uri": "https://localhost:8080/",
          "height": 589
        },
        "id": "UO6iIss2uiHN",
        "outputId": "62bbf498-416a-4208-e6be-520a30bcf4a6"
      },
      "source": [
        "#dtypes: Visualizar variables y tipo de variables de la data\n",
        "#df.shape: Cuantas variables y registros hay en la data\n",
        "#Estatidisticas básicas de la data\n",
        "print(df.dtypes)\n",
        "print(df.shape)\n",
        "df.describe()"
      ],
      "execution_count": null,
      "outputs": [
        {
          "output_type": "stream",
          "text": [
            "loan                      int64\n",
            "mortdue                 float64\n",
            "value                   float64\n",
            "reason                    int64\n",
            "job                       int64\n",
            "yoj                     float64\n",
            "derog                     int64\n",
            "delinq                    int64\n",
            "clage                   float64\n",
            "ninq                      int64\n",
            "clno                      int64\n",
            "debtinc                 float64\n",
            "Variable dependiente      int64\n",
            "dtype: object\n",
            "(5449, 13)\n"
          ],
          "name": "stdout"
        },
        {
          "output_type": "execute_result",
          "data": {
            "text/html": [
              "<div>\n",
              "<style scoped>\n",
              "    .dataframe tbody tr th:only-of-type {\n",
              "        vertical-align: middle;\n",
              "    }\n",
              "\n",
              "    .dataframe tbody tr th {\n",
              "        vertical-align: top;\n",
              "    }\n",
              "\n",
              "    .dataframe thead th {\n",
              "        text-align: right;\n",
              "    }\n",
              "</style>\n",
              "<table border=\"1\" class=\"dataframe\">\n",
              "  <thead>\n",
              "    <tr style=\"text-align: right;\">\n",
              "      <th></th>\n",
              "      <th>loan</th>\n",
              "      <th>mortdue</th>\n",
              "      <th>value</th>\n",
              "      <th>reason</th>\n",
              "      <th>job</th>\n",
              "      <th>yoj</th>\n",
              "      <th>derog</th>\n",
              "      <th>delinq</th>\n",
              "      <th>clage</th>\n",
              "      <th>ninq</th>\n",
              "      <th>clno</th>\n",
              "      <th>debtinc</th>\n",
              "      <th>Variable dependiente</th>\n",
              "    </tr>\n",
              "  </thead>\n",
              "  <tbody>\n",
              "    <tr>\n",
              "      <th>count</th>\n",
              "      <td>5449.000000</td>\n",
              "      <td>5449.000000</td>\n",
              "      <td>5449.000000</td>\n",
              "      <td>5449.000000</td>\n",
              "      <td>5449.000000</td>\n",
              "      <td>5449.000000</td>\n",
              "      <td>5449.000000</td>\n",
              "      <td>5449.000000</td>\n",
              "      <td>5449.000000</td>\n",
              "      <td>5449.000000</td>\n",
              "      <td>5449.000000</td>\n",
              "      <td>5449.000000</td>\n",
              "      <td>5449.000000</td>\n",
              "    </tr>\n",
              "    <tr>\n",
              "      <th>mean</th>\n",
              "      <td>18729.253074</td>\n",
              "      <td>68816.596364</td>\n",
              "      <td>102538.714726</td>\n",
              "      <td>0.310883</td>\n",
              "      <td>1.933566</td>\n",
              "      <td>8.242742</td>\n",
              "      <td>0.213801</td>\n",
              "      <td>0.390714</td>\n",
              "      <td>175.313496</td>\n",
              "      <td>1.122958</td>\n",
              "      <td>21.161498</td>\n",
              "      <td>27.121500</td>\n",
              "      <td>0.191044</td>\n",
              "    </tr>\n",
              "    <tr>\n",
              "      <th>std</th>\n",
              "      <td>11001.492165</td>\n",
              "      <td>47173.102628</td>\n",
              "      <td>58337.548293</td>\n",
              "      <td>0.462897</td>\n",
              "      <td>1.142391</td>\n",
              "      <td>7.565077</td>\n",
              "      <td>0.766632</td>\n",
              "      <td>1.040231</td>\n",
              "      <td>89.834999</td>\n",
              "      <td>1.703177</td>\n",
              "      <td>10.353373</td>\n",
              "      <td>15.614455</td>\n",
              "      <td>0.393160</td>\n",
              "    </tr>\n",
              "    <tr>\n",
              "      <th>min</th>\n",
              "      <td>1100.000000</td>\n",
              "      <td>0.000000</td>\n",
              "      <td>8000.000000</td>\n",
              "      <td>0.000000</td>\n",
              "      <td>0.000000</td>\n",
              "      <td>0.000000</td>\n",
              "      <td>0.000000</td>\n",
              "      <td>0.000000</td>\n",
              "      <td>0.000000</td>\n",
              "      <td>0.000000</td>\n",
              "      <td>0.000000</td>\n",
              "      <td>0.000000</td>\n",
              "      <td>0.000000</td>\n",
              "    </tr>\n",
              "    <tr>\n",
              "      <th>25%</th>\n",
              "      <td>11200.000000</td>\n",
              "      <td>41105.000000</td>\n",
              "      <td>66345.000000</td>\n",
              "      <td>0.000000</td>\n",
              "      <td>1.000000</td>\n",
              "      <td>2.000000</td>\n",
              "      <td>0.000000</td>\n",
              "      <td>0.000000</td>\n",
              "      <td>111.206513</td>\n",
              "      <td>0.000000</td>\n",
              "      <td>14.000000</td>\n",
              "      <td>21.621195</td>\n",
              "      <td>0.000000</td>\n",
              "    </tr>\n",
              "    <tr>\n",
              "      <th>50%</th>\n",
              "      <td>16500.000000</td>\n",
              "      <td>62506.000000</td>\n",
              "      <td>89848.000000</td>\n",
              "      <td>0.000000</td>\n",
              "      <td>2.000000</td>\n",
              "      <td>6.000000</td>\n",
              "      <td>0.000000</td>\n",
              "      <td>0.000000</td>\n",
              "      <td>170.700507</td>\n",
              "      <td>1.000000</td>\n",
              "      <td>20.000000</td>\n",
              "      <td>32.571867</td>\n",
              "      <td>0.000000</td>\n",
              "    </tr>\n",
              "    <tr>\n",
              "      <th>75%</th>\n",
              "      <td>23500.000000</td>\n",
              "      <td>89000.000000</td>\n",
              "      <td>120087.000000</td>\n",
              "      <td>1.000000</td>\n",
              "      <td>3.000000</td>\n",
              "      <td>12.000000</td>\n",
              "      <td>0.000000</td>\n",
              "      <td>0.000000</td>\n",
              "      <td>229.986998</td>\n",
              "      <td>2.000000</td>\n",
              "      <td>26.000000</td>\n",
              "      <td>38.195027</td>\n",
              "      <td>0.000000</td>\n",
              "    </tr>\n",
              "    <tr>\n",
              "      <th>max</th>\n",
              "      <td>89900.000000</td>\n",
              "      <td>399412.000000</td>\n",
              "      <td>855909.000000</td>\n",
              "      <td>1.000000</td>\n",
              "      <td>5.000000</td>\n",
              "      <td>41.000000</td>\n",
              "      <td>10.000000</td>\n",
              "      <td>15.000000</td>\n",
              "      <td>1168.233561</td>\n",
              "      <td>17.000000</td>\n",
              "      <td>65.000000</td>\n",
              "      <td>203.312149</td>\n",
              "      <td>1.000000</td>\n",
              "    </tr>\n",
              "  </tbody>\n",
              "</table>\n",
              "</div>"
            ],
            "text/plain": [
              "               loan        mortdue  ...      debtinc  Variable dependiente\n",
              "count   5449.000000    5449.000000  ...  5449.000000           5449.000000\n",
              "mean   18729.253074   68816.596364  ...    27.121500              0.191044\n",
              "std    11001.492165   47173.102628  ...    15.614455              0.393160\n",
              "min     1100.000000       0.000000  ...     0.000000              0.000000\n",
              "25%    11200.000000   41105.000000  ...    21.621195              0.000000\n",
              "50%    16500.000000   62506.000000  ...    32.571867              0.000000\n",
              "75%    23500.000000   89000.000000  ...    38.195027              0.000000\n",
              "max    89900.000000  399412.000000  ...   203.312149              1.000000\n",
              "\n",
              "[8 rows x 13 columns]"
            ]
          },
          "metadata": {
            "tags": []
          },
          "execution_count": 12
        }
      ]
    },
    {
      "cell_type": "markdown",
      "metadata": {
        "id": "khs9qEYyuiHP"
      },
      "source": [
        "## Análisis Exploratorio"
      ]
    },
    {
      "cell_type": "code",
      "metadata": {
        "colab": {
          "base_uri": "https://localhost:8080/",
          "height": 128
        },
        "id": "B9p_xT4fuiHQ",
        "outputId": "949740a6-8e0c-43b6-8346-ef0f02af7d7b"
      },
      "source": [
        "# Identificación de nulos por variable\n",
        "total = df.isnull().sum().sort_values(ascending = False)\n",
        "percent = (df.isnull().sum()/df.isnull().count()*100).sort_values(ascending = False)\n",
        "pd.concat([total, percent], axis=1, keys=['Total', 'Percent']).transpose()"
      ],
      "execution_count": null,
      "outputs": [
        {
          "output_type": "execute_result",
          "data": {
            "text/html": [
              "<div>\n",
              "<style scoped>\n",
              "    .dataframe tbody tr th:only-of-type {\n",
              "        vertical-align: middle;\n",
              "    }\n",
              "\n",
              "    .dataframe tbody tr th {\n",
              "        vertical-align: top;\n",
              "    }\n",
              "\n",
              "    .dataframe thead th {\n",
              "        text-align: right;\n",
              "    }\n",
              "</style>\n",
              "<table border=\"1\" class=\"dataframe\">\n",
              "  <thead>\n",
              "    <tr style=\"text-align: right;\">\n",
              "      <th></th>\n",
              "      <th>Variable dependiente</th>\n",
              "      <th>debtinc</th>\n",
              "      <th>clno</th>\n",
              "      <th>ninq</th>\n",
              "      <th>clage</th>\n",
              "      <th>delinq</th>\n",
              "      <th>derog</th>\n",
              "      <th>yoj</th>\n",
              "      <th>job</th>\n",
              "      <th>reason</th>\n",
              "      <th>value</th>\n",
              "      <th>mortdue</th>\n",
              "      <th>loan</th>\n",
              "    </tr>\n",
              "  </thead>\n",
              "  <tbody>\n",
              "    <tr>\n",
              "      <th>Total</th>\n",
              "      <td>0.0</td>\n",
              "      <td>0.0</td>\n",
              "      <td>0.0</td>\n",
              "      <td>0.0</td>\n",
              "      <td>0.0</td>\n",
              "      <td>0.0</td>\n",
              "      <td>0.0</td>\n",
              "      <td>0.0</td>\n",
              "      <td>0.0</td>\n",
              "      <td>0.0</td>\n",
              "      <td>0.0</td>\n",
              "      <td>0.0</td>\n",
              "      <td>0.0</td>\n",
              "    </tr>\n",
              "    <tr>\n",
              "      <th>Percent</th>\n",
              "      <td>0.0</td>\n",
              "      <td>0.0</td>\n",
              "      <td>0.0</td>\n",
              "      <td>0.0</td>\n",
              "      <td>0.0</td>\n",
              "      <td>0.0</td>\n",
              "      <td>0.0</td>\n",
              "      <td>0.0</td>\n",
              "      <td>0.0</td>\n",
              "      <td>0.0</td>\n",
              "      <td>0.0</td>\n",
              "      <td>0.0</td>\n",
              "      <td>0.0</td>\n",
              "    </tr>\n",
              "  </tbody>\n",
              "</table>\n",
              "</div>"
            ],
            "text/plain": [
              "         Variable dependiente  debtinc  clno  ...  value  mortdue  loan\n",
              "Total                     0.0      0.0   0.0  ...    0.0      0.0   0.0\n",
              "Percent                   0.0      0.0   0.0  ...    0.0      0.0   0.0\n",
              "\n",
              "[2 rows x 13 columns]"
            ]
          },
          "metadata": {
            "tags": []
          },
          "execution_count": 13
        }
      ]
    },
    {
      "cell_type": "code",
      "metadata": {
        "colab": {
          "base_uri": "https://localhost:8080/",
          "height": 295
        },
        "id": "b0y84SQCuiHR",
        "outputId": "4b505bad-3636-464a-d032-2ae98f30292f"
      },
      "source": [
        "# Creamos dataframe Variable dependiente se le asigna a df1\n",
        "# Dimensiones del plot (6,4)\n",
        "# Asignamos titulo\n",
        "# Definición de colores}\n",
        "# Se asigna la variables del gráfico x = Variable dependiente y y = conteo \n",
        "#\n",
        "temp = df[\"Variable dependiente\"].value_counts()\n",
        "df1 = pd.DataFrame({'Variable dependiente': temp.index,'values': temp.values})\n",
        "plt.figure(figsize = (6,4))\n",
        "plt.title('Balanceo de Variable dependiente')\n",
        "sns.set_color_codes(\"pastel\")\n",
        "graph = sns.barplot(x = 'Variable dependiente', y=\"values\", data=df1)\n",
        "for p in graph.patches:\n",
        "        graph.annotate('{:.0f}'.format(p.get_height()), (p.get_x()+0.4, p.get_height()),\n",
        "                    ha='center', va='bottom',\n",
        "                    color= 'black',\n",
        "                    xytext = (0, 0), \n",
        "                    textcoords = 'offset points'\n",
        "                    )\n",
        "locs, labels = plt.xticks()\n",
        "plt.show()"
      ],
      "execution_count": null,
      "outputs": [
        {
          "output_type": "display_data",
          "data": {
            "image/png": "[encoded data removed]",
            "text/plain": [
              "<Figure size 432x288 with 1 Axes>"
            ]
          },
          "metadata": {
            "tags": [],
            "needs_background": "light"
          }
        }
      ]
    },
    {
      "cell_type": "markdown",
      "metadata": {
        "id": "YgFxeU0JuiHU"
      },
      "source": [
        "## Modelación"
      ]
    },
    {
      "cell_type": "markdown",
      "metadata": {
        "id": "9RAddW6FuiHU"
      },
      "source": [
        "###  Definición Metricas del Modelo"
      ]
    },
    {
      "cell_type": "code",
      "metadata": {
        "id": "G2PWnphLOGwO",
        "colab": {
          "base_uri": "https://localhost:8080/",
          "height": 272
        },
        "outputId": "7a978354-69b5-441a-f719-d0ff096cc1ca"
      },
      "source": [
        "# Definición del dataFrame de metricas\n",
        "metrics = pd.DataFrame(index=['accuracy', 'f1_score', 'precision', 'recall', 'roc_auc_score', 'Tiempo de ejecución'],\n",
        "                       columns=['BernoulliNB', 'GaussianNB', 'LogisticRegresion', 'kNN', 'DecisionTree', 'AdaBoost', 'RandomForest', 'GradientBoosting', 'RedesNeuronales' , 'SVMs'])\n",
        "metrics"
      ],
      "execution_count": null,
      "outputs": [
        {
          "output_type": "execute_result",
          "data": {
            "text/html": [
              "<div>\n",
              "<style scoped>\n",
              "    .dataframe tbody tr th:only-of-type {\n",
              "        vertical-align: middle;\n",
              "    }\n",
              "\n",
              "    .dataframe tbody tr th {\n",
              "        vertical-align: top;\n",
              "    }\n",
              "\n",
              "    .dataframe thead th {\n",
              "        text-align: right;\n",
              "    }\n",
              "</style>\n",
              "<table border=\"1\" class=\"dataframe\">\n",
              "  <thead>\n",
              "    <tr style=\"text-align: right;\">\n",
              "      <th></th>\n",
              "      <th>BernoulliNB</th>\n",
              "      <th>GaussianNB</th>\n",
              "      <th>LogisticRegresion</th>\n",
              "      <th>kNN</th>\n",
              "      <th>DecisionTree</th>\n",
              "      <th>AdaBoost</th>\n",
              "      <th>RandomForest</th>\n",
              "      <th>GradientBoosting</th>\n",
              "      <th>RedesNeuronales</th>\n",
              "      <th>SVMs</th>\n",
              "    </tr>\n",
              "  </thead>\n",
              "  <tbody>\n",
              "    <tr>\n",
              "      <th>accuracy</th>\n",
              "      <td>NaN</td>\n",
              "      <td>NaN</td>\n",
              "      <td>NaN</td>\n",
              "      <td>NaN</td>\n",
              "      <td>NaN</td>\n",
              "      <td>NaN</td>\n",
              "      <td>NaN</td>\n",
              "      <td>NaN</td>\n",
              "      <td>NaN</td>\n",
              "      <td>NaN</td>\n",
              "    </tr>\n",
              "    <tr>\n",
              "      <th>f1_score</th>\n",
              "      <td>NaN</td>\n",
              "      <td>NaN</td>\n",
              "      <td>NaN</td>\n",
              "      <td>NaN</td>\n",
              "      <td>NaN</td>\n",
              "      <td>NaN</td>\n",
              "      <td>NaN</td>\n",
              "      <td>NaN</td>\n",
              "      <td>NaN</td>\n",
              "      <td>NaN</td>\n",
              "    </tr>\n",
              "    <tr>\n",
              "      <th>precision</th>\n",
              "      <td>NaN</td>\n",
              "      <td>NaN</td>\n",
              "      <td>NaN</td>\n",
              "      <td>NaN</td>\n",
              "      <td>NaN</td>\n",
              "      <td>NaN</td>\n",
              "      <td>NaN</td>\n",
              "      <td>NaN</td>\n",
              "      <td>NaN</td>\n",
              "      <td>NaN</td>\n",
              "    </tr>\n",
              "    <tr>\n",
              "      <th>recall</th>\n",
              "      <td>NaN</td>\n",
              "      <td>NaN</td>\n",
              "      <td>NaN</td>\n",
              "      <td>NaN</td>\n",
              "      <td>NaN</td>\n",
              "      <td>NaN</td>\n",
              "      <td>NaN</td>\n",
              "      <td>NaN</td>\n",
              "      <td>NaN</td>\n",
              "      <td>NaN</td>\n",
              "    </tr>\n",
              "    <tr>\n",
              "      <th>roc_auc_score</th>\n",
              "      <td>NaN</td>\n",
              "      <td>NaN</td>\n",
              "      <td>NaN</td>\n",
              "      <td>NaN</td>\n",
              "      <td>NaN</td>\n",
              "      <td>NaN</td>\n",
              "      <td>NaN</td>\n",
              "      <td>NaN</td>\n",
              "      <td>NaN</td>\n",
              "      <td>NaN</td>\n",
              "    </tr>\n",
              "    <tr>\n",
              "      <th>Tiempo de ejecución</th>\n",
              "      <td>NaN</td>\n",
              "      <td>NaN</td>\n",
              "      <td>NaN</td>\n",
              "      <td>NaN</td>\n",
              "      <td>NaN</td>\n",
              "      <td>NaN</td>\n",
              "      <td>NaN</td>\n",
              "      <td>NaN</td>\n",
              "      <td>NaN</td>\n",
              "      <td>NaN</td>\n",
              "    </tr>\n",
              "  </tbody>\n",
              "</table>\n",
              "</div>"
            ],
            "text/plain": [
              "                    BernoulliNB GaussianNB  ... RedesNeuronales SVMs\n",
              "accuracy                    NaN        NaN  ...             NaN  NaN\n",
              "f1_score                    NaN        NaN  ...             NaN  NaN\n",
              "precision                   NaN        NaN  ...             NaN  NaN\n",
              "recall                      NaN        NaN  ...             NaN  NaN\n",
              "roc_auc_score               NaN        NaN  ...             NaN  NaN\n",
              "Tiempo de ejecución         NaN        NaN  ...             NaN  NaN\n",
              "\n",
              "[6 rows x 10 columns]"
            ]
          },
          "metadata": {
            "tags": []
          },
          "execution_count": 19
        }
      ]
    },
    {
      "cell_type": "markdown",
      "metadata": {
        "id": "bIBmAyvcOPcg"
      },
      "source": [
        "###  Definición Gráfica del Modelo"
      ]
    },
    {
      "cell_type": "code",
      "metadata": {
        "id": "_U4HRcBiuiHW"
      },
      "source": [
        "# Creación de la matriz de confusión\n",
        "# Se define la función \"plot_confusion_matrix\" se le asignan variables y parametros a imprimir\n",
        "# La primera parte del codigo que se identifica con las siglas plt es para configuración de variables y aspecto de grafico \n",
        "# Por ejemplo: plt.imshow: define el grado de difuminasión del grafico de confusión\n",
        "# En el for se hace la identificación de positivos, de negativos, falsos positivos y falsos negativos y se asigna colores para dichas variables\n",
        "# Se condigura el gráfico conforme a x y y label\n",
        "\n",
        "def plot_confusion_matrix(cm, title='Confusion matrix', cmap=plt.cm.Greys):\n",
        "    plt.imshow(cm, interpolation='nearest', cmap=cmap)\n",
        "    plt.title(title)\n",
        "    plt.colorbar()\n",
        "    tick_marks = np.arange(cm.shape[1])\n",
        "    plt.xticks(tick_marks, rotation=0)\n",
        "    ax = plt.gca()\n",
        "    ax.set_xticklabels((ax.get_xticks()+0).astype(str))\n",
        "    plt.yticks(tick_marks)\n",
        "\n",
        "    thresh = cm.max() / 2.\n",
        "    for i, j in itertools.product(range(cm.shape[0]), range(cm.shape[1])):\n",
        "        plt.text(j, i, format(cm[i, j], '.0f'),\n",
        "                 horizontalalignment=\"center\",\n",
        "                 color=\"white\" if cm[i, j] > thresh else \"black\")\n",
        "\n",
        "    plt.tight_layout()\n",
        "    plt.ylabel('True label')\n",
        "    plt.xlabel('Predicted label')\n",
        "    "
      ],
      "execution_count": null,
      "outputs": []
    },
    {
      "cell_type": "markdown",
      "metadata": {
        "id": "2An0bYZZuiHY"
      },
      "source": [
        "### Conjuntos de entrenamiento y prueba "
      ]
    },
    {
      "cell_type": "code",
      "metadata": {
        "id": "ea6nOx10uiHZ"
      },
      "source": [
        "# Se define la variable Dependientes\n",
        "# Elimina variable dependiente para entrenar\n",
        "# Se aplica el RobustScaler para transformar las variables del modelo y hacer el fit\n",
        "# Se define el proporción de el tamaño del datatest y numero minimo de iteraciones y la variable dependiente del Modelo \n",
        "target = 'Variable dependiente'\n",
        "X = df.drop('Variable dependiente', axis = 1)\n",
        "robust_scaler = RobustScaler()\n",
        "X = robust_scaler.fit_transform(X)\n",
        "Y = df[target]\n",
        "X_train, X_test, y_train, y_test = train_test_split(X,Y,test_size=0.2, random_state=100, stratify=Y)"
      ],
      "execution_count": null,
      "outputs": []
    },
    {
      "cell_type": "markdown",
      "metadata": {
        "id": "TPC-G-4QuiHa"
      },
      "source": [
        "### NB "
      ]
    },
    {
      "cell_type": "code",
      "metadata": {
        "id": "eSEd2ffluiHa"
      },
      "source": [
        "# Se importa la libreria de modelo correspondiente\n",
        "from sklearn.naive_bayes import BernoulliNB\n",
        "\n",
        "\n",
        "#\n",
        "# Se crean los parametros correspondientes al modelo, esto con el objetivo de optimizarlos por medio de la librería GridSearchCV\n",
        "parameters = [{'alpha':np.linspace(0.0,1,5),'binarize':np.linspace(0.0,1,5),'fit_prior': [\"True\",\"False\"]}]\n",
        "# Se ejecuta la librería GridSearchCV\n",
        "gnb = GridSearchCV(\n",
        "    BernoulliNB(),\n",
        "    parameters,\n",
        "    cv=4\n",
        ")\n",
        "# Entrenamiento del modelo y selección de la combinación óptima de parámetros\n",
        "gnb.fit(X_train, y_train)\n",
        "y_pred_test = gnb.predict(X_test)\n",
        "# Evaluación para matriz de confusión\n",
        "y_test = np.asarray(y_test)\n",
        "y_pred_test = np.asarray(y_pred_test)\n",
        "# Calculo del tiempo en ejecución y definición de metricas\n",
        "start_time = time.time()\n",
        "metrics.loc['accuracy','BernoulliNB'] = accuracy_score(y_pred=y_pred_test, y_true=y_test)\n",
        "metrics.loc['f1_score','BernoulliNB'] = f1_score(y_pred=y_pred_test, y_true=y_test)\n",
        "metrics.loc['precision','BernoulliNB'] = precision_score(y_pred=y_pred_test, y_true=y_test)\n",
        "metrics.loc['recall','BernoulliNB'] = recall_score(y_pred=y_pred_test, y_true=y_test)\n",
        "metrics.loc['roc_auc_score','BernoulliNB'] = roc_auc_score(y_pred_test, y_test)\n",
        "metrics.loc['Tiempo de ejecución','BernoulliNB'] = (time.time() - start_time)"
      ],
      "execution_count": null,
      "outputs": []
    },
    {
      "cell_type": "code",
      "metadata": {
        "id": "vqpuYDtQQCS4",
        "colab": {
          "base_uri": "https://localhost:8080/",
          "height": 311
        },
        "outputId": "26402fb9-2294-488f-a582-0127a910d7e2"
      },
      "source": [
        "#Reporte de Matriz de Confusión Modelo BernoulliNB\n",
        "CM_BernoulliNB = confusion_matrix(y_pred=y_pred_test, y_true=y_test)\n",
        "plot = (plot_confusion_matrix(CM_BernoulliNB))"
      ],
      "execution_count": null,
      "outputs": [
        {
          "output_type": "display_data",
          "data": {
            "image/png": "[encoded data removed]",
            "text/plain": [
              "<Figure size 432x288 with 2 Axes>"
            ]
          },
          "metadata": {
            "tags": [],
            "needs_background": "light"
          }
        }
      ]
    },
    {
      "cell_type": "code",
      "metadata": {
        "id": "vaGQmVB0QJFf"
      },
      "source": [
        "# Se importa la libreria de modelo correspondiente\n",
        "from sklearn.naive_bayes import GaussianNB\n",
        "\n",
        "# Se crean los parametros correspondientes al modelo, esto con el objetivo de optimizarlos por medio de la librería GridSearchCV\n",
        "parameters = [{'var_smoothing':np.logspace(0,-9, num=100)}]\n",
        "\n",
        "# Se ejecuta la librería GridSearchCV, cv hace referencia al metodo de validación cruzada en este caso K-Folds=4 divide los datos \n",
        "# en 4 de secciones de prueba los cuales no se mezclan de forma predeterminada\n",
        "gaussian = GridSearchCV(\n",
        "    GaussianNB(),\n",
        "    parameters,\n",
        "    cv=4\n",
        ")\n",
        "# Entrenamiento del modelo y selección de la combinación óptima de parámetros\n",
        "gaussian.fit(X_train, y_train)\n",
        "y_pred_test = gnb.predict(X_test)\n",
        "# Evaluación para matriz de confusión\n",
        "y_test = np.asarray(y_test)\n",
        "y_pred_test = np.asarray(y_pred_test)\n",
        "# Calculo del tiempo en ejecución y definición de metricas\n",
        "start_time = time.time()\n",
        "metrics.loc['accuracy','GaussianNB'] = accuracy_score(y_pred=y_pred_test, y_true=y_test)\n",
        "metrics.loc['f1_score','GaussianNB'] = f1_score(y_pred=y_pred_test, y_true=y_test)\n",
        "metrics.loc['precision','GaussianNB'] = precision_score(y_pred=y_pred_test, y_true=y_test)\n",
        "metrics.loc['recall','GaussianNB'] = recall_score(y_pred=y_pred_test, y_true=y_test)\n",
        "metrics.loc['roc_auc_score','GaussianNB'] = roc_auc_score(y_pred_test, y_test)\n",
        "metrics.loc['Tiempo de ejecución','GaussianNB'] = (time.time() - start_time)"
      ],
      "execution_count": null,
      "outputs": []
    },
    {
      "cell_type": "code",
      "metadata": {
        "id": "wLRsXQvGQR5J",
        "colab": {
          "base_uri": "https://localhost:8080/",
          "height": 311
        },
        "outputId": "da55a949-15be-4eb1-ca4e-4c254ca8f97d"
      },
      "source": [
        "#Reporte de Matriz de Confusión Modelo GaussianNB\n",
        "CM_GaussianNB = confusion_matrix(y_pred=y_pred_test, y_true=y_test)\n",
        "plot = (plot_confusion_matrix(CM_GaussianNB))"
      ],
      "execution_count": null,
      "outputs": [
        {
          "output_type": "display_data",
          "data": {
            "image/png": "[encoded data removed]",
            "text/plain": [
              "<Figure size 432x288 with 2 Axes>"
            ]
          },
          "metadata": {
            "tags": [],
            "needs_background": "light"
          }
        }
      ]
    },
    {
      "cell_type": "markdown",
      "metadata": {
        "id": "f5345_WcVP4C"
      },
      "source": [
        "### Regresión Logística"
      ]
    },
    {
      "cell_type": "code",
      "metadata": {
        "id": "9pI0-2p4V-ca"
      },
      "source": [
        "# Se importa la libreria de modelo correspondiente\n",
        "from sklearn.linear_model import LogisticRegression\n",
        "\n",
        "# Se crean los parametros correspondientes al modelo, esto con el objetivo de optimizarlos por medio de la librería GridSearchCV\n",
        "parameters = [{'penalty': [\"none\",\"l1\", \"l2\", \"elasticnet\"],\n",
        "               'C': [0.0], \n",
        "               'solver': [ \"lbfgs\", \"sag\", \"saga\"],\n",
        "               'class_weight': ['None', 'dict', 'balanced'],\n",
        "               'random_state': [123],\n",
        "               'warm_start': [\"True\"],\n",
        "               'n_jobs': [-1]}]\n",
        "\n",
        "# Se ejecuta la librería GridSearchCV\n",
        "logisticRegression = GridSearchCV(\n",
        "    LogisticRegression(),\n",
        "    parameters,\n",
        "    cv = 4\n",
        ")\n",
        "\n",
        "# Entrenamiento del modelo y selección de la combinación óptima de parámetros\n",
        "logisticRegression.fit(X_train, y_train)\n",
        "y_pred_test = logisticRegression.predict(X_test)\n",
        "#\n",
        "# Evaluación\n",
        "#\n",
        "y_test = np.asarray(y_test)\n",
        "y_pred_test = np.asarray(y_pred_test)\n",
        "\n",
        "# Calculo del tiempo en ejecución y definición de metricas\n",
        "start_time = time.time()\n",
        "metrics.loc['accuracy','LogisticRegresion'] = accuracy_score(y_pred=y_pred_test, y_true=y_test)\n",
        "metrics.loc['f1_score','LogisticRegresion'] = f1_score(y_pred=y_pred_test, y_true=y_test)\n",
        "metrics.loc['precision','LogisticRegresion'] = precision_score(y_pred=y_pred_test, y_true=y_test)\n",
        "metrics.loc['recall','LogisticRegresion'] = recall_score(y_pred=y_pred_test, y_true=y_test)\n",
        "metrics.loc['roc_auc_score','LogisticRegresion'] = roc_auc_score(y_pred_test, y_test)\n",
        "metrics.loc['Tiempo de ejecución','LogisticRegresion'] = (time.time() - start_time)"
      ],
      "execution_count": null,
      "outputs": []
    },
    {
      "cell_type": "code",
      "metadata": {
        "id": "D8JK1V1KRAmA",
        "colab": {
          "base_uri": "https://localhost:8080/",
          "height": 311
        },
        "outputId": "f3590cf7-eb66-44ff-decd-1db7efd33a57"
      },
      "source": [
        "#Reporte de Matriz de Confusión Modelo LogisticRegresion\n",
        "CM_LogisticRegresion = confusion_matrix(y_pred=y_pred_test, y_true=y_test)\n",
        "plot = (plot_confusion_matrix(CM_LogisticRegresion))"
      ],
      "execution_count": null,
      "outputs": [
        {
          "output_type": "display_data",
          "data": {
            "image/png": "[encoded data removed]",
            "text/plain": [
              "<Figure size 432x288 with 2 Axes>"
            ]
          },
          "metadata": {
            "tags": [],
            "needs_background": "light"
          }
        }
      ]
    },
    {
      "cell_type": "markdown",
      "metadata": {
        "id": "karAsXx8jAC5"
      },
      "source": [
        "### kNN"
      ]
    },
    {
      "cell_type": "code",
      "metadata": {
        "id": "Tv96K4AgkSgY"
      },
      "source": [
        "# Se importa la libreria de modelo correspondiente\n",
        "from sklearn.neighbors import KNeighborsClassifier\n",
        "\n",
        "#\n",
        "# Se crean los parametros correspondientes al modelo, esto con el objetivo de optimizarlos por medio de la librería GridSearchCV\n",
        "parameters = [{'n_neighbors':[9,10,11],\n",
        "               'weights': [\"uniform\",\"distance\"],\n",
        "               'n_jobs': [-1]}]\n",
        "\n",
        "# Se ejecuta la librería GridSearchCV\n",
        "knn = GridSearchCV(\n",
        "    KNeighborsClassifier(),\n",
        "    parameters,\n",
        "    cv=4\n",
        ")\n",
        "\n",
        "# Entrenamiento del modelo y selección de la combinación óptima de parámetros\n",
        "knn.fit(X_train, y_train)\n",
        "y_pred_test = knn.predict(X_test)\n",
        "\n",
        "# Evaluación para matriz de confusión\n",
        "y_test = np.asarray(y_test)\n",
        "y_pred_test = np.asarray(y_pred_test)\n",
        "\n",
        "\n",
        "# Calculo del tiempo en ejecución y definición de metricas\n",
        "start_time = time.time()\n",
        "metrics.loc['accuracy','kNN'] = accuracy_score(y_pred=y_pred_test, y_true=y_test)\n",
        "metrics.loc['f1_score','kNN'] = f1_score(y_pred=y_pred_test, y_true=y_test)\n",
        "metrics.loc['precision','kNN'] = precision_score(y_pred=y_pred_test, y_true=y_test)\n",
        "metrics.loc['recall','kNN'] = recall_score(y_pred=y_pred_test, y_true=y_test)\n",
        "metrics.loc['roc_auc_score','kNN'] = roc_auc_score(y_pred_test, y_test)\n",
        "metrics.loc['Tiempo de ejecución','kNN'] = (time.time() - start_time)"
      ],
      "execution_count": null,
      "outputs": []
    },
    {
      "cell_type": "code",
      "metadata": {
        "id": "nS3OTWTISarU",
        "colab": {
          "base_uri": "https://localhost:8080/",
          "height": 311
        },
        "outputId": "4ec0e0f6-e4bb-4fa3-e78a-58df64abf2c1"
      },
      "source": [
        "#Reporte de Matriz de Confusión Modelo kNN\n",
        "CM_kNN = confusion_matrix(y_pred=y_pred_test, y_true=y_test)\n",
        "plot = (plot_confusion_matrix(CM_kNN))"
      ],
      "execution_count": null,
      "outputs": [
        {
          "output_type": "display_data",
          "data": {
            "image/png": "[encoded data removed]",
            "text/plain": [
              "<Figure size 432x288 with 2 Axes>"
            ]
          },
          "metadata": {
            "tags": [],
            "needs_background": "light"
          }
        }
      ]
    },
    {
      "cell_type": "markdown",
      "metadata": {
        "id": "6TIY_Q58pdES"
      },
      "source": [
        "###DecisionTreeClassifier"
      ]
    },
    {
      "cell_type": "code",
      "metadata": {
        "id": "UIggfZqXSnyA"
      },
      "source": [
        "# Se importa la libreria de modelo correspondiente\n",
        "from sklearn.tree import DecisionTreeClassifier\n",
        "\n",
        "# Se crean los parametros correspondientes al modelo, esto con el objetivo de optimizarlos por medio de la librería GridSearchCV\n",
        "parameters = [{'max_depth': np.arange(3, 10),\n",
        "             'criterion' : ['gini'],\n",
        "             'max_leaf_nodes': [5,10,20,100],\n",
        "             'min_samples_split': [2, 5, 10, 20]}]\n",
        "\n",
        "\n",
        "# # Se ejecuta la librería GridSearchCV\n",
        "decisiontree = GridSearchCV(\n",
        "    DecisionTreeClassifier(),\n",
        "    parameters,\n",
        "    cv=4\n",
        ")\n",
        "\n",
        "# Entrenamiento del modelo y selección de la combinación óptima de parámetros\n",
        "decisiontree.fit(X_train, y_train)\n",
        "y_pred_test = decisiontree.predict(X_test)\n",
        "\n",
        "# Evaluación para matriz de confusión\n",
        "y_test = np.asarray(y_test)\n",
        "y_pred_test = np.asarray(y_pred_test)\n",
        "\n",
        "# Calculo del tiempo en ejecución y definición de metricas\n",
        "start_time = time.time()\n",
        "metrics.loc['accuracy','DecisionTree'] = accuracy_score(y_pred=y_pred_test, y_true=y_test)\n",
        "metrics.loc['f1_score','DecisionTree'] = f1_score(y_pred=y_pred_test, y_true=y_test)\n",
        "metrics.loc['precision','DecisionTree'] = precision_score(y_pred=y_pred_test, y_true=y_test)\n",
        "metrics.loc['recall','DecisionTree'] = recall_score(y_pred=y_pred_test, y_true=y_test)\n",
        "metrics.loc['roc_auc_score','DecisionTree'] = roc_auc_score(y_pred_test, y_test)\n",
        "metrics.loc['Tiempo de ejecución','DecisionTree'] = (time.time() - start_time)"
      ],
      "execution_count": null,
      "outputs": []
    },
    {
      "cell_type": "code",
      "metadata": {
        "id": "ocXa6eBASr_H",
        "colab": {
          "base_uri": "https://localhost:8080/",
          "height": 311
        },
        "outputId": "5d538c04-f48f-4810-88b3-1f42c7a8c2d2"
      },
      "source": [
        "#Reporte de Matriz de Confusión Modelo DecisionTree\n",
        "CM_DecisionTree = confusion_matrix(y_pred=y_pred_test, y_true=y_test)\n",
        "plot = (plot_confusion_matrix(CM_DecisionTree))"
      ],
      "execution_count": null,
      "outputs": [
        {
          "output_type": "display_data",
          "data": {
            "image/png": "[encoded data removed]",
            "text/plain": [
              "<Figure size 432x288 with 2 Axes>"
            ]
          },
          "metadata": {
            "tags": [],
            "needs_background": "light"
          }
        }
      ]
    },
    {
      "cell_type": "markdown",
      "metadata": {
        "id": "SrFAtYv0t0mJ"
      },
      "source": [
        "### Ensambles de Modelos"
      ]
    },
    {
      "cell_type": "code",
      "metadata": {
        "id": "VlbeDnqwtzQT"
      },
      "source": [
        "# Se importa la libreria de modelo correspondiente\n",
        "from sklearn.ensemble import AdaBoostClassifier\n",
        "\n",
        "# Se crean los parametros correspondientes al modelo, esto con el objetivo de optimizarlos por medio de la librería GridSearchCV\n",
        "parameters = [{'n_estimators':[50,60,70,80]}]\n",
        "\n",
        "# Se ejecuta la librería GridSearchCV\n",
        "\n",
        "AdaBoost =  GridSearchCV(\n",
        "    AdaBoostClassifier(),\n",
        "    parameters,\n",
        "    cv=4\n",
        ")\n",
        "\n",
        "# AdaBoostClassifier(n_estimators=10)\n",
        "\n",
        "# Entrenamiento del modelo y selección de la combinación óptima de parámetros\n",
        "AdaBoost.fit(X_train, y_train)\n",
        "y_pred_test = AdaBoost.predict(X_test)\n",
        "\n",
        "# Evaluación para matriz de confusión\n",
        "y_test = np.asarray(y_test)\n",
        "y_pred_test = np.asarray(y_pred_test)\n",
        "\n",
        "# Calculo del tiempo en ejecución y definición de metricas\n",
        "start_time = time.time()\n",
        "metrics.loc['accuracy','AdaBoost'] = accuracy_score(y_pred=y_pred_test, y_true=y_test)\n",
        "metrics.loc['f1_score','AdaBoost'] = f1_score(y_pred=y_pred_test, y_true=y_test)\n",
        "metrics.loc['precision','AdaBoost'] = precision_score(y_pred=y_pred_test, y_true=y_test)\n",
        "metrics.loc['recall','AdaBoost'] = recall_score(y_pred=y_pred_test, y_true=y_test)\n",
        "metrics.loc['roc_auc_score','AdaBoost'] = roc_auc_score(y_pred_test, y_test)\n",
        "metrics.loc['Tiempo de ejecución','AdaBoost'] = (time.time() - start_time)"
      ],
      "execution_count": null,
      "outputs": []
    },
    {
      "cell_type": "code",
      "metadata": {
        "id": "JEmwPJH8TpEc",
        "colab": {
          "base_uri": "https://localhost:8080/",
          "height": 311
        },
        "outputId": "f76321a1-2596-4fb9-f69e-cd0415e0e549"
      },
      "source": [
        "#Reporte de Matriz de Confusión Modelo AdaBoost\n",
        "CM_AdaBoost = confusion_matrix(y_pred=y_pred_test, y_true=y_test)\n",
        "plot = (plot_confusion_matrix(CM_AdaBoost))"
      ],
      "execution_count": null,
      "outputs": [
        {
          "output_type": "display_data",
          "data": {
            "image/png": "[encoded data removed]",
            "text/plain": [
              "<Figure size 432x288 with 2 Axes>"
            ]
          },
          "metadata": {
            "tags": [],
            "needs_background": "light"
          }
        }
      ]
    },
    {
      "cell_type": "code",
      "metadata": {
        "id": "ysTDHgoitBX2"
      },
      "source": [
        "# Se importa la libreria de modelo correspondiente\n",
        "from sklearn.ensemble import RandomForestClassifier\n",
        "\n",
        "# Se crean los parametros correspondientes al modelo, esto con el objetivo de optimizarlos por medio de la librería GridSearchCV\n",
        "parameters = [{'max_depth': [6,7,8],\n",
        "             'criterion' : ['gini'],\n",
        "             'n_estimators':[120,140]}]\n",
        "\n",
        "\n",
        "# Se ejecuta la librería GridSearchCV\n",
        "RandomForest = GridSearchCV(\n",
        "    RandomForestClassifier(),\n",
        "    parameters,\n",
        "    cv=4\n",
        ")\n",
        "\n",
        "# Entrenamiento del modelo y selección de la combinación óptima de parámetros\n",
        "RandomForest.fit(X_train, y_train)\n",
        "y_pred_test = RandomForest.predict(X_test)\n",
        "\n",
        "# Evaluación para matriz de confusión\n",
        "y_test = np.asarray(y_test)\n",
        "y_pred_test = np.asarray(y_pred_test)\n",
        "\n",
        "# Calculo del tiempo en ejecución y definición de metricas\n",
        "start_time = time.time()\n",
        "metrics.loc['accuracy','RandomForest'] = accuracy_score(y_pred=y_pred_test, y_true=y_test)\n",
        "metrics.loc['f1_score','RandomForest'] = f1_score(y_pred=y_pred_test, y_true=y_test)\n",
        "metrics.loc['precision','RandomForest'] = precision_score(y_pred=y_pred_test, y_true=y_test)\n",
        "metrics.loc['recall','RandomForest'] = recall_score(y_pred=y_pred_test, y_true=y_test)\n",
        "metrics.loc['roc_auc_score','RandomForest'] = roc_auc_score(y_pred_test, y_test)\n",
        "metrics.loc['Tiempo de ejecución','RandomForest'] = (time.time() - start_time)"
      ],
      "execution_count": null,
      "outputs": []
    },
    {
      "cell_type": "code",
      "metadata": {
        "id": "MiexzZlmUPz4",
        "colab": {
          "base_uri": "https://localhost:8080/",
          "height": 311
        },
        "outputId": "d5129307-88c4-4926-cf85-53bd5f57bb4a"
      },
      "source": [
        "#Reporte de Matriz de Confusión Modelo RandomForest\n",
        "CM_RandomForest = confusion_matrix(y_pred=y_pred_test, y_true=y_test)\n",
        "plot = (plot_confusion_matrix(CM_RandomForest))"
      ],
      "execution_count": null,
      "outputs": [
        {
          "output_type": "display_data",
          "data": {
            "image/png": "[encoded data removed]",
            "text/plain": [
              "<Figure size 432x288 with 2 Axes>"
            ]
          },
          "metadata": {
            "tags": [],
            "needs_background": "light"
          }
        }
      ]
    },
    {
      "cell_type": "code",
      "metadata": {
        "id": "C_TTPYzcvfnA"
      },
      "source": [
        "# Se importa la libreria de modelo correspondiente\n",
        "from sklearn.ensemble import GradientBoostingClassifier\n",
        "\n",
        "# Se crean los parametros correspondientes al modelo, esto con el objetivo de optimizarlos por medio de la librería GridSearchCV\n",
        "parameters = [{}]\n",
        "\n",
        "# Se ejecuta la librería GridSearchCV\n",
        "GradientBoosting = GridSearchCV(\n",
        "    GradientBoostingClassifier(),\n",
        "    parameters,\n",
        "    cv=4\n",
        ")\n",
        "\n",
        "# Entrenamiento del modelo y selección de la combinación óptima de parámetros\n",
        "GradientBoosting.fit(X_train, y_train)\n",
        "y_pred_test = GradientBoosting.predict(X_test)\n",
        "\n",
        "# Evaluación para matriz de confusión\n",
        "y_test = np.asarray(y_test)\n",
        "y_pred_test = np.asarray(y_pred_test)\n",
        "\n",
        "# Calculo del tiempo en ejecución y definición de metricas\n",
        "start_time = time.time()\n",
        "metrics.loc['accuracy','GradientBoosting'] = accuracy_score(y_pred=y_pred_test, y_true=y_test)\n",
        "metrics.loc['f1_score','GradientBoosting'] = f1_score(y_pred=y_pred_test, y_true=y_test)\n",
        "metrics.loc['precision','GradientBoosting'] = precision_score(y_pred=y_pred_test, y_true=y_test)\n",
        "metrics.loc['recall','GradientBoosting'] = recall_score(y_pred=y_pred_test, y_true=y_test)\n",
        "metrics.loc['roc_auc_score','GradientBoosting'] = roc_auc_score(y_pred_test, y_test)\n",
        "metrics.loc['Tiempo de ejecución','GradientBoosting'] = (time.time() - start_time)"
      ],
      "execution_count": null,
      "outputs": []
    },
    {
      "cell_type": "code",
      "metadata": {
        "id": "EH7pgThrVEBv",
        "colab": {
          "base_uri": "https://localhost:8080/",
          "height": 311
        },
        "outputId": "e4a01f58-31c6-429a-ab32-e5f53c29f0df"
      },
      "source": [
        "#Reporte de Matriz de Confusión Modelo GradientBoosting\n",
        "CM_GradientBoosting = confusion_matrix(y_pred=y_pred_test, y_true=y_test)\n",
        "\n",
        "\n",
        "plot = (plot_confusion_matrix(CM_GradientBoosting))"
      ],
      "execution_count": null,
      "outputs": [
        {
          "output_type": "display_data",
          "data": {
            "image/png": "[encoded data removed]",
            "text/plain": [
              "<Figure size 432x288 with 2 Axes>"
            ]
          },
          "metadata": {
            "tags": [],
            "needs_background": "light"
          }
        }
      ]
    },
    {
      "cell_type": "markdown",
      "metadata": {
        "id": "3kc_RIOLyDHC"
      },
      "source": [
        "### Redes Neuronales"
      ]
    },
    {
      "cell_type": "code",
      "metadata": {
        "id": "k8qyrcMOwz1q"
      },
      "source": [
        "# Se importa la libreria de modelo correspondiente\n",
        "from sklearn.neural_network import MLPClassifier\n",
        "\n",
        "# # Se crean los parametros correspondientes al modelo, esto con el objetivo de optimizarlos por medio de la librería GridSearchCV\n",
        "parameters = [{'hidden_layer_sizes': [(10,)],\n",
        "               'activation': ['logistic'],\n",
        "               'solver': ['sgd'],\n",
        "               'alpha': [0.0],\n",
        "               'verbose': [False],\n",
        "               'shuffle': [True],\n",
        "               'tol': [1e-4],\n",
        "               'max_iter': [20000],\n",
        "               'momentum': [0.9],\n",
        "               'learning_rate': ['adaptive'],\n",
        "               'learning_rate_init': [0.1],\n",
        "               'nesterovs_momentum': [False]}]\n",
        "\n",
        "# Se ejecuta la librería GridSearchCV\n",
        "RedesNeuronales = GridSearchCV(\n",
        "    MLPClassifier(),\n",
        "    parameters,\n",
        "    cv=4\n",
        ")\n",
        "\n",
        "#\n",
        "# El parámetro hidden_layer_sizes recibe una tupla que\n",
        "# indica la cantidad de neuronas de cada capa oculta. En\n",
        "# el caso presentado, el valor (6,) indica que hay una sola\n",
        "# capa oculta con 6 neuronas que usan la función sigmoidea.\n",
        "# El parámetro solver = 'sgd' indica que se usará el\n",
        "# algoritmo de gradiente descendente estocástico para entrenar\n",
        "# la red neuronal.\n",
        "#\n",
        "\n",
        "# Entrenamiento del modelo y selección de la combinación óptima de parámetros\n",
        "RedesNeuronales.fit(X_train, y_train)\n",
        "y_pred_test = RedesNeuronales.predict(X_test)\n",
        "\n",
        "# Evaluación para matriz de confusión\n",
        "y_test = np.asarray(y_test)\n",
        "y_pred_test = np.asarray(y_pred_test)\n",
        "\n",
        "# Calculo del tiempo en ejecución y definición de metricas\n",
        "start_time = time.time()\n",
        "metrics.loc['accuracy','RedesNeuronales'] = accuracy_score(y_true=y_test, y_pred=y_pred_test)\n",
        "metrics.loc['f1_score','RedesNeuronales'] = f1_score(y_pred=y_pred_test, y_true=y_test)\n",
        "metrics.loc['precision','RedesNeuronales'] = precision_score(y_pred=y_pred_test, y_true=y_test)\n",
        "metrics.loc['recall','RedesNeuronales'] = recall_score(y_pred=y_pred_test, y_true=y_test)\n",
        "metrics.loc['roc_auc_score','RedesNeuronales'] = roc_auc_score(y_pred_test, y_test)\n",
        "metrics.loc['Tiempo de ejecución','RedesNeuronales'] = (time.time() - start_time)"
      ],
      "execution_count": null,
      "outputs": []
    },
    {
      "cell_type": "code",
      "metadata": {
        "id": "u-YozzVrVire",
        "colab": {
          "base_uri": "https://localhost:8080/",
          "height": 311
        },
        "outputId": "66cfa090-e4a4-42fc-8017-16bb968d2e44"
      },
      "source": [
        "#Reporte de Matriz de Confusión Modelo RedesNeuronales\n",
        "CM_RedesNeuronales = confusion_matrix(y_pred=y_pred_test, y_true=y_test)\n",
        "plot = (plot_confusion_matrix(CM_RedesNeuronales))"
      ],
      "execution_count": null,
      "outputs": [
        {
          "output_type": "display_data",
          "data": {
            "image/png": "[encoded data removed]",
            "text/plain": [
              "<Figure size 432x288 with 2 Axes>"
            ]
          },
          "metadata": {
            "tags": [],
            "needs_background": "light"
          }
        }
      ]
    },
    {
      "cell_type": "markdown",
      "metadata": {
        "id": "vSKIKRvRyvnr"
      },
      "source": [
        "### SVC"
      ]
    },
    {
      "cell_type": "code",
      "metadata": {
        "id": "AloB6aaNyN_7"
      },
      "source": [
        "# Se importa la libreria de modelo correspondiente\n",
        "from sklearn.svm import SVC\n",
        "\n",
        "# Se crean los parametros correspondientes al modelo, esto con el objetivo de optimizarlos por medio de la librería GridSearchCV\n",
        "parameters = [{'C':np.linspace(0.0,1,3),\n",
        "               'kernel': [\"sigmoid\"],\n",
        "               'gamma': [\"scale\"]}]\n",
        "# Se ejecuta la librería GridSearchCV\n",
        "\n",
        "svc = GridSearchCV(\n",
        "    SVC(),\n",
        "    parameters,\n",
        "    cv=4\n",
        ")\n",
        "\n",
        "# Entrenamiento del modelo y selección de la combinación óptima de parámetros\n",
        "svc.fit(X_train, y_train)\n",
        "y_pred_test = svc.predict(X_test)\n",
        "\n",
        "# Evaluación para matriz de confusión\n",
        "y_test = np.asarray(y_test)\n",
        "y_pred_test = np.asarray(y_pred_test)\n",
        "\n",
        "# Calculo del tiempo en ejecución y definición de metricas\n",
        "start_time = time.time()\n",
        "metrics.loc['accuracy','SVMs'] = accuracy_score(y_true=y_test, y_pred=y_pred_test)\n",
        "metrics.loc['f1_score','SVMs'] = f1_score(y_pred=y_pred_test, y_true=y_test)\n",
        "metrics.loc['precision','SVMs'] = precision_score(y_pred=y_pred_test, y_true=y_test)\n",
        "metrics.loc['recall','SVMs'] = recall_score(y_pred=y_pred_test, y_true=y_test)\n",
        "metrics.loc['roc_auc_score','SVMs'] = roc_auc_score(y_pred_test, y_test)\n",
        "metrics.loc['Tiempo de ejecución','SVMs'] = (time.time() - start_time)"
      ],
      "execution_count": null,
      "outputs": []
    },
    {
      "cell_type": "code",
      "metadata": {
        "id": "1jxPwDQOVt-a",
        "colab": {
          "base_uri": "https://localhost:8080/",
          "height": 311
        },
        "outputId": "f07841e5-4065-47c9-a1a1-543629be16d0"
      },
      "source": [
        "#Reporte de Matriz de Confusión Modelo SVM\n",
        "CM_SVM = confusion_matrix(y_pred=y_pred_test, y_true=y_test)\n",
        "plot = (plot_confusion_matrix(CM_SVM))"
      ],
      "execution_count": null,
      "outputs": [
        {
          "output_type": "display_data",
          "data": {
            "image/png": "[encoded data removed]",
            "text/plain": [
              "<Figure size 432x288 with 2 Axes>"
            ]
          },
          "metadata": {
            "tags": [],
            "needs_background": "light"
          }
        }
      ]
    },
    {
      "cell_type": "markdown",
      "metadata": {
        "id": "YdIWGDMxVzZ7"
      },
      "source": [
        "## Resultado de Modelos"
      ]
    },
    {
      "cell_type": "code",
      "metadata": {
        "id": "qGRG2xbTVzIH",
        "colab": {
          "base_uri": "https://localhost:8080/",
          "height": 272
        },
        "outputId": "fd23f7dc-ca56-40a8-8ea8-b7bedf031d03"
      },
      "source": [
        "metrics"
      ],
      "execution_count": null,
      "outputs": [
        {
          "output_type": "execute_result",
          "data": {
            "text/html": [
              "<div>\n",
              "<style scoped>\n",
              "    .dataframe tbody tr th:only-of-type {\n",
              "        vertical-align: middle;\n",
              "    }\n",
              "\n",
              "    .dataframe tbody tr th {\n",
              "        vertical-align: top;\n",
              "    }\n",
              "\n",
              "    .dataframe thead th {\n",
              "        text-align: right;\n",
              "    }\n",
              "</style>\n",
              "<table border=\"1\" class=\"dataframe\">\n",
              "  <thead>\n",
              "    <tr style=\"text-align: right;\">\n",
              "      <th></th>\n",
              "      <th>BernoulliNB</th>\n",
              "      <th>GaussianNB</th>\n",
              "      <th>LogisticRegresion</th>\n",
              "      <th>kNN</th>\n",
              "      <th>DecisionTree</th>\n",
              "      <th>AdaBoost</th>\n",
              "      <th>RandomForest</th>\n",
              "      <th>GradientBoosting</th>\n",
              "      <th>RedesNeuronales</th>\n",
              "      <th>SVMs</th>\n",
              "    </tr>\n",
              "  </thead>\n",
              "  <tbody>\n",
              "    <tr>\n",
              "      <th>accuracy</th>\n",
              "      <td>0.83211</td>\n",
              "      <td>0.83211</td>\n",
              "      <td>0.881651</td>\n",
              "      <td>0.894495</td>\n",
              "      <td>0.885321</td>\n",
              "      <td>0.899083</td>\n",
              "      <td>0.899083</td>\n",
              "      <td>0.909174</td>\n",
              "      <td>0.895413</td>\n",
              "      <td>0.774312</td>\n",
              "    </tr>\n",
              "    <tr>\n",
              "      <th>f1_score</th>\n",
              "      <td>0.392027</td>\n",
              "      <td>0.392027</td>\n",
              "      <td>0.628242</td>\n",
              "      <td>0.683196</td>\n",
              "      <td>0.661247</td>\n",
              "      <td>0.707447</td>\n",
              "      <td>0.710526</td>\n",
              "      <td>0.738786</td>\n",
              "      <td>0.703125</td>\n",
              "      <td>0.443439</td>\n",
              "    </tr>\n",
              "    <tr>\n",
              "      <th>precision</th>\n",
              "      <td>0.634409</td>\n",
              "      <td>0.634409</td>\n",
              "      <td>0.784173</td>\n",
              "      <td>0.8</td>\n",
              "      <td>0.757764</td>\n",
              "      <td>0.791667</td>\n",
              "      <td>0.784884</td>\n",
              "      <td>0.818713</td>\n",
              "      <td>0.767045</td>\n",
              "      <td>0.418803</td>\n",
              "    </tr>\n",
              "    <tr>\n",
              "      <th>recall</th>\n",
              "      <td>0.283654</td>\n",
              "      <td>0.283654</td>\n",
              "      <td>0.524038</td>\n",
              "      <td>0.596154</td>\n",
              "      <td>0.586538</td>\n",
              "      <td>0.639423</td>\n",
              "      <td>0.649038</td>\n",
              "      <td>0.673077</td>\n",
              "      <td>0.649038</td>\n",
              "      <td>0.471154</td>\n",
              "    </tr>\n",
              "    <tr>\n",
              "      <th>roc_auc_score</th>\n",
              "      <td>0.74248</td>\n",
              "      <td>0.74248</td>\n",
              "      <td>0.840036</td>\n",
              "      <td>0.85508</td>\n",
              "      <td>0.832596</td>\n",
              "      <td>0.855161</td>\n",
              "      <td>0.852682</td>\n",
              "      <td>0.87236</td>\n",
              "      <td>0.843588</td>\n",
              "      <td>0.645149</td>\n",
              "    </tr>\n",
              "    <tr>\n",
              "      <th>Tiempo de ejecución</th>\n",
              "      <td>0.00591207</td>\n",
              "      <td>0.00553966</td>\n",
              "      <td>0.0129368</td>\n",
              "      <td>0.00636172</td>\n",
              "      <td>0.00588441</td>\n",
              "      <td>0.00610566</td>\n",
              "      <td>0.0056591</td>\n",
              "      <td>0.00592899</td>\n",
              "      <td>0.00791144</td>\n",
              "      <td>0.00612092</td>\n",
              "    </tr>\n",
              "  </tbody>\n",
              "</table>\n",
              "</div>"
            ],
            "text/plain": [
              "                    BernoulliNB  GaussianNB  ... RedesNeuronales        SVMs\n",
              "accuracy                0.83211     0.83211  ...        0.895413    0.774312\n",
              "f1_score               0.392027    0.392027  ...        0.703125    0.443439\n",
              "precision              0.634409    0.634409  ...        0.767045    0.418803\n",
              "recall                 0.283654    0.283654  ...        0.649038    0.471154\n",
              "roc_auc_score           0.74248     0.74248  ...        0.843588    0.645149\n",
              "Tiempo de ejecución  0.00591207  0.00553966  ...      0.00791144  0.00612092\n",
              "\n",
              "[6 rows x 10 columns]"
            ]
          },
          "metadata": {
            "tags": []
          },
          "execution_count": 47
        }
      ]
    },
    {
      "cell_type": "code",
      "metadata": {
        "colab": {
          "base_uri": "https://localhost:8080/",
          "height": 589
        },
        "id": "M9RRdNOrrMhx",
        "outputId": "19572d4d-c5f4-4700-a180-aa80d287c6e0"
      },
      "source": [
        "fig, ax = plt.subplots(figsize = (16, 12))\n",
        "metrics.plot(kind='barh', ax=ax)\n",
        "ax.grid();"
      ],
      "execution_count": null,
      "outputs": [
        {
          "output_type": "display_data",
          "data": {
            "image/png": "[encoded data removed]",
            "text/plain": [
              "<Figure size 1152x864 with 1 Axes>"
            ]
          },
          "metadata": {
            "tags": [],
            "needs_background": "light"
          }
        }
      ]
    },
    {
      "cell_type": "markdown",
      "metadata": {
        "id": "lCwefAskVomX"
      },
      "source": [
        "# Prueba Inputs\n",
        "# Inputs"
      ]
    },
    {
      "cell_type": "code",
      "metadata": {
        "id": "I9I6jdH_YeE1",
        "colab": {
          "base_uri": "https://localhost:8080/",
          "height": 374
        },
        "outputId": "c3b519d7-7250-4d29-d7b7-df29aabb8ad7"
      },
      "source": [
        "# Prueba de todos los Modelos con un quick_inputs \n",
        "\n",
        "Xnew = [[20000,2,2,1,24,2,2,-1,-1,-2,-2,3913,3102,689,0,0,0,0,689,0,0,0,0]]\n",
        "ynew_BernoulliNB = gnb.predict(Xnew)\n",
        "ynew_GaussianNB = gaussian.predict(Xnew)\n",
        "ynew_LogisticRegresion = logisticRegression.predict(Xnew)\n",
        "ynew_kNN = knn.predict(Xnew)\n",
        "ynew_DecisionTree = decisiontree.predict(Xnew)\n",
        "ynew_AdaBoost = AdaBoost.predict(Xnew)\n",
        "ynew_RandomForest = RandomForest.predict(Xnew)\n",
        "ynew_GradientBoosting = GradientBoosting.predict(Xnew)\n",
        "ynew_RedesNeuronales = RedesNeuronales.predict(Xnew)\n",
        "ynew_SVMs = svc.predict(Xnew)\n",
        "\n",
        "print(\"Variables = %s, Predicted = %s\" % (Xnew[0], ynew_BernoulliNB[0]))\n",
        "print(\"Variables = %s, Predicted = %s\" % (Xnew[0], ynew_GaussianNB[0]))\n",
        "print(\"Variables = %s, Predicted = %s\" % (Xnew[0], ynew_LogisticRegresion[0]))\n",
        "print(\"Variables = %s, Predicted = %s\" % (Xnew[0], ynew_DecisionTree[0]))\n",
        "print(\"Variables = %s, Predicted = %s\" % (Xnew[0], ynew_AdaBoost[0]))\n",
        "print(\"Variables = %s, Predicted = %s\" % (Xnew[0], ynew_RandomForest[0]))\n",
        "print(\"Variables = %s, Predicted = %s\" % (Xnew[0], ynew_GradientBoosting[0]))\n",
        "print(\"Variables = %s, Predicted = %s\" % (Xnew[0], ynew_RedesNeuronales[0]))\n",
        "print(\"Variables = %s, Predicted = %s\" % (Xnew[0], ynew_SVMs[0]))"
      ],
      "execution_count": null,
      "outputs": [
        {
          "output_type": "error",
          "ename": "ValueError",
          "evalue": "ignored",
          "traceback": [
            "\u001b[0;31m---------------------------------------------------------------------------\u001b[0m",
            "\u001b[0;31mValueError\u001b[0m                                Traceback (most recent call last)",
            "\u001b[0;32m<ipython-input-49-c9202bb3c6d5>\u001b[0m in \u001b[0;36m<module>\u001b[0;34m()\u001b[0m\n\u001b[1;32m      2\u001b[0m \u001b[0;34m\u001b[0m\u001b[0m\n\u001b[1;32m      3\u001b[0m \u001b[0mXnew\u001b[0m \u001b[0;34m=\u001b[0m \u001b[0;34m[\u001b[0m\u001b[0;34m[\u001b[0m\u001b[0;36m20000\u001b[0m\u001b[0;34m,\u001b[0m\u001b[0;36m2\u001b[0m\u001b[0;34m,\u001b[0m\u001b[0;36m2\u001b[0m\u001b[0;34m,\u001b[0m\u001b[0;36m1\u001b[0m\u001b[0;34m,\u001b[0m\u001b[0;36m24\u001b[0m\u001b[0;34m,\u001b[0m\u001b[0;36m2\u001b[0m\u001b[0;34m,\u001b[0m\u001b[0;36m2\u001b[0m\u001b[0;34m,\u001b[0m\u001b[0;34m-\u001b[0m\u001b[0;36m1\u001b[0m\u001b[0;34m,\u001b[0m\u001b[0;34m-\u001b[0m\u001b[0;36m1\u001b[0m\u001b[0;34m,\u001b[0m\u001b[0;34m-\u001b[0m\u001b[0;36m2\u001b[0m\u001b[0;34m,\u001b[0m\u001b[0;34m-\u001b[0m\u001b[0;36m2\u001b[0m\u001b[0;34m,\u001b[0m\u001b[0;36m3913\u001b[0m\u001b[0;34m,\u001b[0m\u001b[0;36m3102\u001b[0m\u001b[0;34m,\u001b[0m\u001b[0;36m689\u001b[0m\u001b[0;34m,\u001b[0m\u001b[0;36m0\u001b[0m\u001b[0;34m,\u001b[0m\u001b[0;36m0\u001b[0m\u001b[0;34m,\u001b[0m\u001b[0;36m0\u001b[0m\u001b[0;34m,\u001b[0m\u001b[0;36m0\u001b[0m\u001b[0;34m,\u001b[0m\u001b[0;36m689\u001b[0m\u001b[0;34m,\u001b[0m\u001b[0;36m0\u001b[0m\u001b[0;34m,\u001b[0m\u001b[0;36m0\u001b[0m\u001b[0;34m,\u001b[0m\u001b[0;36m0\u001b[0m\u001b[0;34m,\u001b[0m\u001b[0;36m0\u001b[0m\u001b[0;34m]\u001b[0m\u001b[0;34m]\u001b[0m\u001b[0;34m\u001b[0m\u001b[0;34m\u001b[0m\u001b[0m\n\u001b[0;32m----> 4\u001b[0;31m \u001b[0mynew_BernoulliNB\u001b[0m \u001b[0;34m=\u001b[0m \u001b[0mgnb\u001b[0m\u001b[0;34m.\u001b[0m\u001b[0mpredict\u001b[0m\u001b[0;34m(\u001b[0m\u001b[0mXnew\u001b[0m\u001b[0;34m)\u001b[0m\u001b[0;34m\u001b[0m\u001b[0;34m\u001b[0m\u001b[0m\n\u001b[0m\u001b[1;32m      5\u001b[0m \u001b[0mynew_GaussianNB\u001b[0m \u001b[0;34m=\u001b[0m \u001b[0mgaussian\u001b[0m\u001b[0;34m.\u001b[0m\u001b[0mpredict\u001b[0m\u001b[0;34m(\u001b[0m\u001b[0mXnew\u001b[0m\u001b[0;34m)\u001b[0m\u001b[0;34m\u001b[0m\u001b[0;34m\u001b[0m\u001b[0m\n\u001b[1;32m      6\u001b[0m \u001b[0mynew_LogisticRegresion\u001b[0m \u001b[0;34m=\u001b[0m \u001b[0mlogisticRegression\u001b[0m\u001b[0;34m.\u001b[0m\u001b[0mpredict\u001b[0m\u001b[0;34m(\u001b[0m\u001b[0mXnew\u001b[0m\u001b[0;34m)\u001b[0m\u001b[0;34m\u001b[0m\u001b[0;34m\u001b[0m\u001b[0m\n",
            "\u001b[0;32m/usr/local/lib/python3.7/dist-packages/sklearn/utils/metaestimators.py\u001b[0m in \u001b[0;36m<lambda>\u001b[0;34m(*args, **kwargs)\u001b[0m\n\u001b[1;32m    114\u001b[0m \u001b[0;34m\u001b[0m\u001b[0m\n\u001b[1;32m    115\u001b[0m         \u001b[0;31m# lambda, but not partial, allows help() to work with update_wrapper\u001b[0m\u001b[0;34m\u001b[0m\u001b[0;34m\u001b[0m\u001b[0;34m\u001b[0m\u001b[0m\n\u001b[0;32m--> 116\u001b[0;31m         \u001b[0mout\u001b[0m \u001b[0;34m=\u001b[0m \u001b[0;32mlambda\u001b[0m \u001b[0;34m*\u001b[0m\u001b[0margs\u001b[0m\u001b[0;34m,\u001b[0m \u001b[0;34m**\u001b[0m\u001b[0mkwargs\u001b[0m\u001b[0;34m:\u001b[0m \u001b[0mself\u001b[0m\u001b[0;34m.\u001b[0m\u001b[0mfn\u001b[0m\u001b[0;34m(\u001b[0m\u001b[0mobj\u001b[0m\u001b[0;34m,\u001b[0m \u001b[0;34m*\u001b[0m\u001b[0margs\u001b[0m\u001b[0;34m,\u001b[0m \u001b[0;34m**\u001b[0m\u001b[0mkwargs\u001b[0m\u001b[0;34m)\u001b[0m\u001b[0;34m\u001b[0m\u001b[0;34m\u001b[0m\u001b[0m\n\u001b[0m\u001b[1;32m    117\u001b[0m         \u001b[0;31m# update the docstring of the returned function\u001b[0m\u001b[0;34m\u001b[0m\u001b[0;34m\u001b[0m\u001b[0;34m\u001b[0m\u001b[0m\n\u001b[1;32m    118\u001b[0m         \u001b[0mupdate_wrapper\u001b[0m\u001b[0;34m(\u001b[0m\u001b[0mout\u001b[0m\u001b[0;34m,\u001b[0m \u001b[0mself\u001b[0m\u001b[0;34m.\u001b[0m\u001b[0mfn\u001b[0m\u001b[0;34m)\u001b[0m\u001b[0;34m\u001b[0m\u001b[0;34m\u001b[0m\u001b[0m\n",
            "\u001b[0;32m/usr/local/lib/python3.7/dist-packages/sklearn/model_selection/_search.py\u001b[0m in \u001b[0;36mpredict\u001b[0;34m(self, X)\u001b[0m\n\u001b[1;32m    475\u001b[0m         \"\"\"\n\u001b[1;32m    476\u001b[0m         \u001b[0mself\u001b[0m\u001b[0;34m.\u001b[0m\u001b[0m_check_is_fitted\u001b[0m\u001b[0;34m(\u001b[0m\u001b[0;34m'predict'\u001b[0m\u001b[0;34m)\u001b[0m\u001b[0;34m\u001b[0m\u001b[0;34m\u001b[0m\u001b[0m\n\u001b[0;32m--> 477\u001b[0;31m         \u001b[0;32mreturn\u001b[0m \u001b[0mself\u001b[0m\u001b[0;34m.\u001b[0m\u001b[0mbest_estimator_\u001b[0m\u001b[0;34m.\u001b[0m\u001b[0mpredict\u001b[0m\u001b[0;34m(\u001b[0m\u001b[0mX\u001b[0m\u001b[0;34m)\u001b[0m\u001b[0;34m\u001b[0m\u001b[0;34m\u001b[0m\u001b[0m\n\u001b[0m\u001b[1;32m    478\u001b[0m \u001b[0;34m\u001b[0m\u001b[0m\n\u001b[1;32m    479\u001b[0m     \u001b[0;34m@\u001b[0m\u001b[0mif_delegate_has_method\u001b[0m\u001b[0;34m(\u001b[0m\u001b[0mdelegate\u001b[0m\u001b[0;34m=\u001b[0m\u001b[0;34m(\u001b[0m\u001b[0;34m'best_estimator_'\u001b[0m\u001b[0;34m,\u001b[0m \u001b[0;34m'estimator'\u001b[0m\u001b[0;34m)\u001b[0m\u001b[0;34m)\u001b[0m\u001b[0;34m\u001b[0m\u001b[0;34m\u001b[0m\u001b[0m\n",
            "\u001b[0;32m/usr/local/lib/python3.7/dist-packages/sklearn/naive_bayes.py\u001b[0m in \u001b[0;36mpredict\u001b[0;34m(self, X)\u001b[0m\n\u001b[1;32m     75\u001b[0m         \u001b[0mcheck_is_fitted\u001b[0m\u001b[0;34m(\u001b[0m\u001b[0mself\u001b[0m\u001b[0;34m)\u001b[0m\u001b[0;34m\u001b[0m\u001b[0;34m\u001b[0m\u001b[0m\n\u001b[1;32m     76\u001b[0m         \u001b[0mX\u001b[0m \u001b[0;34m=\u001b[0m \u001b[0mself\u001b[0m\u001b[0;34m.\u001b[0m\u001b[0m_check_X\u001b[0m\u001b[0;34m(\u001b[0m\u001b[0mX\u001b[0m\u001b[0;34m)\u001b[0m\u001b[0;34m\u001b[0m\u001b[0;34m\u001b[0m\u001b[0m\n\u001b[0;32m---> 77\u001b[0;31m         \u001b[0mjll\u001b[0m \u001b[0;34m=\u001b[0m \u001b[0mself\u001b[0m\u001b[0;34m.\u001b[0m\u001b[0m_joint_log_likelihood\u001b[0m\u001b[0;34m(\u001b[0m\u001b[0mX\u001b[0m\u001b[0;34m)\u001b[0m\u001b[0;34m\u001b[0m\u001b[0;34m\u001b[0m\u001b[0m\n\u001b[0m\u001b[1;32m     78\u001b[0m         \u001b[0;32mreturn\u001b[0m \u001b[0mself\u001b[0m\u001b[0;34m.\u001b[0m\u001b[0mclasses_\u001b[0m\u001b[0;34m[\u001b[0m\u001b[0mnp\u001b[0m\u001b[0;34m.\u001b[0m\u001b[0margmax\u001b[0m\u001b[0;34m(\u001b[0m\u001b[0mjll\u001b[0m\u001b[0;34m,\u001b[0m \u001b[0maxis\u001b[0m\u001b[0;34m=\u001b[0m\u001b[0;36m1\u001b[0m\u001b[0;34m)\u001b[0m\u001b[0;34m]\u001b[0m\u001b[0;34m\u001b[0m\u001b[0;34m\u001b[0m\u001b[0m\n\u001b[1;32m     79\u001b[0m \u001b[0;34m\u001b[0m\u001b[0m\n",
            "\u001b[0;32m/usr/local/lib/python3.7/dist-packages/sklearn/naive_bayes.py\u001b[0m in \u001b[0;36m_joint_log_likelihood\u001b[0;34m(self, X)\u001b[0m\n\u001b[1;32m   1000\u001b[0m         \u001b[0;32mif\u001b[0m \u001b[0mn_features_X\u001b[0m \u001b[0;34m!=\u001b[0m \u001b[0mn_features\u001b[0m\u001b[0;34m:\u001b[0m\u001b[0;34m\u001b[0m\u001b[0;34m\u001b[0m\u001b[0m\n\u001b[1;32m   1001\u001b[0m             raise ValueError(\"Expected input with %d features, got %d instead\"\n\u001b[0;32m-> 1002\u001b[0;31m                              % (n_features, n_features_X))\n\u001b[0m\u001b[1;32m   1003\u001b[0m \u001b[0;34m\u001b[0m\u001b[0m\n\u001b[1;32m   1004\u001b[0m         \u001b[0mneg_prob\u001b[0m \u001b[0;34m=\u001b[0m \u001b[0mnp\u001b[0m\u001b[0;34m.\u001b[0m\u001b[0mlog\u001b[0m\u001b[0;34m(\u001b[0m\u001b[0;36m1\u001b[0m \u001b[0;34m-\u001b[0m \u001b[0mnp\u001b[0m\u001b[0;34m.\u001b[0m\u001b[0mexp\u001b[0m\u001b[0;34m(\u001b[0m\u001b[0mself\u001b[0m\u001b[0;34m.\u001b[0m\u001b[0mfeature_log_prob_\u001b[0m\u001b[0;34m)\u001b[0m\u001b[0;34m)\u001b[0m\u001b[0;34m\u001b[0m\u001b[0;34m\u001b[0m\u001b[0m\n",
            "\u001b[0;31mValueError\u001b[0m: Expected input with 12 features, got 23 instead"
          ]
        }
      ]
    }
  ]
}